{
 "cells": [
  {
   "cell_type": "code",
   "execution_count": 1,
   "metadata": {},
   "outputs": [
    {
     "name": "stdout",
     "output_type": "stream",
     "text": [
      "1.4.0\n",
      "0.10.0\n"
     ]
    }
   ],
   "source": [
    "import flow\n",
    "import numpy as np\n",
    "import signac\n",
    "from project import MyProject\n",
    "\n",
    "print(signac.__version__)\n",
    "print(flow.__version__)"
   ]
  },
  {
   "cell_type": "markdown",
   "metadata": {},
   "source": [
    "### Before running this notebook:\n",
    "\n",
    "First, run `python init.py` at least once to initialize the project. \n",
    "\n",
    "Then, run `python project.py run`, which will run all the operations in `project.py`.\n",
    "\n",
    "Then, we get obtain a project handle."
   ]
  },
  {
   "cell_type": "code",
   "execution_count": 2,
   "metadata": {},
   "outputs": [
    {
     "name": "stdout",
     "output_type": "stream",
     "text": [
      "Ideal-Gas-Example-Project\n"
     ]
    }
   ],
   "source": [
    "project = MyProject()\n",
    "print(project)"
   ]
  },
  {
   "cell_type": "markdown",
   "metadata": {},
   "source": [
    "Just like on the command line, we can display the project's status:"
   ]
  },
  {
   "cell_type": "code",
   "execution_count": 3,
   "metadata": {},
   "outputs": [
    {
     "name": "stderr",
     "output_type": "stream",
     "text": [
      "Collecting job status info: 100%|██████████| 10/10 [00:00<00:00, 483.20it/s]"
     ]
    },
    {
     "name": "stdout",
     "output_type": "stream",
     "text": [
      "\n",
      "Overview:\n",
      "\n",
      "Total # of jobs: 10\n",
      "\n",
      "label      ratio\n",
      "---------  --------------------------------------------------\n",
      "started    |████████████████████████████████████████| 100.00%\n",
      "sampled    |████████████████████████████████████████| 100.00%\n",
      "estimated  |████████████████████████████████████████| 100.00%\n",
      "\n",
      "operation\n",
      "-----------\n",
      "\n",
      "\n",
      "Detailed View:\n",
      "\n",
      "job_id                            operation      p  labels\n",
      "--------------------------------  -----------  ---  ---------------------------\n",
      "63916753d859b746260110cc7fa466f6  [ ]          4    estimated, sampled, started\n",
      "f99063a7cd4cf487269f8c4ed43759c4  [ ]          5    estimated, sampled, started\n",
      "d9b62db8206b06b0e207131496540c23  [ ]          1    estimated, sampled, started\n",
      "90a557e41c1ecd6f5f4b4be0ab4db1f7  [ ]          2    estimated, sampled, started\n",
      "ef88d06507fcf26a0e78e1b9868e803e  [ ]          4.5  estimated, sampled, started\n",
      "711859c5bdd941ee517db2be3d720ddc  [ ]          3.5  estimated, sampled, started\n",
      "c824bd5f59d603800b38f13c00e87634  [ ]          1.5  estimated, sampled, started\n",
      "697b66d218349ff4cbfe6fa70e8f907c  [ ]          2.5  estimated, sampled, started\n",
      "6c3a7301a707e8da2314d4cc1c8a8b08  [ ]          3    estimated, sampled, started\n",
      "6772884f39399f7250be48b79da8e66c  [ ]          0.5  estimated, sampled, started\n",
      "\n",
      "[U]:unknown [R]:registered [I]:inactive [S]:submitted [H]:held [Q]:queued [A]:active [E]:error\n",
      "\n",
      "\n"
     ]
    },
    {
     "name": "stderr",
     "output_type": "stream",
     "text": [
      "\n"
     ]
    },
    {
     "data": {
      "text/plain": [
       "<flow.render_status.Renderer at 0x1380c2070>"
      ]
     },
     "execution_count": 3,
     "metadata": {},
     "output_type": "execute_result"
    }
   ],
   "source": [
    "project.print_status(detailed=True, parameters=[\"p\"])"
   ]
  },
  {
   "cell_type": "markdown",
   "metadata": {},
   "source": [
    "We want to compare the volume estimate using the ideal gas law and the measurements from the molecular dynamics simulation.\n",
    "\n",
    "We implement the `get_volume()` function to extract the volume from the log file."
   ]
  },
  {
   "cell_type": "code",
   "execution_count": 4,
   "metadata": {},
   "outputs": [
    {
     "name": "stdout",
     "output_type": "stream",
     "text": [
      "4.0 614.750191224\n",
      "5.0 593.777573608\n",
      "1.0 903.9505265920001\n",
      "2.0 741.011125508\n",
      "4.5 600.001185592\n",
      "3.5 634.2033970919999\n",
      "1.5 791.728728196\n",
      "2.5 686.3928969000001\n",
      "3.0 662.2078703\n",
      "0.5 1139.3264905719998\n"
     ]
    }
   ],
   "source": [
    "def get_volume(job):\n",
    "    try:\n",
    "        log = np.genfromtxt(job.fn(\"dump.log\"), names=True)\n",
    "        N = len(log)\n",
    "        return log[int(0.5 * N) :][\"volume\"].mean(axis=0)\n",
    "    except OSError:\n",
    "        pass\n",
    "\n",
    "\n",
    "for job in project.find_jobs():\n",
    "    print(job.statepoint()[\"p\"], get_volume(job))"
   ]
  },
  {
   "cell_type": "markdown",
   "metadata": {},
   "source": [
    "For a better presentation of the results we need to aggregate all results and sort them by pressure.\n",
    "\n",
    "*The following code requires matplotlib.*"
   ]
  },
  {
   "cell_type": "code",
   "execution_count": 6,
   "metadata": {},
   "outputs": [
    {
     "data": {
      "image/png": "[encoded data removed]",
      "text/plain": [
       "<Figure size 600x400 with 1 Axes>"
      ]
     },
     "metadata": {
      "needs_background": "light"
     },
     "output_type": "display_data"
    }
   ],
   "source": [
    "# Display plots within the notebook\n",
    "from matplotlib import pyplot as plt\n",
    "\n",
    "%matplotlib inline\n",
    "\n",
    "V = dict()\n",
    "V_idg = dict()\n",
    "\n",
    "for job in project.find_jobs():\n",
    "    V[job.statepoint()[\"p\"]] = get_volume(job)\n",
    "    V_idg[job.statepoint()[\"p\"]] = job.document[\"volume_estimate\"]\n",
    "\n",
    "p = sorted(V.keys())\n",
    "V = [V[p_] for p_ in p]\n",
    "V_idg = [V_idg[p_] for p_ in p]\n",
    "\n",
    "plt.figure(dpi=100)\n",
    "plt.plot(p, V, label=\"LJ\")\n",
    "plt.plot(p, V_idg, label=\"idG\")\n",
    "plt.xlabel(r\"pressure [$\\epsilon / \\sigma^3$]\")\n",
    "plt.ylabel(r\"volume [$\\sigma^3$]\")\n",
    "plt.legend()\n",
    "plt.show()"
   ]
  },
  {
   "cell_type": "code",
   "execution_count": null,
   "metadata": {},
   "outputs": [],
   "source": []
  }
 ],
 "metadata": {
  "kernelspec": {
   "display_name": "Python 3",
   "language": "python",
   "name": "python3"
  },
  "language_info": {
   "codemirror_mode": {
    "name": "ipython",
    "version": 3
   },
   "file_extension": ".py",
   "mimetype": "text/x-python",
   "name": "python",
   "nbconvert_exporter": "python",
   "pygments_lexer": "ipython3",
   "version": "3.8.1"
  }
 },
 "nbformat": 4,
 "nbformat_minor": 1
}
