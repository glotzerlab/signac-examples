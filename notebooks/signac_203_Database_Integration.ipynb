{
 "cells": [
  {
   "cell_type": "markdown",
   "metadata": {},
   "source": [
    "# 2.3 Integration with MongoDB databases\n",
    "\n",
    "Instead of storing the index in a variable or in a plain-text file, we could export it to any tool of our choice.\n",
    "For convenience, **signac** provides export routines for MongoDB database collections.\n",
    "\n",
    "**Please note: The following steps require pymongo and either a local MongoDB instance or a signac database configuration.**"
   ]
  },
  {
   "cell_type": "code",
   "execution_count": null,
   "metadata": {},
   "outputs": [],
   "source": [
    "import signac\n",
    "\n",
    "#\n",
    "# --- PLEASE UNCOMMENT ONE OF THE FOLLOWING TWO CONFIGURATIONS ---\n",
    "#\n",
    "\n",
    "# --- 1) USING A LOCAL MONGODB INSTANCE ---\n",
    "# from pymongo import MongoClient\n",
    "# client = MongoClient()\n",
    "# db = client.testing\n",
    "\n",
    "# --- 2) USING A SIGNAC DATABASE CONFIGURATION ---\n",
    "# db = signac.get_database('testing')\n",
    "\n",
    "# index = db.signac_tutorial_index\n",
    "# index.drop()\n",
    "# master_index = db.signac_tutorial_master_index\n",
    "# master_index.drop()"
   ]
  },
  {
   "cell_type": "markdown",
   "metadata": {},
   "source": [
    "We can export either the project index directly via:"
   ]
  },
  {
   "cell_type": "code",
   "execution_count": null,
   "metadata": {},
   "outputs": [],
   "source": [
    "# project = signac.get_project(root='projects/tutorial')\n",
    "\n",
    "# signac.export(project.index(), index)"
   ]
  },
  {
   "cell_type": "markdown",
   "metadata": {},
   "source": [
    "Or we compile and export a master index:"
   ]
  },
  {
   "cell_type": "code",
   "execution_count": null,
   "metadata": {},
   "outputs": [],
   "source": [
    "# signac.export(signac.index(), master_index, update=True)"
   ]
  },
  {
   "cell_type": "markdown",
   "metadata": {},
   "source": [
    "In both cases we can now use MongoDB's query engine for advanced search queries.\n",
    "For example, let's find the mean gas volume of water for the pressure range (2.0 < p <= 5.0):"
   ]
  },
  {
   "cell_type": "code",
   "execution_count": null,
   "metadata": {},
   "outputs": [],
   "source": [
    "# import numpy as np\n",
    "\n",
    "# query = {\n",
    "#    '$and': [{'statepoint.p': {'$gt': 2.0}}, {'statepoint.p': {'$lte': 5.0}}],\n",
    "#    'fluid': 'water',\n",
    "#    'V_gas': {'$exists': True}}\n",
    "# docs = master_index.find(query)\n",
    "# V = np.array([doc['V_gas'] for doc in docs])\n",
    "# print(V.mean())"
   ]
  }
 ],
 "metadata": {
  "kernelspec": {
   "display_name": "Python 3",
   "language": "python",
   "name": "python3"
  },
  "language_info": {
   "codemirror_mode": {
    "name": "ipython",
    "version": 3
   },
   "file_extension": ".py",
   "mimetype": "text/x-python",
   "name": "python",
   "nbconvert_exporter": "python",
   "pygments_lexer": "ipython3",
   "version": "3.8.3"
  }
 },
 "nbformat": 4,
 "nbformat_minor": 4
}
