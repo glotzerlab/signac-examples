{
 "cells": [
  {
   "cell_type": "markdown",
   "metadata": {},
   "source": [
    "# 3.1 signac-flow minimal example\n",
    "\n",
    "## About\n",
    "\n",
    "This notebook contains a minimal example for running a signac-flow project from scratch.\n",
    "The example demonstrates how to compare an ideal gas with a lennard jones fluid by calculating a p-V phase diagram.\n",
    "\n",
    "## Author\n",
    "\n",
    "Carl Simon Adorf\n",
    "\n",
    "## Before you start\n",
    "\n",
    "Make sure you installed signac and signac-flow, e.g., with:\n",
    "\n",
    "```\n",
    "conda install -c conda-forge signac signac-flow\n",
    "```"
   ]
  },
  {
   "cell_type": "code",
   "execution_count": null,
   "metadata": {},
   "outputs": [],
   "source": [
    "import numpy as np\n",
    "\n",
    "import flow\n",
    "import signac\n",
    "\n",
    "# Enter the signac project directory\n",
    "project = signac.init_project(\"FlowTutorialProject\", \"projects/tutorial-signac-flow\")"
   ]
  },
  {
   "cell_type": "markdown",
   "metadata": {},
   "source": [
    "We want to generate a pressure-volume (p-V) phase diagram for an ideal gas.\n",
    "\n",
    "We define a function to calculate the result for a given state point:"
   ]
  },
  {
   "cell_type": "code",
   "execution_count": null,
   "metadata": {},
   "outputs": [],
   "source": [
    "def V_idg(N, p, kT):\n",
    "    return N * kT / p"
   ]
  },
  {
   "cell_type": "markdown",
   "metadata": {},
   "source": [
    "We want to use **signac** to manage our data, therefore we define an *operation* which has only the *signac job* as argument:"
   ]
  },
  {
   "cell_type": "code",
   "execution_count": null,
   "metadata": {},
   "outputs": [],
   "source": [
    "def compute_volume(job):\n",
    "    job.document[\"V\"] = V_idg(**job.statepoint())"
   ]
  },
  {
   "cell_type": "markdown",
   "metadata": {},
   "source": [
    "For this demonstration we will specialize a `flow.FlowProject` to manage our simple *workflow*.\n",
    "\n",
    "The workflow is controlled by two core functions: `label()` and `next_operation()`:\n",
    " - The `labels()` function allows us to *label* our jobs and get a good overview of the project *status*. This is especially important once the data space becomes larger and more complex and operations more expensive.\n",
    " - The `next_operation()` functions helps to automate the workflow by identifying the next required operation for each job.\n",
    " \n",
    " In this case there is only **one** operation:"
   ]
  },
  {
   "cell_type": "code",
   "execution_count": null,
   "metadata": {},
   "outputs": [],
   "source": [
    "class MyProject(flow.FlowProject):\n",
    "    def labels(self, job):\n",
    "        yield \"init\"\n",
    "        if \"V\" in job.document:\n",
    "            yield \"estimated\"\n",
    "\n",
    "    def next_operation(self, job):\n",
    "        labels = set(self.labels(job))\n",
    "        if \"V\" not in job.document:\n",
    "            return \"compute_volume\""
   ]
  },
  {
   "cell_type": "markdown",
   "metadata": {},
   "source": [
    "We need to use the `get_project()` *class method* to get a project handle for this special project class."
   ]
  },
  {
   "cell_type": "code",
   "execution_count": null,
   "metadata": {},
   "outputs": [],
   "source": [
    "project = MyProject.get_project(root=\"projects/tutorial-signac-flow\")"
   ]
  },
  {
   "cell_type": "markdown",
   "metadata": {},
   "source": [
    "Now it's time to actually generate some data! Let's initialize the data space!\n"
   ]
  },
  {
   "cell_type": "code",
   "execution_count": null,
   "metadata": {},
   "outputs": [],
   "source": [
    "for p in np.linspace(0.5, 5.0, 10):\n",
    "    sp = dict(N=1728, kT=1.0, p=p)\n",
    "    project.open_job(sp).init()"
   ]
  },
  {
   "cell_type": "markdown",
   "metadata": {},
   "source": [
    "The `print_status()` function allows to get a quick overview of our project's *status*:"
   ]
  },
  {
   "cell_type": "code",
   "execution_count": null,
   "metadata": {},
   "outputs": [],
   "source": [
    "project.print_status(detailed=True, parameters=[\"p\"]);"
   ]
  },
  {
   "cell_type": "markdown",
   "metadata": {},
   "source": [
    "The next cell will attempt to execute all operations by cycling through jobs and operations until no *next operations* are defined anymore.\n",
    "\n",
    "We limit the max. number of cycles to prevent accidental infinite loops, the number of cycles is arbitrary."
   ]
  },
  {
   "cell_type": "code",
   "execution_count": null,
   "metadata": {},
   "outputs": [],
   "source": [
    "for i in range(3):\n",
    "    for job in project:\n",
    "        for j in range(5):\n",
    "            next_op = project.next_operation(job)\n",
    "            if next_op is None:\n",
    "                break\n",
    "            print(\"execute\", job, next_op)\n",
    "            globals()[next_op](job)\n",
    "            assert next_op != project.next_operation(job)\n",
    "        else:\n",
    "            raise RuntimeError(\"Reached max. # cycle limit!\")"
   ]
  },
  {
   "cell_type": "markdown",
   "metadata": {},
   "source": [
    "Let's double check the project status."
   ]
  },
  {
   "cell_type": "code",
   "execution_count": null,
   "metadata": {},
   "outputs": [],
   "source": [
    "project.print_status();"
   ]
  },
  {
   "cell_type": "markdown",
   "metadata": {},
   "source": [
    "After running all operations we can make a brief examination of the collected data."
   ]
  },
  {
   "cell_type": "code",
   "execution_count": null,
   "metadata": {},
   "outputs": [],
   "source": [
    "for job in project:\n",
    "    print(job.statepoint()[\"p\"], job.document.get(\"V\"))"
   ]
  },
  {
   "cell_type": "markdown",
   "metadata": {},
   "source": [
    "For a better presentation of the results we need to aggregate all results and sort them by pressure."
   ]
  },
  {
   "cell_type": "code",
   "execution_count": null,
   "metadata": {},
   "outputs": [],
   "source": [
    "%matplotlib inline\n",
    "\n",
    "from matplotlib import pyplot as plt\n",
    "\n",
    "V = {}\n",
    "\n",
    "for job in project:\n",
    "    V[job.statepoint()[\"p\"]] = job.document[\"V\"]\n",
    "\n",
    "p = sorted(V.keys())\n",
    "V = [V[p_] for p_ in p]\n",
    "print(V)\n",
    "\n",
    "plt.plot(p, V, label=\"idG\")\n",
    "plt.xlabel(r\"pressure [$\\epsilon / \\sigma^3$]\")\n",
    "plt.ylabel(r\"volume [$\\sigma^3$]\")\n",
    "plt.legend()\n",
    "plt.show()"
   ]
  },
  {
   "cell_type": "markdown",
   "metadata": {},
   "source": [
    "As a a final step, we ca generate a index of our project data.\n",
    "You can store this index in a variable or within a database, e.g., for search operations."
   ]
  },
  {
   "cell_type": "code",
   "execution_count": null,
   "metadata": {
    "scrolled": true
   },
   "outputs": [],
   "source": [
    "for doc in project.index():\n",
    "    print(doc)"
   ]
  },
  {
   "cell_type": "markdown",
   "metadata": {},
   "source": [
    "Uncomment and execute the following line to remove all data and start over."
   ]
  },
  {
   "cell_type": "code",
   "execution_count": null,
   "metadata": {},
   "outputs": [],
   "source": [
    "# %rm -r projects/tutorial-signac-flow/workspace"
   ]
  }
 ],
 "metadata": {
  "kernelspec": {
   "display_name": "Python 3",
   "language": "python",
   "name": "python3"
  },
  "language_info": {
   "codemirror_mode": {
    "name": "ipython",
    "version": 3
   },
   "file_extension": ".py",
   "mimetype": "text/x-python",
   "name": "python",
   "nbconvert_exporter": "python",
   "pygments_lexer": "ipython3",
   "version": "3.8.3"
  }
 },
 "nbformat": 4,
 "nbformat_minor": 4
}
