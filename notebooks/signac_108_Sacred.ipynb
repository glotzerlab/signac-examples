{
 "cells": [
  {
   "cell_type": "markdown",
   "id": "martial-motorcycle",
   "metadata": {},
   "source": [
    "# 1.8 Integration with Sacred\n",
    "\n",
    "Integrating a [sacred]( https://sacred.readthedocs.io/) experiment with **signac-flow** is very simple.\n",
    "Assuming the following sacred experiment defined in a ``experiment.py`` module:"
   ]
  },
  {
   "cell_type": "code",
   "execution_count": 1,
   "id": "standing-russell",
   "metadata": {},
   "outputs": [],
   "source": [
    "from sacred import Experiment\n",
    "\n",
    "ex = Experiment()\n",
    "\n",
    "\n",
    "@ex.main\n",
    "def hello(foo):\n",
    "    print(\"hello\", foo)"
   ]
  },
  {
   "cell_type": "markdown",
   "id": "acknowledged-monthly",
   "metadata": {},
   "source": [
    "Then we can integrate that experiment on a *per job* basis like this:"
   ]
  },
  {
   "cell_type": "code",
   "execution_count": 2,
   "id": "perfect-breakdown",
   "metadata": {},
   "outputs": [],
   "source": [
    "class SacredProject(FlowProject):\n",
    "    pass\n",
    "\n",
    "\n",
    "@SacredProject.operation\n",
    "def run_experiment(job):\n",
    "    ex.add_config(**job.sp())\n",
    "    ex.observers[:] = [FileStorageObserver.create(job.fn(\"my_runs\"))]\n",
    "    ex.run()\n",
    "\n",
    "\n",
    "if __name__ == \"__main__\":\n",
    "    SacredProject().main()"
   ]
  },
  {
   "cell_type": "code",
   "execution_count": null,
   "id": "opposite-dollar",
   "metadata": {},
   "outputs": [],
   "source": []
  }
 ],
 "metadata": {
  "kernelspec": {
   "display_name": "Python 3",
   "language": "python",
   "name": "python3"
  },
  "language_info": {
   "codemirror_mode": {
    "name": "ipython",
    "version": 3
   },
   "file_extension": ".py",
   "mimetype": "text/x-python",
   "name": "python",
   "nbconvert_exporter": "python",
   "pygments_lexer": "ipython3",
   "version": "3.8.6"
  }
 },
 "nbformat": 4,
 "nbformat_minor": 5
}
