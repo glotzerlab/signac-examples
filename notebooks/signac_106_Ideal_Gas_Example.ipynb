{
 "cells": [
  {
   "cell_type": "markdown",
   "metadata": {},
   "source": [
    "# 1.6 signac-flow minimal example\n",
    "\n",
    "<div class=\"alert alert-warning\">\n",
    "\n",
    "Note: This example is in the process of being updated for the latest versions of signac and signac-flow.\n",
    "    \n",
    "    \n",
    "</div>\n",
    "\n",
    "\n",
    "## About\n",
    "\n",
    "This notebook contains a minimal example for running a signac-flow project from scratch.\n",
    "The example demonstrates how to compare an ideal gas with a Lennard-Jones fluid by calculating a p-V phase diagram.\n",
    "\n",
    "## Author\n",
    "\n",
    "Carl Simon Adorf\n",
    "\n",
    "## Before you start\n",
    "\n",
    "Make sure you installed signac and signac-flow, e.g., with:\n",
    "\n",
    "```\n",
    "conda install -c conda-forge signac signac-flow\n",
    "```"
   ]
  },
  {
   "cell_type": "code",
   "execution_count": 1,
   "metadata": {},
   "outputs": [],
   "source": [
    "import flow\n",
    "import numpy as np\n",
    "import signac\n",
    "\n",
    "# Enter the signac project directory\n",
    "project = signac.init_project(\n",
    "    name=\"FlowTutorialProject\", root=\"projects/tutorial-signac-flow\"\n",
    ")"
   ]
  },
  {
   "cell_type": "markdown",
   "metadata": {},
   "source": [
    "We want to generate a pressure-volume (p-V) phase diagram for an ideal gas.\n",
    "\n",
    "We define a function to calculate the result for a given state point:"
   ]
  },
  {
   "cell_type": "code",
   "execution_count": 2,
   "metadata": {},
   "outputs": [],
   "source": [
    "def V_idg(N, p, kT):\n",
    "    return N * kT / p"
   ]
  },
  {
   "cell_type": "markdown",
   "metadata": {},
   "source": [
    "We want to use **signac** to manage our data, therefore we define an *operation* which has only the *signac job* as argument:"
   ]
  },
  {
   "cell_type": "code",
   "execution_count": 3,
   "metadata": {},
   "outputs": [],
   "source": [
    "def compute_volume(job):\n",
    "    job.document[\"V\"] = V_idg(**job.statepoint())"
   ]
  },
  {
   "cell_type": "markdown",
   "metadata": {},
   "source": [
    "For this demonstration we will specialize a `flow.FlowProject` to manage our simple *workflow*.\n",
    "\n",
    "The workflow is controlled by two core functions: `label()` and `next_operation()`:\n",
    " - The `labels()` function allows us to *label* our jobs and get a good overview of the project *status*. This is especially important once the data space becomes larger and more complex and operations more expensive.\n",
    " - The `next_operation()` functions helps to automate the workflow by identifying the next required operation for each job.\n",
    " \n",
    " In this case there is only **one** operation:"
   ]
  },
  {
   "cell_type": "code",
   "execution_count": 4,
   "metadata": {},
   "outputs": [],
   "source": [
    "class MyProject(flow.FlowProject):\n",
    "    def labels(self, job):\n",
    "        yield \"init\"\n",
    "        if \"V\" in job.document:\n",
    "            yield \"estimated\"\n",
    "\n",
    "    def next_operation(self, job):\n",
    "        labels = set(self.labels(job))\n",
    "        if \"V\" not in job.document:\n",
    "            return \"compute_volume\""
   ]
  },
  {
   "cell_type": "markdown",
   "metadata": {},
   "source": [
    "We need to use the `get_project()` *class method* to get a project handle for this special project class."
   ]
  },
  {
   "cell_type": "code",
   "execution_count": 5,
   "metadata": {},
   "outputs": [],
   "source": [
    "project = MyProject.get_project(root=\"projects/tutorial-signac-flow\")"
   ]
  },
  {
   "cell_type": "markdown",
   "metadata": {},
   "source": [
    "Now it's time to actually generate some data! Let's initialize the data space!\n"
   ]
  },
  {
   "cell_type": "code",
   "execution_count": 6,
   "metadata": {},
   "outputs": [
    {
     "name": "stdout",
     "output_type": "stream",
     "text": [
      "a14ee3104f26974b22bb84f62500c84d\n",
      "55d4d6ebbc04a1f8a259a2c5de197328\n",
      "4b299db86ff480f92e520eac91112108\n",
      "26e2f19b5b211edb80ebe60a5a62bd75\n",
      "75c10d0fa7a4f4b4742ce5e9c119e8bd\n",
      "46859989efcfd89653fa65db2375884b\n",
      "f3f3c351f81acd2140edd239b9183af4\n",
      "b38e30524c2c36e3ebfe50481eb91992\n",
      "bb277ac022ce744d38f9e87c1fabe08c\n",
      "6f9bc79d670e42d4a40041ce7be9cdaf\n"
     ]
    }
   ],
   "source": [
    "for p in np.linspace(0.5, 5.0, 10):\n",
    "    sp = dict(N=1728, kT=1.0, p=p)\n",
    "    job = project.open_job(sp)\n",
    "    print(job.id)\n",
    "    job.init()"
   ]
  },
  {
   "cell_type": "markdown",
   "metadata": {},
   "source": [
    "The `print_status()` function allows to get a quick overview of our project's *status*:"
   ]
  },
  {
   "cell_type": "code",
   "execution_count": 7,
   "metadata": {},
   "outputs": [
    {
     "data": {
      "application/vnd.jupyter.widget-view+json": {
       "model_id": "fb8f3510b66d4a66838cd057f633ab48",
       "version_major": 2,
       "version_minor": 0
      },
      "text/plain": [
       "HBox(children=(HTML(value='Fetching status'), FloatProgress(value=1.0, bar_style='info', layout=Layout(width='…"
      ]
     },
     "metadata": {},
     "output_type": "display_data"
    },
    {
     "name": "stdout",
     "output_type": "stream",
     "text": [
      "\n"
     ]
    },
    {
     "data": {
      "application/vnd.jupyter.widget-view+json": {
       "model_id": "12795bb733744751b09affe9b10adc55",
       "version_major": 2,
       "version_minor": 0
      },
      "text/plain": [
       "HBox(children=(HTML(value='Fetching labels'), FloatProgress(value=0.0, max=10.0), HTML(value='')))"
      ]
     },
     "metadata": {},
     "output_type": "display_data"
    },
    {
     "name": "stdout",
     "output_type": "stream",
     "text": [
      "\n",
      "\n",
      "Overview:\n",
      "\n",
      "Total # of jobs: 10\n",
      "\n",
      "label    ratio\n",
      "-------  --------------------------------------------------\n",
      "init     |████████████████████████████████████████| 100.00%\n",
      "\n",
      "operation\n",
      "-----------\n",
      "\n",
      "\n",
      "Detailed View:\n",
      "\n",
      "job id                            operation    labels\n",
      "--------------------------------  -----------  --------\n",
      "75c10d0fa7a4f4b4742ce5e9c119e8bd  [ ]          init\n",
      "46859989efcfd89653fa65db2375884b  [ ]          init\n",
      "a14ee3104f26974b22bb84f62500c84d  [ ]          init\n",
      "f3f3c351f81acd2140edd239b9183af4  [ ]          init\n",
      "55d4d6ebbc04a1f8a259a2c5de197328  [ ]          init\n",
      "b38e30524c2c36e3ebfe50481eb91992  [ ]          init\n",
      "bb277ac022ce744d38f9e87c1fabe08c  [ ]          init\n",
      "4b299db86ff480f92e520eac91112108  [ ]          init\n",
      "6f9bc79d670e42d4a40041ce7be9cdaf  [ ]          init\n",
      "26e2f19b5b211edb80ebe60a5a62bd75  [ ]          init\n",
      "\n",
      "[U]:unknown [R]:registered [I]:inactive [S]:submitted [H]:held [Q]:queued [A]:active [E]:error\n",
      "\n",
      "\n"
     ]
    }
   ],
   "source": [
    "project.print_status(detailed=True);"
   ]
  },
  {
   "cell_type": "markdown",
   "metadata": {},
   "source": [
    "The next cell will attempt to execute all operations by cycling through jobs and operations until no *next operations* are defined anymore.\n",
    "\n",
    "We limit the max. number of cycles to prevent accidental infinite loops, the number of cycles is arbitrary."
   ]
  },
  {
   "cell_type": "code",
   "execution_count": 8,
   "metadata": {},
   "outputs": [
    {
     "name": "stdout",
     "output_type": "stream",
     "text": [
      "execute 46859989efcfd89653fa65db2375884b compute_volume\n",
      "execute 4b299db86ff480f92e520eac91112108 compute_volume\n",
      "execute bb277ac022ce744d38f9e87c1fabe08c compute_volume\n",
      "execute 75c10d0fa7a4f4b4742ce5e9c119e8bd compute_volume\n",
      "execute f3f3c351f81acd2140edd239b9183af4 compute_volume\n",
      "execute 26e2f19b5b211edb80ebe60a5a62bd75 compute_volume\n",
      "execute 6f9bc79d670e42d4a40041ce7be9cdaf compute_volume\n",
      "execute a14ee3104f26974b22bb84f62500c84d compute_volume\n",
      "execute b38e30524c2c36e3ebfe50481eb91992 compute_volume\n",
      "execute 55d4d6ebbc04a1f8a259a2c5de197328 compute_volume\n"
     ]
    }
   ],
   "source": [
    "for i in range(3):\n",
    "    for job in project:\n",
    "        for j in range(5):\n",
    "            next_op = project.next_operation(job)\n",
    "            if next_op is None:\n",
    "                break\n",
    "            print(\"execute\", job, next_op)\n",
    "            globals()[next_op](job)\n",
    "            assert next_op != project.next_operation(job)\n",
    "        else:\n",
    "            raise RuntimeError(\"Reached max. # cycle limit!\")"
   ]
  },
  {
   "cell_type": "markdown",
   "metadata": {},
   "source": [
    "Let's double check the project status."
   ]
  },
  {
   "cell_type": "code",
   "execution_count": 9,
   "metadata": {},
   "outputs": [
    {
     "data": {
      "application/vnd.jupyter.widget-view+json": {
       "model_id": "0af58e5b0eaa4d6ab23dbd0cca14ace6",
       "version_major": 2,
       "version_minor": 0
      },
      "text/plain": [
       "HBox(children=(HTML(value='Fetching status'), FloatProgress(value=1.0, bar_style='info', layout=Layout(width='…"
      ]
     },
     "metadata": {},
     "output_type": "display_data"
    },
    {
     "name": "stdout",
     "output_type": "stream",
     "text": [
      "\n"
     ]
    },
    {
     "data": {
      "application/vnd.jupyter.widget-view+json": {
       "model_id": "ae2b03c06fb74484abd841ff3b69c3c4",
       "version_major": 2,
       "version_minor": 0
      },
      "text/plain": [
       "HBox(children=(HTML(value='Fetching labels'), FloatProgress(value=0.0, max=10.0), HTML(value='')))"
      ]
     },
     "metadata": {},
     "output_type": "display_data"
    },
    {
     "name": "stdout",
     "output_type": "stream",
     "text": [
      "\n",
      "\n",
      "Overview:\n",
      "\n",
      "Total # of jobs: 10\n",
      "\n",
      "label      ratio\n",
      "---------  --------------------------------------------------\n",
      "estimated  |████████████████████████████████████████| 100.00%\n",
      "init       |████████████████████████████████████████| 100.00%\n",
      "\n",
      "operation\n",
      "-----------\n",
      "\n",
      "\n",
      "\n"
     ]
    }
   ],
   "source": [
    "project.print_status();"
   ]
  },
  {
   "cell_type": "markdown",
   "metadata": {},
   "source": [
    "After running all operations we can make a brief examination of the collected data."
   ]
  },
  {
   "cell_type": "code",
   "execution_count": 10,
   "metadata": {},
   "outputs": [
    {
     "name": "stdout",
     "output_type": "stream",
     "text": [
      "3.0 576.0\n",
      "1.5 1152.0\n",
      "4.5 384.0\n",
      "2.5 691.2\n",
      "3.5 493.7142857142857\n",
      "2.0 864.0\n",
      "5.0 345.6\n",
      "0.5 3456.0\n",
      "4.0 432.0\n",
      "1.0 1728.0\n"
     ]
    }
   ],
   "source": [
    "for job in project:\n",
    "    print(job.statepoint()[\"p\"], job.document.get(\"V\"))"
   ]
  },
  {
   "cell_type": "markdown",
   "metadata": {},
   "source": [
    "For a better presentation of the results we need to aggregate all results and sort them by pressure."
   ]
  },
  {
   "cell_type": "code",
   "execution_count": 11,
   "metadata": {},
   "outputs": [
    {
     "name": "stdout",
     "output_type": "stream",
     "text": [
      "[3456.0, 1728.0, 1152.0, 864.0, 691.2, 576.0, 493.7142857142857, 432.0, 384.0, 345.6]\n"
     ]
    },
    {
     "data": {
      "image/png": "[encoded data removed]",
      "text/plain": [
       "<Figure size 432x288 with 1 Axes>"
      ]
     },
     "metadata": {
      "needs_background": "light"
     },
     "output_type": "display_data"
    }
   ],
   "source": [
    "%matplotlib inline\n",
    "\n",
    "from matplotlib import pyplot as plt\n",
    "\n",
    "V = {}\n",
    "\n",
    "for job in project:\n",
    "    V[job.statepoint()[\"p\"]] = job.document[\"V\"]\n",
    "\n",
    "p = sorted(V.keys())\n",
    "V = [V[p_] for p_ in p]\n",
    "print(V)\n",
    "\n",
    "plt.plot(p, V, label=\"idG\")\n",
    "plt.xlabel(r\"pressure [$\\epsilon / \\sigma^3$]\")\n",
    "plt.ylabel(r\"volume [$\\sigma^3$]\")\n",
    "plt.legend()\n",
    "plt.show()"
   ]
  },
  {
   "cell_type": "markdown",
   "metadata": {},
   "source": [
    "As a a final step, we can generate a index of our project data.\n",
    "You can store this index in a variable or within a database, e.g., for search operations."
   ]
  },
  {
   "cell_type": "code",
   "execution_count": 12,
   "metadata": {},
   "outputs": [
    {
     "name": "stdout",
     "output_type": "stream",
     "text": [
      "{'_id': '46859989efcfd89653fa65db2375884b', 'statepoint': {'N': 1728, 'kT': 1.0, 'p': 3.0}, 'V': 576.0, 'signac_id': '46859989efcfd89653fa65db2375884b', 'root': 'notebooks/projects/tutorial-signac-flow/workspace'}\n",
      "{'_id': '4b299db86ff480f92e520eac91112108', 'statepoint': {'N': 1728, 'kT': 1.0, 'p': 1.5}, 'V': 1152.0, 'signac_id': '4b299db86ff480f92e520eac91112108', 'root': 'notebooks/projects/tutorial-signac-flow/workspace'}\n",
      "{'_id': 'bb277ac022ce744d38f9e87c1fabe08c', 'statepoint': {'N': 1728, 'kT': 1.0, 'p': 4.5}, 'V': 384.0, 'signac_id': 'bb277ac022ce744d38f9e87c1fabe08c', 'root': 'notebooks/projects/tutorial-signac-flow/workspace'}\n",
      "{'_id': '75c10d0fa7a4f4b4742ce5e9c119e8bd', 'statepoint': {'N': 1728, 'kT': 1.0, 'p': 2.5}, 'V': 691.2, 'signac_id': '75c10d0fa7a4f4b4742ce5e9c119e8bd', 'root': 'notebooks/projects/tutorial-signac-flow/workspace'}\n",
      "{'_id': 'f3f3c351f81acd2140edd239b9183af4', 'statepoint': {'N': 1728, 'kT': 1.0, 'p': 3.5}, 'V': 493.7142857142857, 'signac_id': 'f3f3c351f81acd2140edd239b9183af4', 'root': 'notebooks/projects/tutorial-signac-flow/workspace'}\n",
      "{'_id': '26e2f19b5b211edb80ebe60a5a62bd75', 'statepoint': {'N': 1728, 'kT': 1.0, 'p': 2.0}, 'V': 864.0, 'signac_id': '26e2f19b5b211edb80ebe60a5a62bd75', 'root': 'notebooks/projects/tutorial-signac-flow/workspace'}\n",
      "{'_id': '6f9bc79d670e42d4a40041ce7be9cdaf', 'statepoint': {'N': 1728, 'kT': 1.0, 'p': 5.0}, 'V': 345.6, 'signac_id': '6f9bc79d670e42d4a40041ce7be9cdaf', 'root': 'notebooks/projects/tutorial-signac-flow/workspace'}\n",
      "{'_id': 'a14ee3104f26974b22bb84f62500c84d', 'statepoint': {'N': 1728, 'kT': 1.0, 'p': 0.5}, 'V': 3456.0, 'signac_id': 'a14ee3104f26974b22bb84f62500c84d', 'root': 'notebooks/projects/tutorial-signac-flow/workspace'}\n",
      "{'_id': 'b38e30524c2c36e3ebfe50481eb91992', 'statepoint': {'N': 1728, 'kT': 1.0, 'p': 4.0}, 'V': 432.0, 'signac_id': 'b38e30524c2c36e3ebfe50481eb91992', 'root': 'notebooks/projects/tutorial-signac-flow/workspace'}\n",
      "{'_id': '55d4d6ebbc04a1f8a259a2c5de197328', 'statepoint': {'N': 1728, 'kT': 1.0, 'p': 1.0}, 'V': 1728.0, 'signac_id': '55d4d6ebbc04a1f8a259a2c5de197328', 'root': 'notebooks/projects/tutorial-signac-flow/workspace'}\n"
     ]
    }
   ],
   "source": [
    "for doc in project.index():\n",
    "    print(doc)"
   ]
  },
  {
   "cell_type": "markdown",
   "metadata": {},
   "source": [
    "Uncomment and execute the following line to remove all data and start over."
   ]
  },
  {
   "cell_type": "code",
   "execution_count": 13,
   "metadata": {},
   "outputs": [],
   "source": [
    "# %rm -r projects/tutorial-signac-flow/workspace"
   ]
  }
 ],
 "metadata": {
  "kernelspec": {
   "display_name": "Python 3",
   "language": "python",
   "name": "python3"
  },
  "language_info": {
   "codemirror_mode": {
    "name": "ipython",
    "version": 3
   },
   "file_extension": ".py",
   "mimetype": "text/x-python",
   "name": "python",
   "nbconvert_exporter": "python",
   "pygments_lexer": "ipython3",
   "version": "3.8.6"
  }
 },
 "nbformat": 4,
 "nbformat_minor": 4
}
