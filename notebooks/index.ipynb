{
 "cells": [
  {
   "cell_type": "markdown",
   "metadata": {},
   "source": [
    "# signac - Tutorial and Examples\n",
    "\n",
    "This collection of Jupyter notebooks serves as a tutorial on how to implement a basic computational workflow using the [**signac**](https://signac.io/) data management framework.\n",
    "\n",
    "## Workflow Examples\n",
    "\n",
    "The sections within this chapter introduce the **signac** framework and demonstrate how to implement a simple, but complete computational workflow.\n",
    "\n",
    "* [1.1 Getting Started](signac_101_Getting_Started.ipynb)\n",
    "* [1.2 Exploring Data](signac_102_Exploring_Data.ipynb)\n",
    "* [1.3 A Basic Workflow](signac_103_A_Basic_Workflow.ipynb)\n",
    "* [1.4 Modifying the Data Space](signac_104_Modifying_the_Data_Space.ipynb)\n",
    "* [1.5 signac-flow Ideal Gas Example](signac_105_signac-flow_Ideal_Gas_Example.ipynb)\n",
    "* [1.6 signac-flow HOOMD-blue Example](signac_106_signac-flow_HOOMD-blue_Example.ipynb)\n",
    "* [1.7 Integration with Sacred](signac_107_Integration_with_Sacred.ipynb)\n",
    "\n",
    "## Analysis Examples\n",
    "\n",
    "The examples below use **signac** to analyze data and demonstrate integrations with other software.\n",
    "\n",
    "* [2.2 Integration with pandas](signac_202_Integration_with_pandas.ipynb)\n",
    "\n",
    "## Aggregation Examples\n",
    "\n",
    "This set of examples demonstrates [aggregation](https://docs.signac.io/en/latest/aggregation.html).\n",
    "\n",
    "* [3.1 Aggregation Tutorial](signac_301_Aggregation_Tutorial.ipynb)"
   ]
  }
 ],
 "metadata": {
  "kernelspec": {
   "display_name": "Python 3 (ipykernel)",
   "language": "python",
   "name": "python3"
  },
  "language_info": {
   "codemirror_mode": {
    "name": "ipython",
    "version": 3
   },
   "file_extension": ".py",
   "mimetype": "text/x-python",
   "name": "python",
   "nbconvert_exporter": "python",
   "pygments_lexer": "ipython3",
   "version": "3.9.15"
  }
 },
 "nbformat": 4,
 "nbformat_minor": 4
}
