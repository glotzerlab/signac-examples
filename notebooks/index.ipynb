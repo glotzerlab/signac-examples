{
 "cells": [
  {
   "cell_type": "markdown",
   "metadata": {},
   "source": [
    "# signac - Tutorial and Examples\n",
    "\n",
    "This collection of jupyter notebooks serves as a tutorial on how to implement a basic computational workflow using the [**signac**](https://glotzerlab.engin.umich.edu/signac) data management framework.\n",
    "The **signac** framework assists users in managing a (possibly highly complex) data space for example by simplifying provenance tracking and meta data management.\n",
    "\n",
    "## The Basics\n",
    "\n",
    "The sections within this chapter introduce the basic **signac** application interface and demonstrate how to implement  a simple, but complete computational workflow.\n",
    "\n",
    "* [1.1 Getting Started](signac_101_Getting_Started.ipynb)\n",
    "* [1.2 Exploring Data](signac_102_Exploring_Data.ipynb)\n",
    "* [1.3 A Basic Workflow](signac_103_A_Basic_Workflow.ipynb)\n",
    "* [1.4 Modifying the Data Space](signac_104_Modifying_the_Data_Space.ipynb)\n",
    "* [1.5 Command Line Interface (CLI)](signac_105_Command_Line_Interface.ipynb)\n",
    "\n",
    "## Advanced Topics\n",
    "\n",
    "Onnce you have mastered the basic **signac** functionalities, you can dive into slightly more advanced topics, such as data space indexing and the integration of other tools, such as pandas and databases.\n",
    "Since not all topics within this chapter are necessarily of interest to everyone, sections are less consecutive.\n",
    "Feel free to pick a topic of interest!\n",
    "\n",
    "* [2.1 Advanced indexing](signac_201_Advanced_Indexing.ipynb)\n",
    "* [2.2 Integration with pandas](signac_202_Integration_with_pandas.ipynb)\n",
    "* [2.3 Integration with Databases](signac_203_Database_Integration.ipynb)\n",
    "* [2.4 Integration of external Tools](signac_204_External_Tools.ipynb)\n",
    "\n",
    "## signac-flow\n",
    "\n",
    "The [**signac-flow** package](https://github.com/glotzerlab/signac-flow) implements the basic logic and routines introduced in section 1.3 and thus provides the basic infrastructure required for rapid workflow development.\n",
    "\n",
    "* [3.1 Ideal Gas Project](signac-flow_Ideal_Gas_Example.ipynb)\n",
    "* [3.2 Lennard-Jones HOOMD-blue project](signac-flow_HOOMD-blue.ipynb)"
   ]
  }
 ],
 "metadata": {
  "kernelspec": {
   "display_name": "Python 3",
   "language": "python",
   "name": "python3"
  },
  "language_info": {
   "codemirror_mode": {
    "name": "ipython",
    "version": 3
   },
   "file_extension": ".py",
   "mimetype": "text/x-python",
   "name": "python",
   "nbconvert_exporter": "python",
   "pygments_lexer": "ipython3",
   "version": "3.8.3"
  }
 },
 "nbformat": 4,
 "nbformat_minor": 4
}
