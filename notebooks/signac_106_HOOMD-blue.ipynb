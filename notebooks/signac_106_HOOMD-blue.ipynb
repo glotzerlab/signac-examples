{
 "cells": [
  {
   "cell_type": "markdown",
   "metadata": {},
   "source": [
    "# 3.2 signac-flow minimal example (with HOOMD-blue)\n",
    "\n",
    "## About\n",
    "\n",
    "This notebook contains a minimal example for running a *signac-flow* project from scratch.\n",
    "The example demonstrates how to compare an ideal gas with a Lennard-Jones (LJ) fluid by calculating a p-V phase diagram.\n",
    "\n",
    "This examples uses the general-purpose simulation toolkit [HOOMD-blue](http://glotzerlab.engin.umich.edu/hoomd-blue/) for the execution of the molecular-dynamics (MD) simulations.\n",
    "\n",
    "## Author\n",
    "\n",
    "Carl Simon Adorf\n",
    "\n",
    "## Before you start\n",
    "\n",
    "This example requires signac, signac-flow, HOOMD-blue and numpy.\n",
    "You can install these package for example via conda:\n",
    "```\n",
    "conda install -c conda-forge hoomd numpy signac signac-flow\n",
    "```"
   ]
  },
  {
   "cell_type": "code",
   "execution_count": null,
   "metadata": {},
   "outputs": [],
   "source": [
    "import hoomd\n",
    "import numpy as np\n",
    "\n",
    "import flow\n",
    "import signac\n",
    "\n",
    "# Initialize the HOOMD-blue execution context\n",
    "hoomd.context.initialize(\"\")\n",
    "\n",
    "project_root = \"projects/tutorial-signac-flow-hoomd-blue\"\n",
    "project = signac.init_project(\"FlowTutorialHOOMD-BlueProject\", project_root)"
   ]
  },
  {
   "cell_type": "markdown",
   "metadata": {},
   "source": [
    "We want to generate a pressure-volume phase diagram for a Lennard-Jones fluid with molecular dynamics (MD) using the general-purpose simulation toolkit HOOMD-blue (http://glotzerlab.engin.umich.edu/hoomd-blue/).\n",
    "\n",
    "We start by defining two functions, one for the initialization of our simulation and one for the actual execution."
   ]
  },
  {
   "cell_type": "code",
   "execution_count": null,
   "metadata": {},
   "outputs": [],
   "source": [
    "from math import ceil\n",
    "\n",
    "\n",
    "def init(N):\n",
    "    with hoomd.context.SimulationContext():\n",
    "        n = ceil(pow(N, 1 / 3))\n",
    "        assert n ** 3 == N\n",
    "        hoomd.init.create_lattice(unitcell=hoomd.lattice.sc(a=1.0), n=n)\n",
    "        hoomd.dump.gsd(\"init.gsd\", period=None, group=hoomd.group.all())\n",
    "\n",
    "\n",
    "def sample_lj(N, sigma, seed, kT, tau, p, tauP, steps, r_cut):\n",
    "    from hoomd import md\n",
    "\n",
    "    hoomd.init.read_gsd(\"init.gsd\", restart=\"restart.gsd\")\n",
    "    group = hoomd.group.all()\n",
    "    hoomd.dump.gsd(\"restart.gsd\", truncate=True, period=100, phase=0, group=group)\n",
    "    lj = md.pair.lj(r_cut=r_cut, nlist=md.nlist.cell())\n",
    "    lj.pair_coeff.set(\"A\", \"A\", epsilon=1.0, sigma=sigma)\n",
    "    md.integrate.mode_standard(dt=0.005)\n",
    "    md.integrate.npt(group=group, kT=kT, tau=tau, P=p, tauP=tauP)\n",
    "    hoomd.analyze.log(\"dump.log\", [\"volume\"], 100, phase=0)\n",
    "    hoomd.run_upto(steps)"
   ]
  },
  {
   "cell_type": "markdown",
   "metadata": {},
   "source": [
    "We want to use **signac** to manage our simulation data and bundle all operations modifying our data space in a `Operations` class. This will make it easier later to execute these operations *by name*.\n",
    "\n",
    "The `estimate` operation stores an ideal gas estimation of the volume for the given system.\n",
    "The `sample` operation actually executes the MD simulation as defined in the previous cell.\n",
    "We define all operations as static methods of an `Operations` class in order to keep them in a separate namespace."
   ]
  },
  {
   "cell_type": "code",
   "execution_count": null,
   "metadata": {},
   "outputs": [],
   "source": [
    "def estimate(job):\n",
    "    sp = job.statepoint()\n",
    "    job.document[\"V\"] = sp[\"N\"] * sp[\"kT\"] / sp[\"p\"]\n",
    "\n",
    "\n",
    "def sample(job):\n",
    "    import hoomd\n",
    "\n",
    "    with job:\n",
    "        with hoomd.context.SimulationContext():\n",
    "            try:\n",
    "                sample_lj(steps=5000, **job.statepoint())\n",
    "            finally:\n",
    "                job.document[\"sample_step\"] = hoomd.get_step()"
   ]
  },
  {
   "cell_type": "code",
   "execution_count": null,
   "metadata": {},
   "outputs": [],
   "source": [
    "for job in project:\n",
    "    print(job.document)"
   ]
  },
  {
   "cell_type": "markdown",
   "metadata": {},
   "source": [
    "Now that we have defined all *operations* it's time to embed them into a general *workflow*.\n",
    "For this purpose we specialize a `flow.FlowProject`.\n",
    "\n",
    "The workflow is controlled by two core functions: `classify()` and `next_operation()`:\n",
    " - The `classify()` function allows us to *label* our jobs and get a good overview of the project *status*. This is especially important once the data space becomes larger and more complex and operations more expensive.\n",
    " - The `next_operation()` functions helps to automate the workflow by identifying the next required operation for each job."
   ]
  },
  {
   "cell_type": "code",
   "execution_count": null,
   "metadata": {},
   "outputs": [],
   "source": [
    "class MyProject(flow.FlowProject):\n",
    "    def classify(self, job):\n",
    "        yield \"init\"\n",
    "        if \"V\" in job.document:\n",
    "            yield \"estimated\"\n",
    "        if job.document.get(\"sample_step\", 0) >= 5000:\n",
    "            yield \"sampled\"\n",
    "\n",
    "    def next_operation(self, job):\n",
    "        labels = set(self.classify(job))\n",
    "        if \"V\" not in job.document:\n",
    "            return \"estimate\"\n",
    "        if \"sampled\" not in labels:\n",
    "            return \"sample\""
   ]
  },
  {
   "cell_type": "markdown",
   "metadata": {},
   "source": [
    "We need to use the `get_project()` *class method* to get a project handle for this special project class."
   ]
  },
  {
   "cell_type": "code",
   "execution_count": null,
   "metadata": {},
   "outputs": [],
   "source": [
    "project = MyProject.get_project(root=project_root)"
   ]
  },
  {
   "cell_type": "markdown",
   "metadata": {},
   "source": [
    "Now it's time to actually generate some data! Let's initialize the data space!\n"
   ]
  },
  {
   "cell_type": "code",
   "execution_count": null,
   "metadata": {},
   "outputs": [],
   "source": [
    "# Uncomment the following two lines if you want to start over!\n",
    "# for job in project:\n",
    "#     job.remove()\n",
    "\n",
    "for p in np.linspace(0.5, 5.0, 10):\n",
    "    sp = dict(N=512, sigma=1.0, seed=42, kT=1.0, p=p, tau=1.0, tauP=1.0, r_cut=2.5)\n",
    "    with project.open_job(sp):\n",
    "        init(N=sp[\"N\"])"
   ]
  },
  {
   "cell_type": "markdown",
   "metadata": {},
   "source": [
    "The `print_status()` function allows to get a quick overview of our project's *status*:"
   ]
  },
  {
   "cell_type": "code",
   "execution_count": null,
   "metadata": {},
   "outputs": [],
   "source": [
    "project.print_status(detailed=True, parameters=[\"p\"]);"
   ]
  },
  {
   "cell_type": "markdown",
   "metadata": {},
   "source": [
    "The next cell will attempt to execute all operations by cycling through jobs and operations until no *next operations* are defined anymore.\n",
    "\n",
    "We limit the max. number of cycles to prevent accidental infinite loops, the number of cycles is arbitrary."
   ]
  },
  {
   "cell_type": "code",
   "execution_count": null,
   "metadata": {},
   "outputs": [],
   "source": [
    "for i in range(3):\n",
    "    for job in project:\n",
    "        for j in range(5):\n",
    "            next_op = project.next_operation(job)\n",
    "            if next_op is None:\n",
    "                break\n",
    "            print(\"execute\", job, next_op)\n",
    "            globals()[next_op](job)\n",
    "            assert next_op != project.next_operation(job)\n",
    "        else:\n",
    "            raise RuntimeError(\"Reached max. # cycle limit!\")"
   ]
  },
  {
   "cell_type": "markdown",
   "metadata": {},
   "source": [
    "Let's double check the project status."
   ]
  },
  {
   "cell_type": "code",
   "execution_count": null,
   "metadata": {},
   "outputs": [],
   "source": [
    "project.print_status();"
   ]
  },
  {
   "cell_type": "markdown",
   "metadata": {},
   "source": [
    "After running all operations we can make a brief examination of the collected data."
   ]
  },
  {
   "cell_type": "code",
   "execution_count": null,
   "metadata": {},
   "outputs": [],
   "source": [
    "def get_volume(job):\n",
    "    log = np.genfromtxt(job.fn(\"dump.log\"), names=True)\n",
    "    N = len(log)\n",
    "    return log[int(0.5 * N) :][\"volume\"].mean(axis=0)\n",
    "\n",
    "\n",
    "for job in project:\n",
    "    print(job.statepoint()[\"p\"], get_volume(job), job.document.get(\"V\"))"
   ]
  },
  {
   "cell_type": "markdown",
   "metadata": {},
   "source": [
    "For a better presentation of the results we need to aggregate all results and sort them by pressure.\n",
    "\n",
    "*The following code requires matplotlib.*"
   ]
  },
  {
   "cell_type": "code",
   "execution_count": null,
   "metadata": {},
   "outputs": [],
   "source": [
    "%matplotlib inline\n",
    "# Display plots within the notebook\n",
    "\n",
    "from matplotlib import pyplot as plt\n",
    "\n",
    "V = dict()\n",
    "V_idg = dict()\n",
    "\n",
    "for job in project:\n",
    "    V[job.statepoint()[\"p\"]] = get_volume(job)\n",
    "    V_idg[job.statepoint()[\"p\"]] = job.document[\"V\"]\n",
    "\n",
    "p = sorted(V.keys())\n",
    "V = [V[p_] for p_ in p]\n",
    "V_idg = [V_idg[p_] for p_ in p]\n",
    "\n",
    "plt.plot(p, V, label=\"LJ\")\n",
    "plt.plot(p, V_idg, label=\"idG\")\n",
    "plt.xlabel(r\"pressure [$\\epsilon / \\sigma^3$]\")\n",
    "plt.ylabel(r\"volume [$\\sigma^3$]\")\n",
    "plt.legend()\n",
    "plt.show()"
   ]
  },
  {
   "cell_type": "markdown",
   "metadata": {},
   "source": [
    "Uncomment and execute the following line to remove all data and start over."
   ]
  },
  {
   "cell_type": "code",
   "execution_count": null,
   "metadata": {},
   "outputs": [],
   "source": [
    "# %rm -r projects/tutorial-signac-flow-hoomd-blue/workspace"
   ]
  }
 ],
 "metadata": {
  "kernelspec": {
   "display_name": "Python 3",
   "language": "python",
   "name": "python3"
  },
  "language_info": {
   "codemirror_mode": {
    "name": "ipython",
    "version": 3
   },
   "file_extension": ".py",
   "mimetype": "text/x-python",
   "name": "python",
   "nbconvert_exporter": "python",
   "pygments_lexer": "ipython3",
   "version": "3.8.3"
  }
 },
 "nbformat": 4,
 "nbformat_minor": 4
}
