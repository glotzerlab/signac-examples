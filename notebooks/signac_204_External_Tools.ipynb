{
 "cells": [
  {
   "cell_type": "markdown",
   "metadata": {},
   "source": [
    "# 2.4 External Tools\n",
    "\n",
    "The following section demonstrates how to use the **signac** command line interface (CLI) in conjunction with other tools."
   ]
  },
  {
   "cell_type": "code",
   "execution_count": null,
   "metadata": {
    "scrolled": true
   },
   "outputs": [],
   "source": [
    "%%bash\n",
    "signac --help"
   ]
  },
  {
   "cell_type": "markdown",
   "metadata": {},
   "source": [
    "To interact with a project on the command line, the current working directory needs to be within or below the project root directory.\n",
    "Let's start by reseting the designated project root directory for this section of the tutorial."
   ]
  },
  {
   "cell_type": "code",
   "execution_count": null,
   "metadata": {},
   "outputs": [],
   "source": [
    "%pwd\n",
    "%rm -rf projects/tutorial/cli\n",
    "%mkdir -p projects/tutorial/cli\n",
    "%cp idg projects/tutorial/cli"
   ]
  },
  {
   "cell_type": "markdown",
   "metadata": {},
   "source": [
    "Next we switch the current working directory to the project root directory."
   ]
  },
  {
   "cell_type": "code",
   "execution_count": null,
   "metadata": {},
   "outputs": [],
   "source": [
    "%cd projects/tutorial/cli"
   ]
  },
  {
   "cell_type": "markdown",
   "metadata": {},
   "source": [
    "Then we initialize the project."
   ]
  },
  {
   "cell_type": "code",
   "execution_count": null,
   "metadata": {},
   "outputs": [],
   "source": [
    "%%bash\n",
    "signac init TutorialCLIProject"
   ]
  },
  {
   "cell_type": "markdown",
   "metadata": {},
   "source": [
    "We can verify the project configuration."
   ]
  },
  {
   "cell_type": "code",
   "execution_count": null,
   "metadata": {},
   "outputs": [],
   "source": [
    "%%bash\n",
    "signac project\n",
    "signac project --workspace"
   ]
  },
  {
   "cell_type": "markdown",
   "metadata": {},
   "source": [
    "We access the job handle by providing the state point on the command line in JSON format."
   ]
  },
  {
   "cell_type": "code",
   "execution_count": null,
   "metadata": {},
   "outputs": [],
   "source": [
    "%%bash\n",
    "signac job '{\"kT\": 1.0, \"p\": 1.0, \"N\": 1000}'"
   ]
  },
  {
   "cell_type": "markdown",
   "metadata": {},
   "source": [
    "The statepoints could also be read from STDIN, e.g., by reading it from a file.\n",
    "Let's create a statepoints file with three statepoints:"
   ]
  },
  {
   "cell_type": "code",
   "execution_count": null,
   "metadata": {},
   "outputs": [],
   "source": [
    "%%bash\n",
    "echo '{\"kT\": 1.0, \"p\": 0.1, \"N\": 1000}' > statepoints.txt\n",
    "echo '{\"kT\": 1.0, \"p\": 1.0, \"N\": 1000}' >> statepoints.txt\n",
    "echo '{\"kT\": 1.0, \"p\": 10.0, \"N\": 1000}' >> statepoints.txt\n",
    "\n",
    "cat statepoints.txt"
   ]
  },
  {
   "cell_type": "markdown",
   "metadata": {},
   "source": [
    "We can pipe the content of this file into the **signac** CLI to get the corresponding *job id*."
   ]
  },
  {
   "cell_type": "code",
   "execution_count": null,
   "metadata": {},
   "outputs": [],
   "source": [
    "%%bash\n",
    "head -n 1 statepoints.txt | signac job"
   ]
  },
  {
   "cell_type": "markdown",
   "metadata": {},
   "source": [
    "Instead of the *job id*, we can directly obtain the path to the *job workspace*."
   ]
  },
  {
   "cell_type": "code",
   "execution_count": null,
   "metadata": {},
   "outputs": [],
   "source": [
    "%%bash\n",
    "head -n 1 statepoints.txt | signac job --workspace"
   ]
  },
  {
   "cell_type": "markdown",
   "metadata": {},
   "source": [
    "That's specifically useful in conjunction with external tools.\n",
    "Let's pretend that we need to use a program called `idg` to calculate the ideal gas equation.\n",
    "\n",
    "The `idg` program will calculate the volume of an ideal gas given the input parameters *p*, *kT* and *N*, just like in the previous sections."
   ]
  },
  {
   "cell_type": "code",
   "execution_count": null,
   "metadata": {},
   "outputs": [],
   "source": [
    "%%bash\n",
    "./idg -p 1.0 -N 1000 --kT 1.0"
   ]
  },
  {
   "cell_type": "markdown",
   "metadata": {},
   "source": [
    "We can store the result in a file based on the input arguments using the `-cw` argument, short for ``--create --workspace``, which returns the workspace path and creates it if necessary."
   ]
  },
  {
   "cell_type": "code",
   "execution_count": null,
   "metadata": {},
   "outputs": [],
   "source": [
    "%%bash\n",
    "./idg -p 1.0 --kT 1.0 -N 1000 > $(signac job -cw '{\"p\": 1.0, \"kT\": 1.0, \"N\": 1000}')/V.txt"
   ]
  },
  {
   "cell_type": "markdown",
   "metadata": {},
   "source": [
    "Obviously, we wouldn't write these commands all manually, but use a script instead."
   ]
  },
  {
   "cell_type": "code",
   "execution_count": null,
   "metadata": {},
   "outputs": [],
   "source": [
    "import json\n",
    "\n",
    "import signac\n",
    "\n",
    "project = signac.get_project()\n",
    "for p in 0.1, 1.0, 10.0:\n",
    "    job = project.open_job({\"N\": 1000, \"p\": p, \"kT\": 1.0})\n",
    "    cmd = \"./idg -p {p} --kT {kT} -N {N}\".format(**job.statepoint())\n",
    "    cmd += \" > $(signac job -cw '{}')/V.txt\".format(json.dumps(job.statepoint()))\n",
    "    print(cmd)"
   ]
  },
  {
   "cell_type": "markdown",
   "metadata": {},
   "source": [
    "We can then execute this script..."
   ]
  },
  {
   "cell_type": "code",
   "execution_count": null,
   "metadata": {},
   "outputs": [],
   "source": [
    "%%bash\n",
    "./idg -p 0.1 --kT 1.0 -N 1000 > $(signac job -cw '{\"kT\": 1.0, \"p\": 0.1, \"N\": 1000}')/V.txt\n",
    "./idg -p 1.0 --kT 1.0 -N 1000 > $(signac job -cw '{\"kT\": 1.0, \"p\": 1.0, \"N\": 1000}')/V.txt\n",
    "./idg -p 10.0 --kT 1.0 -N 1000 > $(signac job -cw '{\"kT\": 1.0, \"p\": 10.0, \"N\": 1000}')/V.txt"
   ]
  },
  {
   "cell_type": "markdown",
   "metadata": {},
   "source": [
    "... and examine the results."
   ]
  },
  {
   "cell_type": "code",
   "execution_count": null,
   "metadata": {},
   "outputs": [],
   "source": [
    "%cat `signac project -w`/*/V.txt"
   ]
  }
 ],
 "metadata": {
  "anaconda-cloud": {},
  "kernelspec": {
   "display_name": "Python 3",
   "language": "python",
   "name": "python3"
  },
  "language_info": {
   "codemirror_mode": {
    "name": "ipython",
    "version": 3
   },
   "file_extension": ".py",
   "mimetype": "text/x-python",
   "name": "python",
   "nbconvert_exporter": "python",
   "pygments_lexer": "ipython3",
   "version": "3.8.3"
  }
 },
 "nbformat": 4,
 "nbformat_minor": 4
}
