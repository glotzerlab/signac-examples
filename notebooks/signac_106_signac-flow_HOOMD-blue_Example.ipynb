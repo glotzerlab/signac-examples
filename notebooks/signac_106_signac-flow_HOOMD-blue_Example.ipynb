{
 "cells": [
  {
   "cell_type": "markdown",
   "metadata": {},
   "source": [
    "# 1.6 signac-flow HOOMD-blue Example\n",
    "\n",
    "## About\n",
    "\n",
    "This notebook contains a minimal example for running a *signac-flow* project from scratch.\n",
    "The example demonstrates how to compare an ideal gas with a Lennard-Jones (LJ) fluid by calculating a p-V phase diagram.\n",
    "\n",
    "This examples uses the general-purpose simulation toolkit [HOOMD-blue](http://glotzerlab.engin.umich.edu/hoomd-blue/) for the execution of the molecular-dynamics (MD) simulations.\n",
    "\n",
    "## Author\n",
    "\n",
    "Carl Simon Adorf, Bradley Dice\n",
    "\n",
    "## Before you start\n",
    "\n",
    "This example requires signac, signac-flow, HOOMD-blue and numpy.\n",
    "You can install these package for example via conda:\n",
    "```\n",
    "conda install -c conda-forge hoomd numpy signac signac-flow\n",
    "```"
   ]
  },
  {
   "cell_type": "code",
   "execution_count": 1,
   "metadata": {
    "tags": []
   },
   "outputs": [
    {
     "name": "stderr",
     "output_type": "stream",
     "text": [
      "/home/brandon/mambaforge/envs/research/lib/python3.11/site-packages/tqdm/auto.py:21: TqdmWarning: IProgress not found. Please update jupyter and ipywidgets. See https://ipywidgets.readthedocs.io/en/stable/user_install.html\n",
      "  from .autonotebook import tqdm as notebook_tqdm\n"
     ]
    }
   ],
   "source": [
    "import itertools\n",
    "import os\n",
    "\n",
    "import flow\n",
    "import gsd.hoomd\n",
    "import hoomd\n",
    "import numpy as np\n",
    "import signac\n",
    "\n",
    "project_path = \"projects/tutorial-signac-flow-hoomd\"\n",
    "\n",
    "\n",
    "class MyProject(flow.FlowProject):\n",
    "    pass"
   ]
  },
  {
   "cell_type": "markdown",
   "metadata": {},
   "source": [
    "We want to generate a pressure-volume phase diagram for a Lennard-Jones fluid with molecular dynamics (MD) using the general-purpose simulation toolkit HOOMD-blue (http://glotzerlab.engin.umich.edu/hoomd-blue/).\n",
    "\n",
    "We start by defining two functions, one for the initialization of our simulation and one for the actual execution."
   ]
  },
  {
   "cell_type": "code",
   "execution_count": 2,
   "metadata": {
    "tags": []
   },
   "outputs": [],
   "source": [
    "from math import ceil\n",
    "\n",
    "\n",
    "def init(N):\n",
    "    frame = gsd.hoomd.Frame()\n",
    "    frame.particles.N = N\n",
    "    frame.particles.types = [\"A\"]\n",
    "    frame.particles.typeid = np.zeros(N)\n",
    "\n",
    "    n = ceil(pow(N, 1 / 3))\n",
    "    assert n**3 == N\n",
    "    spacing = 1.2\n",
    "    L = n * spacing\n",
    "    frame.configuration.box = [L, L, L, 0.0, 0.0, 0.0]\n",
    "    x = np.linspace(-L / 2, L / 2, n, endpoint=False)\n",
    "    position = list(itertools.product(x, repeat=3))\n",
    "    frame.particles.position = position\n",
    "    with gsd.hoomd.open(\"init.gsd\", \"wb\") as traj:\n",
    "        traj.append(frame)\n",
    "\n",
    "\n",
    "def get_sim(N, sigma, seed, kT, tau, p, tauP, r_cut):\n",
    "    sim = hoomd.Simulation(hoomd.device.CPU())\n",
    "    state_fn = \"init.gsd\"\n",
    "    if os.path.exists(\"restart.gsd\"):\n",
    "        state_fn = \"restart.gsd\"\n",
    "    sim.create_state_from_gsd(state_fn)\n",
    "    sim.operations += hoomd.write.GSD(\n",
    "        filename=\"restart.gsd\", truncate=True, trigger=100, filter=hoomd.filter.All()\n",
    "    )\n",
    "    lj = hoomd.md.pair.LJ(default_r_cut=r_cut, nlist=hoomd.md.nlist.Cell(0.4))\n",
    "    lj.params[(\"A\", \"A\")] = {\"epsilon\": 1.0, \"sigma\": sigma}\n",
    "    integrator = hoomd.md.Integrator(\n",
    "        dt=0.005,\n",
    "        methods=[\n",
    "            hoomd.md.methods.NPT(\n",
    "                filter=hoomd.filter.All(), kT=kT, tau=tau, S=p, tauS=tauP, couple=\"xyz\"\n",
    "            )\n",
    "        ],\n",
    "        forces=[lj],\n",
    "    )\n",
    "    sim.operations.integrator = integrator\n",
    "    logger = hoomd.logging.Logger(categories=(\"scalar\", \"string\"))\n",
    "    logger[\"Volume\"] = (lambda: sim.state.box.volume, \"scalar\")\n",
    "    table = hoomd.write.Table(trigger=100, logger=logger, max_header_len=20)\n",
    "    sim.operations += table\n",
    "    return sim"
   ]
  },
  {
   "cell_type": "markdown",
   "metadata": {},
   "source": [
    "We want to use **signac** to manage our simulation data and **signac-flow** to define a workflow acting on the data space.\n",
    "\n",
    "Now that we have defined the core simulation logic above, it's time to embed those functions into a general *workflow*.\n",
    "For this purpose we add labels and operations with preconditions/postconditions to `MyProject`, a subclass of `flow.FlowProject`.\n",
    "\n",
    "The `estimate` operation stores an ideal gas estimation of the volume for the given system.\n",
    "The `sample` operation actually executes the MD simulation as defined in the previous cell."
   ]
  },
  {
   "cell_type": "code",
   "execution_count": 3,
   "metadata": {
    "tags": []
   },
   "outputs": [],
   "source": [
    "@MyProject.label\n",
    "def estimated(job):\n",
    "    return \"V\" in job.document\n",
    "\n",
    "\n",
    "@MyProject.label\n",
    "def sampled(job):\n",
    "    return job.document.get(\"sample_step\", 0) >= 5000\n",
    "\n",
    "\n",
    "@MyProject.post(estimated)\n",
    "@MyProject.operation\n",
    "def estimate(job):\n",
    "    sp = job.statepoint()\n",
    "    job.document[\"V\"] = sp[\"N\"] * sp[\"kT\"] / sp[\"p\"]\n",
    "\n",
    "\n",
    "@MyProject.post(sampled)\n",
    "@MyProject.operation\n",
    "def sample(job):\n",
    "    with job:\n",
    "        try:\n",
    "            sim = get_sim(**job.statepoint())\n",
    "            sim.run(5_000)\n",
    "        finally:\n",
    "            job.document[\"sample_step\"] = sim.timestep"
   ]
  },
  {
   "cell_type": "markdown",
   "metadata": {},
   "source": [
    "Now it's time to actually generate some data! Let's initialize the data space!\n"
   ]
  },
  {
   "cell_type": "code",
   "execution_count": 4,
   "metadata": {
    "tags": []
   },
   "outputs": [
    {
     "name": "stderr",
     "output_type": "stream",
     "text": [
      "/home/brandon/mambaforge/envs/research/lib/python3.11/site-packages/signac/synced_collections/numpy_utils.py:46: NumpyConversionWarning: Any numpy types provided will be transparently converted to the closest base Python equivalents.\n",
      "  warnings.warn(NUMPY_CONVERSION_WARNING, NumpyConversionWarning)\n"
     ]
    }
   ],
   "source": [
    "project = MyProject.init_project()\n",
    "\n",
    "# Uncomment the following two lines if you want to start over!\n",
    "# for job in project:\n",
    "#     job.remove()\n",
    "\n",
    "for p in np.linspace(0.5, 5.0, 10):\n",
    "    sp = dict(N=512, sigma=1.0, seed=42, kT=1.0, p=p, tau=1.0, tauP=1.0, r_cut=2.5)\n",
    "    job = project.open_job(sp).init()\n",
    "    with job:\n",
    "        init(N=sp[\"N\"])"
   ]
  },
  {
   "cell_type": "markdown",
   "metadata": {},
   "source": [
    "The `print_status()` function allows to get a quick overview of our project's *status*:"
   ]
  },
  {
   "cell_type": "code",
   "execution_count": 5,
   "metadata": {
    "tags": []
   },
   "outputs": [
    {
     "name": "stderr",
     "output_type": "stream",
     "text": [
      "Fetching status: 100%|██████████| 20/20 [00:00<00:00, 4985.80it/s]\n",
      "Fetching labels: 100%|██████████| 10/10 [00:00<00:00, 23327.61it/s]"
     ]
    },
    {
     "name": "stdout",
     "output_type": "stream",
     "text": [
      "\n",
      "Overview: 10 jobs/aggregates, 1 jobs/aggregates with eligible operations.\n",
      "\n",
      "label      ratio\n",
      "---------  --------------------------------------------------------\n",
      "estimated  |████████████████████████████████████    | 9/10 (90.00%)\n",
      "sampled    |████████████████████████████████████    | 9/10 (90.00%)\n",
      "\n",
      "operation/group      number of eligible jobs  submission status\n",
      "-----------------  -------------------------  -------------------\n",
      "estimate                                   1  [U]: 10\n",
      "sample                                     1  [U]: 10\n",
      "\n",
      "Detailed View:\n",
      "\n",
      "job id                            operation/group      p  labels\n",
      "--------------------------------  -----------------  ---  ------------------\n",
      "18c063206c37ab03d06de130c6ae2b70  estimate [U]       1\n",
      "                                  sample [U]         1\n",
      "2a05a487f254db90b08f576d199a83b7  [ ]                5    estimated, sampled\n",
      "4ef567c185064a4b27b73f62124991c0  [ ]                3    estimated, sampled\n",
      "5b3c8f0fbd9458a304222d83bb82bc30  [ ]                3.5  estimated, sampled\n",
      "6681f083e2b03f5b9816f35502e411f7  [ ]                1.5  estimated, sampled\n",
      "6ff6b952b42f0ad3e1315e137cf67cdb  [ ]                4    estimated, sampled\n",
      "99f5397cf2f6250afe34927606aa2f37  [ ]                4.5  estimated, sampled\n",
      "a5d4427e8d285c78239005f740a2625b  [ ]                2    estimated, sampled\n",
      "a89bc9f5cceaf268f18efed936a70333  [ ]                0.5  estimated, sampled\n",
      "c342fff540bfa0a2128efac700fc5aef  [ ]                2.5  estimated, sampled\n",
      "\n",
      "[U]:unknown [R]:registered [I]:inactive [S]:submitted [H]:held [Q]:queued [A]:active [E]:error [GR]:group_registered [GI]:group_inactive [GS]:group_submitted [GH]:group_held [GQ]:group_queued [GA]:group_active [GE]:group_error\n",
      "\n",
      "\n"
     ]
    },
    {
     "name": "stderr",
     "output_type": "stream",
     "text": [
      "\n"
     ]
    }
   ],
   "source": [
    "project.print_status(detailed=True, parameters=[\"p\"])"
   ]
  },
  {
   "cell_type": "markdown",
   "metadata": {},
   "source": [
    "The next cell will attempt to execute all eligible operations."
   ]
  },
  {
   "cell_type": "code",
   "execution_count": 6,
   "metadata": {
    "tags": []
   },
   "outputs": [
    {
     "name": "stderr",
     "output_type": "stream",
     "text": [
      "/home/brandon/mambaforge/envs/research/lib/python3.11/site-packages/hoomd/md/methods/methods.py:365: FutureWarning: NPT is deprecated and wil be removed in hoomd 4.0. In version 4.0, use the ConstantPressure method with the desired thermostat from hoomd.md.methods.thermostats.\n",
      "  warnings.warn(\n"
     ]
    },
    {
     "name": "stdout",
     "output_type": "stream",
     "text": [
      "     Volume     \n",
      "   815.08231    \n",
      "   647.05649    \n",
      "   507.51113    \n",
      "   559.16728    \n",
      "   735.55354    \n",
      "   865.93540    \n",
      "   867.29199    \n",
      "   739.72163    \n",
      "   564.60452    \n",
      "   476.05178    \n",
      "   3613.70596   \n",
      "   7678.21985   \n",
      "   1811.69480   \n",
      "   684.11459    \n",
      "   566.85211    \n",
      "   541.47357    \n",
      "   530.95724    \n",
      "   527.61614    \n",
      "   523.46338    \n",
      "   518.79266    \n",
      "   511.26080    \n",
      "   503.74124    \n",
      "   497.58350    \n",
      "   495.06338    \n",
      "   496.35727    \n",
      "   501.29643    \n",
      "   508.69586    \n",
      "   520.15390    \n",
      "   551.45089    \n",
      "   666.08444    \n",
      "   1225.90832   \n",
      "   2926.64495   \n",
      "   2373.50483   \n",
      "   1388.31905   \n",
      "   821.54009    \n",
      "   632.14399    \n",
      "   568.96207    \n",
      "   541.86632    \n",
      "   529.13999    \n",
      "   522.20249    \n",
      "   518.53066    \n",
      "   518.30696    \n",
      "   520.59497    \n",
      "   532.97952    \n",
      "   566.27799    \n",
      "   647.24362    \n",
      "   856.46153    \n",
      "   1308.43561   \n",
      "   1713.72357   \n",
      "   1420.21424   \n"
     ]
    }
   ],
   "source": [
    "project.run()"
   ]
  },
  {
   "cell_type": "markdown",
   "metadata": {},
   "source": [
    "Let's double check the project status."
   ]
  },
  {
   "cell_type": "code",
   "execution_count": 10,
   "metadata": {
    "tags": []
   },
   "outputs": [
    {
     "name": "stderr",
     "output_type": "stream",
     "text": [
      "Fetching status: 0it [00:00, ?it/s]\n",
      "Fetching labels: 100%|██████████| 10/10 [00:00<00:00, 19831.22it/s]"
     ]
    },
    {
     "name": "stdout",
     "output_type": "stream",
     "text": [
      "\n",
      "Overview: 0 jobs/aggregates, 0 jobs/aggregates with eligible operations.\n",
      "\n",
      "label\n",
      "-------\n",
      "\n",
      "\n",
      "operation/group\n",
      "-----------------\n",
      "\n",
      "\n",
      "Detailed View:\n",
      "\n",
      "job id\n",
      "--------\n",
      "\n",
      "\n",
      "[U]:unknown [R]:registered [I]:inactive [S]:submitted [H]:held [Q]:queued [A]:active [E]:error [GR]:group_registered [GI]:group_inactive [GS]:group_submitted [GH]:group_held [GQ]:group_queued [GA]:group_active [GE]:group_error\n",
      "\n",
      "\n"
     ]
    },
    {
     "name": "stderr",
     "output_type": "stream",
     "text": [
      "\n"
     ]
    }
   ],
   "source": [
    "project.print_status(detailed=True)"
   ]
  },
  {
   "cell_type": "markdown",
   "metadata": {},
   "source": [
    "After running all operations we can make a brief examination of the collected data."
   ]
  },
  {
   "cell_type": "code",
   "execution_count": null,
   "metadata": {},
   "outputs": [],
   "source": [
    "def get_volume(job):\n",
    "    log = np.genfromtxt(job.fn(\"dump.log\"), names=True)\n",
    "    N = len(log)\n",
    "    return log[int(0.5 * N) :][\"volume\"].mean(axis=0)\n",
    "\n",
    "\n",
    "for job in project:\n",
    "    print(job.statepoint[\"p\"], get_volume(job), job.document.get(\"V\"))"
   ]
  },
  {
   "cell_type": "markdown",
   "metadata": {},
   "source": [
    "For a better presentation of the results we need to aggregate all results and sort them by pressure.\n",
    "\n",
    "*The following code requires matplotlib.*"
   ]
  },
  {
   "cell_type": "code",
   "execution_count": null,
   "metadata": {},
   "outputs": [],
   "source": [
    "%matplotlib inline\n",
    "# Display plots within the notebook\n",
    "\n",
    "from matplotlib import pyplot as plt\n",
    "\n",
    "V = dict()\n",
    "V_idg = dict()\n",
    "\n",
    "for job in project:\n",
    "    V[job.statepoint()[\"p\"]] = get_volume(job)\n",
    "    V_idg[job.statepoint()[\"p\"]] = job.document[\"V\"]\n",
    "\n",
    "p = sorted(V.keys())\n",
    "V = [V[p_] for p_ in p]\n",
    "V_idg = [V_idg[p_] for p_ in p]\n",
    "\n",
    "plt.plot(p, V, label=\"LJ\")\n",
    "plt.plot(p, V_idg, label=\"idG\")\n",
    "plt.xlabel(r\"pressure [$\\epsilon / \\sigma^3$]\")\n",
    "plt.ylabel(r\"volume [$\\sigma^3$]\")\n",
    "plt.legend()\n",
    "plt.show()"
   ]
  },
  {
   "cell_type": "markdown",
   "metadata": {},
   "source": [
    "Uncomment and execute the following line to remove all data and start over."
   ]
  },
  {
   "cell_type": "code",
   "execution_count": null,
   "metadata": {},
   "outputs": [],
   "source": [
    "# %rm -r projects/tutorial-signac-flow-hoomd-blue/workspace"
   ]
  }
 ],
 "metadata": {
  "kernelspec": {
   "display_name": "research",
   "language": "python",
   "name": "research"
  },
  "language_info": {
   "codemirror_mode": {
    "name": "ipython",
    "version": 3
   },
   "file_extension": ".py",
   "mimetype": "text/x-python",
   "name": "python",
   "nbconvert_exporter": "python",
   "pygments_lexer": "ipython3",
   "version": "3.11.0"
  }
 },
 "nbformat": 4,
 "nbformat_minor": 4
}
