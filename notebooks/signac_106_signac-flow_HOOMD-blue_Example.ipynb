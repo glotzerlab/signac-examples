{
 "cells": [
  {
   "cell_type": "markdown",
   "metadata": {},
   "source": [
    "# 1.6 signac-flow HOOMD-blue Example\n",
    "\n",
    "## About\n",
    "\n",
    "This notebook contains a minimal example for running a *signac-flow* project from scratch.\n",
    "The example demonstrates how to compare an ideal gas with a Lennard-Jones (LJ) fluid by calculating a p-V phase diagram.\n",
    "\n",
    "This examples uses the general-purpose simulation toolkit [HOOMD-blue](http://glotzerlab.engin.umich.edu/hoomd-blue/) for the execution of the molecular-dynamics (MD) simulations.\n",
    "\n",
    "## Author\n",
    "\n",
    "Carl Simon Adorf, Bradley Dice\n",
    "\n",
    "## Before you start\n",
    "\n",
    "This example requires signac, signac-flow, HOOMD-blue, gsd, and numpy.\n",
    "You can install these package for example via conda:\n",
    "```\n",
    "conda install -c conda-forge gsd hoomd numpy signac signac-flow\n",
    "```"
   ]
  },
  {
   "cell_type": "code",
   "execution_count": 1,
   "metadata": {
    "tags": []
   },
   "outputs": [],
   "source": [
    "import itertools\n",
    "import os\n",
    "import warnings\n",
    "\n",
    "import flow\n",
    "import gsd.hoomd\n",
    "import hoomd\n",
    "import numpy as np\n",
    "import signac\n",
    "\n",
    "project_path = \"projects/tutorial-signac-flow-hoomd\"\n",
    "\n",
    "\n",
    "class MyProject(flow.FlowProject):\n",
    "    pass"
   ]
  },
  {
   "cell_type": "markdown",
   "metadata": {},
   "source": [
    "We want to generate a pressure-volume phase diagram for a Lennard-Jones fluid with molecular dynamics (MD) using the general-purpose simulation toolkit HOOMD-blue (http://glotzerlab.engin.umich.edu/hoomd-blue/).\n",
    "\n",
    "We start by defining two functions, one for the initialization of our simulation and one for the actual execution."
   ]
  },
  {
   "cell_type": "code",
   "execution_count": 2,
   "metadata": {
    "tags": []
   },
   "outputs": [],
   "source": [
    "from contextlib import contextmanager\n",
    "from math import ceil\n",
    "\n",
    "\n",
    "def init(N):\n",
    "    frame = gsd.hoomd.Frame()\n",
    "    frame.particles.N = N\n",
    "    frame.particles.types = [\"A\"]\n",
    "    frame.particles.typeid = np.zeros(N)\n",
    "\n",
    "    n = ceil(pow(N, 1 / 3))\n",
    "    assert n**3 == N\n",
    "    spacing = 1.2\n",
    "    L = n * spacing\n",
    "    frame.configuration.box = [L, L, L, 0.0, 0.0, 0.0]\n",
    "    x = np.linspace(-L / 2, L / 2, n, endpoint=False)\n",
    "    position = list(itertools.product(x, repeat=3))\n",
    "    frame.particles.position = position\n",
    "    with gsd.hoomd.open(\"init.gsd\", \"w\") as traj:\n",
    "        traj.append(frame)\n",
    "\n",
    "\n",
    "@contextmanager\n",
    "def get_sim(N, sigma, seed, kT, tau, p, tauP, r_cut):\n",
    "    sim = hoomd.Simulation(hoomd.device.CPU())\n",
    "    state_fn = \"init.gsd\"\n",
    "    if os.path.exists(\"restart.gsd\"):\n",
    "        state_fn = \"restart.gsd\"\n",
    "    sim.create_state_from_gsd(state_fn)\n",
    "    sim.operations += hoomd.write.GSD(\n",
    "        filename=\"restart.gsd\", truncate=True, trigger=100, filter=hoomd.filter.All()\n",
    "    )\n",
    "    lj = hoomd.md.pair.LJ(default_r_cut=r_cut, nlist=hoomd.md.nlist.Cell(0.4))\n",
    "    lj.params[(\"A\", \"A\")] = {\"epsilon\": 1.0, \"sigma\": sigma}\n",
    "    integrator = hoomd.md.Integrator(\n",
    "        dt=0.005,\n",
    "        methods=[\n",
    "            hoomd.md.methods.ConstantPressure(\n",
    "                filter=hoomd.filter.All(),\n",
    "                S=p,\n",
    "                tauS=tauP,\n",
    "                couple=\"xyz\",\n",
    "                thermostat=hoomd.md.methods.thermostats.MTTK(kT=kT, tau=tau),\n",
    "            )\n",
    "        ],\n",
    "        forces=[lj],\n",
    "    )\n",
    "    sim.operations.integrator = integrator\n",
    "    logger = hoomd.logging.Logger(categories=(\"scalar\", \"string\"))\n",
    "    logger[\"Volume\"] = (lambda: sim.state.box.volume, \"scalar\")\n",
    "\n",
    "    # This context manager keeps the log file open while the simulation runs.\n",
    "    with open(\"dump.log\", \"w+\") as outfile:\n",
    "        table = hoomd.write.Table(\n",
    "            trigger=100, logger=logger, output=outfile, pretty=False\n",
    "        )\n",
    "        sim.operations += table\n",
    "        yield sim"
   ]
  },
  {
   "cell_type": "markdown",
   "metadata": {},
   "source": [
    "We want to use **signac** to manage our simulation data and **signac-flow** to define a workflow acting on the data space.\n",
    "\n",
    "Now that we have defined the core simulation logic above, it's time to embed those functions into a general *workflow*.\n",
    "For this purpose we add labels and operations with preconditions/postconditions to `MyProject`, a subclass of `flow.FlowProject`.\n",
    "\n",
    "The `estimate` operation stores an ideal gas estimation of the volume for the given system.\n",
    "The `sample` operation actually executes the MD simulation as defined in the previous cell."
   ]
  },
  {
   "cell_type": "code",
   "execution_count": 3,
   "metadata": {
    "tags": []
   },
   "outputs": [],
   "source": [
    "@MyProject.label\n",
    "def estimated(job):\n",
    "    return \"V\" in job.document\n",
    "\n",
    "\n",
    "@MyProject.label\n",
    "def sampled(job):\n",
    "    return job.document.get(\"sample_step\", 0) >= 5000\n",
    "\n",
    "\n",
    "@MyProject.post(estimated)\n",
    "@MyProject.operation\n",
    "def estimate(job):\n",
    "    sp = job.statepoint()\n",
    "    job.document[\"V\"] = sp[\"N\"] * sp[\"kT\"] / sp[\"p\"]\n",
    "\n",
    "\n",
    "@MyProject.post(sampled)\n",
    "@MyProject.operation\n",
    "def sample(job):\n",
    "    with job:\n",
    "        with get_sim(**job.statepoint()) as sim:\n",
    "            try:\n",
    "                sim.run(5_000)\n",
    "            finally:\n",
    "                job.document[\"sample_step\"] = sim.timestep"
   ]
  },
  {
   "cell_type": "markdown",
   "metadata": {},
   "source": [
    "Now it's time to actually generate some data! Let's initialize the data space!\n"
   ]
  },
  {
   "cell_type": "code",
   "execution_count": 4,
   "metadata": {
    "tags": []
   },
   "outputs": [],
   "source": [
    "project = MyProject.init_project(project_path)\n",
    "\n",
    "# Uncomment the following two lines if you want to start over!\n",
    "# for job in project:\n",
    "#     job.remove()\n",
    "\n",
    "for p in np.linspace(0.5, 5.0, 10):\n",
    "    sp = dict(\n",
    "        N=512, sigma=1.0, seed=42, kT=1.0, p=float(p), tau=1.0, tauP=1.0, r_cut=2.5\n",
    "    )\n",
    "    job = project.open_job(sp).init()\n",
    "    with job:\n",
    "        init(N=sp[\"N\"])"
   ]
  },
  {
   "cell_type": "markdown",
   "metadata": {},
   "source": [
    "The `print_status()` function allows to get a quick overview of our project's *status*:"
   ]
  },
  {
   "cell_type": "code",
   "execution_count": 5,
   "metadata": {
    "tags": []
   },
   "outputs": [
    {
     "data": {
      "application/vnd.jupyter.widget-view+json": {
       "model_id": "a3b1ced62d5e47b2a84fe1a77c14a2ad",
       "version_major": 2,
       "version_minor": 0
      },
      "text/plain": [
       "Fetching status:   0%|          | 0/20 [00:00<?, ?it/s]"
      ]
     },
     "metadata": {},
     "output_type": "display_data"
    },
    {
     "data": {
      "application/vnd.jupyter.widget-view+json": {
       "model_id": "f82ce260f66b4dd79e1dfe0189389230",
       "version_major": 2,
       "version_minor": 0
      },
      "text/plain": [
       "Fetching labels:   0%|          | 0/10 [00:00<?, ?it/s]"
      ]
     },
     "metadata": {},
     "output_type": "display_data"
    },
    {
     "name": "stdout",
     "output_type": "stream",
     "text": [
      "\n",
      "Overview: 10 jobs/aggregates, 10 jobs/aggregates with eligible operations.\n",
      "\n",
      "label\n",
      "-------\n",
      "\n",
      "\n",
      "operation/group      number of eligible jobs  submission status\n",
      "-----------------  -------------------------  -------------------\n",
      "estimate                                  10  [U]: 10\n",
      "sample                                    10  [U]: 10\n",
      "\n",
      "Detailed View:\n",
      "\n",
      "job id                            operation/group      p  labels\n",
      "--------------------------------  -----------------  ---  --------\n",
      "18c063206c37ab03d06de130c6ae2b70  estimate [U]       1\n",
      "                                  sample [U]         1\n",
      "2a05a487f254db90b08f576d199a83b7  estimate [U]       5\n",
      "                                  sample [U]         5\n",
      "4ef567c185064a4b27b73f62124991c0  estimate [U]       3\n",
      "                                  sample [U]         3\n",
      "5b3c8f0fbd9458a304222d83bb82bc30  estimate [U]       3.5\n",
      "                                  sample [U]         3.5\n",
      "6681f083e2b03f5b9816f35502e411f7  estimate [U]       1.5\n",
      "                                  sample [U]         1.5\n",
      "6ff6b952b42f0ad3e1315e137cf67cdb  estimate [U]       4\n",
      "                                  sample [U]         4\n",
      "99f5397cf2f6250afe34927606aa2f37  estimate [U]       4.5\n",
      "                                  sample [U]         4.5\n",
      "a5d4427e8d285c78239005f740a2625b  estimate [U]       2\n",
      "                                  sample [U]         2\n",
      "a89bc9f5cceaf268f18efed936a70333  estimate [U]       0.5\n",
      "                                  sample [U]         0.5\n",
      "c342fff540bfa0a2128efac700fc5aef  estimate [U]       2.5\n",
      "                                  sample [U]         2.5\n",
      "\n",
      "[U]:unknown [R]:registered [I]:inactive [S]:submitted [H]:held [Q]:queued [A]:active [E]:error [GR]:group_registered [GI]:group_inactive [GS]:group_submitted [GH]:group_held [GQ]:group_queued [GA]:group_active [GE]:group_error\n",
      "\n",
      "\n"
     ]
    }
   ],
   "source": [
    "project.print_status(detailed=True, parameters=[\"p\"])"
   ]
  },
  {
   "cell_type": "markdown",
   "metadata": {},
   "source": [
    "The next cell will attempt to execute all eligible operations."
   ]
  },
  {
   "cell_type": "code",
   "execution_count": 6,
   "metadata": {
    "tags": []
   },
   "outputs": [],
   "source": [
    "with warnings.catch_warnings():\n",
    "    # Hide deprecation warnings from hoomd\n",
    "    warnings.simplefilter(\"ignore\")\n",
    "    project.run()"
   ]
  },
  {
   "cell_type": "markdown",
   "metadata": {},
   "source": [
    "Let's double check the project status."
   ]
  },
  {
   "cell_type": "code",
   "execution_count": 7,
   "metadata": {
    "tags": []
   },
   "outputs": [
    {
     "data": {
      "application/vnd.jupyter.widget-view+json": {
       "model_id": "b0d3c935e8ed4645962046ee015f3be7",
       "version_major": 2,
       "version_minor": 0
      },
      "text/plain": [
       "Fetching status:   0%|          | 0/20 [00:00<?, ?it/s]"
      ]
     },
     "metadata": {},
     "output_type": "display_data"
    },
    {
     "data": {
      "application/vnd.jupyter.widget-view+json": {
       "model_id": "2ef3c2cb5ccb4d0d93dea79b5669a0fe",
       "version_major": 2,
       "version_minor": 0
      },
      "text/plain": [
       "Fetching labels:   0%|          | 0/10 [00:00<?, ?it/s]"
      ]
     },
     "metadata": {},
     "output_type": "display_data"
    },
    {
     "name": "stdout",
     "output_type": "stream",
     "text": [
      "\n",
      "Overview: 10 jobs/aggregates, 0 jobs/aggregates with eligible operations.\n",
      "\n",
      "label      ratio\n",
      "---------  ----------------------------------------------------------\n",
      "estimated  |████████████████████████████████████████| 10/10 (100.00%)\n",
      "sampled    |████████████████████████████████████████| 10/10 (100.00%)\n",
      "\n",
      "operation/group\n",
      "-----------------\n",
      "\n",
      "\n",
      "Detailed View:\n",
      "\n",
      "job id                            operation/group    labels\n",
      "--------------------------------  -----------------  ------------------\n",
      "18c063206c37ab03d06de130c6ae2b70  [ ]                estimated, sampled\n",
      "2a05a487f254db90b08f576d199a83b7  [ ]                estimated, sampled\n",
      "4ef567c185064a4b27b73f62124991c0  [ ]                estimated, sampled\n",
      "5b3c8f0fbd9458a304222d83bb82bc30  [ ]                estimated, sampled\n",
      "6681f083e2b03f5b9816f35502e411f7  [ ]                estimated, sampled\n",
      "6ff6b952b42f0ad3e1315e137cf67cdb  [ ]                estimated, sampled\n",
      "99f5397cf2f6250afe34927606aa2f37  [ ]                estimated, sampled\n",
      "a5d4427e8d285c78239005f740a2625b  [ ]                estimated, sampled\n",
      "a89bc9f5cceaf268f18efed936a70333  [ ]                estimated, sampled\n",
      "c342fff540bfa0a2128efac700fc5aef  [ ]                estimated, sampled\n",
      "\n",
      "[U]:unknown [R]:registered [I]:inactive [S]:submitted [H]:held [Q]:queued [A]:active [E]:error [GR]:group_registered [GI]:group_inactive [GS]:group_submitted [GH]:group_held [GQ]:group_queued [GA]:group_active [GE]:group_error\n",
      "\n",
      "\n"
     ]
    }
   ],
   "source": [
    "project.print_status(detailed=True)"
   ]
  },
  {
   "cell_type": "markdown",
   "metadata": {},
   "source": [
    "After running all operations we can make a brief examination of the collected data."
   ]
  },
  {
   "cell_type": "code",
   "execution_count": 8,
   "metadata": {},
   "outputs": [
    {
     "name": "stdout",
     "output_type": "stream",
     "text": [
      "3.5 633.09071616 146.28571428571428\n",
      "0.5 1238.75831864 1024.0\n",
      "1.5 789.8835313200001 341.3333333333333\n",
      "2.0 732.7477800800001 256.0\n",
      "4.0 616.6703303999999 128.0\n",
      "1.0 931.94641252 512.0\n",
      "4.5 603.5544676 113.77777777777777\n",
      "5.0 592.8023312 102.4\n",
      "3.0 663.6705322 170.66666666666666\n",
      "2.5 676.3909288000001 204.8\n"
     ]
    }
   ],
   "source": [
    "def get_volume(job):\n",
    "    log = np.genfromtxt(job.fn(\"dump.log\"), names=True)\n",
    "    N = len(log)\n",
    "    return log[int(0.5 * N) :][\"Volume\"].mean(axis=0)\n",
    "\n",
    "\n",
    "for job in project:\n",
    "    print(job.statepoint[\"p\"], get_volume(job), job.document.get(\"V\"))"
   ]
  },
  {
   "cell_type": "markdown",
   "metadata": {},
   "source": [
    "For a better presentation of the results we need to aggregate all results and sort them by pressure.\n",
    "\n",
    "*The following code requires matplotlib.*"
   ]
  },
  {
   "cell_type": "code",
   "execution_count": 9,
   "metadata": {},
   "outputs": [
    {
     "data": {
      "image/png": "[encoded data removed]",
      "text/plain": [
       "<Figure size 640x480 with 1 Axes>"
      ]
     },
     "metadata": {},
     "output_type": "display_data"
    }
   ],
   "source": [
    "%matplotlib inline\n",
    "# Display plots within the notebook\n",
    "\n",
    "from matplotlib import pyplot as plt\n",
    "\n",
    "V = dict()\n",
    "V_idg = dict()\n",
    "\n",
    "for job in project:\n",
    "    V[job.statepoint()[\"p\"]] = get_volume(job)\n",
    "    V_idg[job.statepoint()[\"p\"]] = job.document[\"V\"]\n",
    "\n",
    "p = sorted(V.keys())\n",
    "V = [V[p_] for p_ in p]\n",
    "V_idg = [V_idg[p_] for p_ in p]\n",
    "\n",
    "plt.plot(p, V, label=\"LJ\")\n",
    "plt.plot(p, V_idg, label=\"idG\")\n",
    "plt.xlabel(r\"pressure [$\\epsilon / \\sigma^3$]\")\n",
    "plt.ylabel(r\"volume [$\\sigma^3$]\")\n",
    "plt.legend()\n",
    "plt.show()"
   ]
  },
  {
   "cell_type": "markdown",
   "metadata": {},
   "source": [
    "Uncomment and execute the following line to remove all data and start over."
   ]
  },
  {
   "cell_type": "code",
   "execution_count": 10,
   "metadata": {
    "tags": []
   },
   "outputs": [],
   "source": [
    "# %rm -r projects/tutorial-signac-flow-hoomd-blue/workspace"
   ]
  }
 ],
 "metadata": {
  "kernelspec": {
   "display_name": "Python 3 (ipykernel)",
   "language": "python",
   "name": "python3"
  },
  "language_info": {
   "codemirror_mode": {
    "name": "ipython",
    "version": 3
   },
   "file_extension": ".py",
   "mimetype": "text/x-python",
   "name": "python",
   "nbconvert_exporter": "python",
   "pygments_lexer": "ipython3",
   "version": "3.12.0"
  }
 },
 "nbformat": 4,
 "nbformat_minor": 4
}
