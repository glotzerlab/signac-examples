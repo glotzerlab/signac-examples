{
 "cells": [
  {
   "cell_type": "markdown",
   "metadata": {},
   "source": [
    "# 2.2 Integration with pandas data frames\n",
    "\n",
    "As was shown earlier, we can use indexes to search for specific data points.\n",
    "One way to operate on the data is using pandas data frames.\n",
    "\n",
    "*Please note: The following steps require the pandas package.*"
   ]
  },
  {
   "cell_type": "code",
   "execution_count": null,
   "metadata": {},
   "outputs": [],
   "source": [
    "import pandas as pd\n",
    "import signac\n",
    "\n",
    "project = signac.get_project(root=\"projects/tutorial\")"
   ]
  },
  {
   "cell_type": "markdown",
   "metadata": {},
   "source": [
    "Let's first create a basic index and use it to construct an index data frame:"
   ]
  },
  {
   "cell_type": "code",
   "execution_count": null,
   "metadata": {},
   "outputs": [],
   "source": [
    "df_index = pd.DataFrame(project.index())\n",
    "df_index.head()"
   ]
  },
  {
   "cell_type": "markdown",
   "metadata": {},
   "source": [
    "It is a good idea, to explicitly use the `_id` value as index key:"
   ]
  },
  {
   "cell_type": "code",
   "execution_count": null,
   "metadata": {},
   "outputs": [],
   "source": [
    "df_index = df_index.set_index([\"_id\"])\n",
    "df_index.head()"
   ]
  },
  {
   "cell_type": "markdown",
   "metadata": {},
   "source": [
    "Furthermore, the index would be more useful if each statepoint parameter had its own column."
   ]
  },
  {
   "cell_type": "code",
   "execution_count": null,
   "metadata": {},
   "outputs": [],
   "source": [
    "statepoints = {doc[\"_id\"]: doc[\"statepoint\"] for doc in project.index()}\n",
    "df = pd.DataFrame(statepoints).T.join(df_index)\n",
    "df.head()"
   ]
  },
  {
   "cell_type": "markdown",
   "metadata": {},
   "source": [
    "Now we can select specific data subsets, for example to calculate the mean gas volume of argon for a pressure *p* between 2.0 and 5.0:"
   ]
  },
  {
   "cell_type": "code",
   "execution_count": null,
   "metadata": {},
   "outputs": [],
   "source": [
    "df[(df.fluid == \"argon\") & (df.p > 2.0) & (df.p <= 5.0)].V_gas.mean()"
   ]
  },
  {
   "cell_type": "markdown",
   "metadata": {},
   "source": [
    "Or we can plot a p-V phase diagram for argon (*requires matplotlib*)."
   ]
  },
  {
   "cell_type": "code",
   "execution_count": null,
   "metadata": {},
   "outputs": [],
   "source": [
    "%matplotlib inline\n",
    "\n",
    "df_water = df[df.fluid == \"argon\"][[\"p\", \"V_liq\", \"V_gas\"]]\n",
    "df_water.sort_values(\"p\").set_index(\"p\").plot(logy=True)"
   ]
  },
  {
   "cell_type": "markdown",
   "metadata": {},
   "source": [
    "Or we group the data by fluid and compare the gas densities for low pressures:"
   ]
  },
  {
   "cell_type": "code",
   "execution_count": null,
   "metadata": {},
   "outputs": [],
   "source": [
    "from matplotlib import pyplot as plt\n",
    "\n",
    "for fluid, group in df[df.p < 2].groupby(\"fluid\"):\n",
    "    d = group.sort_values(\"p\")\n",
    "    plt.plot(d[\"p\"], d[\"V_gas\"] / d[\"N\"], label=fluid)\n",
    "plt.xlabel(\"p\")\n",
    "plt.ylabel(r\"$\\rho_{gas}$\")\n",
    "plt.legend(loc=0)\n",
    "plt.show()"
   ]
  }
 ],
 "metadata": {
  "kernelspec": {
   "display_name": "Python 3",
   "language": "python",
   "name": "python3"
  },
  "language_info": {
   "codemirror_mode": {
    "name": "ipython",
    "version": 3
   },
   "file_extension": ".py",
   "mimetype": "text/x-python",
   "name": "python",
   "nbconvert_exporter": "python",
   "pygments_lexer": "ipython3",
   "version": "3.8.6"
  }
 },
 "nbformat": 4,
 "nbformat_minor": 4
}
