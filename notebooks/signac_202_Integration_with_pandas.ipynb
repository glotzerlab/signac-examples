{
 "cells": [
  {
   "cell_type": "markdown",
   "metadata": {},
   "source": [
    "# 2.2 Integration with pandas data frames\n",
    "\n",
    "\n",
    "<div class=\"alert alert-warning\">\n",
    "\n",
    "Note: This example is in the process of being updated for the latest versions of signac and signac-flow. See the `to_dataframe()` method in the meantime.\n",
    "    \n",
    "    \n",
    "</div>\n",
    "\n",
    "As was shown earlier, we can use indexes to search for specific data points.\n",
    "One way to operate on the data is using pandas data frames.\n",
    "\n",
    "*Please note: The following steps require the pandas package.*"
   ]
  },
  {
   "cell_type": "code",
   "execution_count": 1,
   "metadata": {},
   "outputs": [],
   "source": [
    "import pandas as pd\n",
    "import signac\n",
    "\n",
    "project = signac.get_project(root=\"projects/tutorial\")"
   ]
  },
  {
   "cell_type": "markdown",
   "metadata": {},
   "source": [
    "Let's first create a basic index and use it to construct an index data frame:"
   ]
  },
  {
   "cell_type": "code",
   "execution_count": 2,
   "metadata": {},
   "outputs": [
    {
     "data": {
      "text/html": [
       "<div>\n",
       "<style scoped>\n",
       "    .dataframe tbody tr th:only-of-type {\n",
       "        vertical-align: middle;\n",
       "    }\n",
       "\n",
       "    .dataframe tbody tr th {\n",
       "        vertical-align: top;\n",
       "    }\n",
       "\n",
       "    .dataframe thead th {\n",
       "        text-align: right;\n",
       "    }\n",
       "</style>\n",
       "<table border=\"1\" class=\"dataframe\">\n",
       "  <thead>\n",
       "    <tr style=\"text-align: right;\">\n",
       "      <th></th>\n",
       "      <th>_id</th>\n",
       "      <th>statepoint</th>\n",
       "      <th>V_liq</th>\n",
       "      <th>V_gas</th>\n",
       "      <th>fluid</th>\n",
       "      <th>signac_id</th>\n",
       "      <th>root</th>\n",
       "    </tr>\n",
       "  </thead>\n",
       "  <tbody>\n",
       "    <tr>\n",
       "      <th>0</th>\n",
       "      <td>0e909ffdba496bbb590fbce31f3a4563</td>\n",
       "      <td>{'p': 3.4000000000000004, 'kT': 1.0, 'N': 1000...</td>\n",
       "      <td>0.000000</td>\n",
       "      <td>294.117647</td>\n",
       "      <td>ideal gas</td>\n",
       "      <td>0e909ffdba496bbb590fbce31f3a4563</td>\n",
       "      <td>/home/bdice/code/signac-examples/notebooks/pro...</td>\n",
       "    </tr>\n",
       "    <tr>\n",
       "      <th>1</th>\n",
       "      <td>6a7e3ef575478edbe08e4a6e4f0e6365</td>\n",
       "      <td>{'N': 1000, 'p': 2.3000000000000003, 'kT': 1.0...</td>\n",
       "      <td>32.802659</td>\n",
       "      <td>216.994975</td>\n",
       "      <td>argon</td>\n",
       "      <td>6a7e3ef575478edbe08e4a6e4f0e6365</td>\n",
       "      <td>/home/bdice/code/signac-examples/notebooks/pro...</td>\n",
       "    </tr>\n",
       "    <tr>\n",
       "      <th>2</th>\n",
       "      <td>66ca1e809607580496c8ac4825e57e7d</td>\n",
       "      <td>{'p': 7.800000000000001, 'kT': 1.0, 'N': 1000,...</td>\n",
       "      <td>0.000000</td>\n",
       "      <td>128.205128</td>\n",
       "      <td>ideal gas</td>\n",
       "      <td>66ca1e809607580496c8ac4825e57e7d</td>\n",
       "      <td>/home/bdice/code/signac-examples/notebooks/pro...</td>\n",
       "    </tr>\n",
       "    <tr>\n",
       "      <th>3</th>\n",
       "      <td>1f147aff97cbbda8aa7c4457a9b51159</td>\n",
       "      <td>{'N': 1000, 'p': 4.5, 'kT': 1.0, 'a': 1.355, '...</td>\n",
       "      <td>32.801209</td>\n",
       "      <td>110.715506</td>\n",
       "      <td>argon</td>\n",
       "      <td>1f147aff97cbbda8aa7c4457a9b51159</td>\n",
       "      <td>/home/bdice/code/signac-examples/notebooks/pro...</td>\n",
       "    </tr>\n",
       "    <tr>\n",
       "      <th>4</th>\n",
       "      <td>f906bdf73414abbbd2e8d2b672201fb3</td>\n",
       "      <td>{'p': 1.0, 'kT': 1.0, 'N': 1000, 'a': 0, 'b': 0}</td>\n",
       "      <td>0.000000</td>\n",
       "      <td>1000.000000</td>\n",
       "      <td>NaN</td>\n",
       "      <td>f906bdf73414abbbd2e8d2b672201fb3</td>\n",
       "      <td>/home/bdice/code/signac-examples/notebooks/pro...</td>\n",
       "    </tr>\n",
       "  </tbody>\n",
       "</table>\n",
       "</div>"
      ],
      "text/plain": [
       "                                _id  \\\n",
       "0  0e909ffdba496bbb590fbce31f3a4563   \n",
       "1  6a7e3ef575478edbe08e4a6e4f0e6365   \n",
       "2  66ca1e809607580496c8ac4825e57e7d   \n",
       "3  1f147aff97cbbda8aa7c4457a9b51159   \n",
       "4  f906bdf73414abbbd2e8d2b672201fb3   \n",
       "\n",
       "                                          statepoint      V_liq        V_gas  \\\n",
       "0  {'p': 3.4000000000000004, 'kT': 1.0, 'N': 1000...   0.000000   294.117647   \n",
       "1  {'N': 1000, 'p': 2.3000000000000003, 'kT': 1.0...  32.802659   216.994975   \n",
       "2  {'p': 7.800000000000001, 'kT': 1.0, 'N': 1000,...   0.000000   128.205128   \n",
       "3  {'N': 1000, 'p': 4.5, 'kT': 1.0, 'a': 1.355, '...  32.801209   110.715506   \n",
       "4   {'p': 1.0, 'kT': 1.0, 'N': 1000, 'a': 0, 'b': 0}   0.000000  1000.000000   \n",
       "\n",
       "       fluid                         signac_id  \\\n",
       "0  ideal gas  0e909ffdba496bbb590fbce31f3a4563   \n",
       "1      argon  6a7e3ef575478edbe08e4a6e4f0e6365   \n",
       "2  ideal gas  66ca1e809607580496c8ac4825e57e7d   \n",
       "3      argon  1f147aff97cbbda8aa7c4457a9b51159   \n",
       "4        NaN  f906bdf73414abbbd2e8d2b672201fb3   \n",
       "\n",
       "                                                root  \n",
       "0  /home/bdice/code/signac-examples/notebooks/pro...  \n",
       "1  /home/bdice/code/signac-examples/notebooks/pro...  \n",
       "2  /home/bdice/code/signac-examples/notebooks/pro...  \n",
       "3  /home/bdice/code/signac-examples/notebooks/pro...  \n",
       "4  /home/bdice/code/signac-examples/notebooks/pro...  "
      ]
     },
     "execution_count": 1,
     "metadata": {},
     "output_type": "execute_result"
    }
   ],
   "source": [
    "df_index = pd.DataFrame(project.index())\n",
    "df_index.head()"
   ]
  },
  {
   "cell_type": "markdown",
   "metadata": {},
   "source": [
    "It is a good idea, to explicitly use the `_id` value as index key:"
   ]
  },
  {
   "cell_type": "code",
   "execution_count": 3,
   "metadata": {},
   "outputs": [
    {
     "data": {
      "text/html": [
       "<div>\n",
       "<style scoped>\n",
       "    .dataframe tbody tr th:only-of-type {\n",
       "        vertical-align: middle;\n",
       "    }\n",
       "\n",
       "    .dataframe tbody tr th {\n",
       "        vertical-align: top;\n",
       "    }\n",
       "\n",
       "    .dataframe thead th {\n",
       "        text-align: right;\n",
       "    }\n",
       "</style>\n",
       "<table border=\"1\" class=\"dataframe\">\n",
       "  <thead>\n",
       "    <tr style=\"text-align: right;\">\n",
       "      <th></th>\n",
       "      <th>statepoint</th>\n",
       "      <th>V_liq</th>\n",
       "      <th>V_gas</th>\n",
       "      <th>fluid</th>\n",
       "      <th>signac_id</th>\n",
       "      <th>root</th>\n",
       "    </tr>\n",
       "    <tr>\n",
       "      <th>_id</th>\n",
       "      <th></th>\n",
       "      <th></th>\n",
       "      <th></th>\n",
       "      <th></th>\n",
       "      <th></th>\n",
       "      <th></th>\n",
       "    </tr>\n",
       "  </thead>\n",
       "  <tbody>\n",
       "    <tr>\n",
       "      <th>0e909ffdba496bbb590fbce31f3a4563</th>\n",
       "      <td>{'p': 3.4000000000000004, 'kT': 1.0, 'N': 1000...</td>\n",
       "      <td>0.000000</td>\n",
       "      <td>294.117647</td>\n",
       "      <td>ideal gas</td>\n",
       "      <td>0e909ffdba496bbb590fbce31f3a4563</td>\n",
       "      <td>/home/bdice/code/signac-examples/notebooks/pro...</td>\n",
       "    </tr>\n",
       "    <tr>\n",
       "      <th>6a7e3ef575478edbe08e4a6e4f0e6365</th>\n",
       "      <td>{'N': 1000, 'p': 2.3000000000000003, 'kT': 1.0...</td>\n",
       "      <td>32.802659</td>\n",
       "      <td>216.994975</td>\n",
       "      <td>argon</td>\n",
       "      <td>6a7e3ef575478edbe08e4a6e4f0e6365</td>\n",
       "      <td>/home/bdice/code/signac-examples/notebooks/pro...</td>\n",
       "    </tr>\n",
       "    <tr>\n",
       "      <th>66ca1e809607580496c8ac4825e57e7d</th>\n",
       "      <td>{'p': 7.800000000000001, 'kT': 1.0, 'N': 1000,...</td>\n",
       "      <td>0.000000</td>\n",
       "      <td>128.205128</td>\n",
       "      <td>ideal gas</td>\n",
       "      <td>66ca1e809607580496c8ac4825e57e7d</td>\n",
       "      <td>/home/bdice/code/signac-examples/notebooks/pro...</td>\n",
       "    </tr>\n",
       "    <tr>\n",
       "      <th>1f147aff97cbbda8aa7c4457a9b51159</th>\n",
       "      <td>{'N': 1000, 'p': 4.5, 'kT': 1.0, 'a': 1.355, '...</td>\n",
       "      <td>32.801209</td>\n",
       "      <td>110.715506</td>\n",
       "      <td>argon</td>\n",
       "      <td>1f147aff97cbbda8aa7c4457a9b51159</td>\n",
       "      <td>/home/bdice/code/signac-examples/notebooks/pro...</td>\n",
       "    </tr>\n",
       "    <tr>\n",
       "      <th>f906bdf73414abbbd2e8d2b672201fb3</th>\n",
       "      <td>{'p': 1.0, 'kT': 1.0, 'N': 1000, 'a': 0, 'b': 0}</td>\n",
       "      <td>0.000000</td>\n",
       "      <td>1000.000000</td>\n",
       "      <td>NaN</td>\n",
       "      <td>f906bdf73414abbbd2e8d2b672201fb3</td>\n",
       "      <td>/home/bdice/code/signac-examples/notebooks/pro...</td>\n",
       "    </tr>\n",
       "  </tbody>\n",
       "</table>\n",
       "</div>"
      ],
      "text/plain": [
       "                                                                         statepoint  \\\n",
       "_id                                                                                   \n",
       "0e909ffdba496bbb590fbce31f3a4563  {'p': 3.4000000000000004, 'kT': 1.0, 'N': 1000...   \n",
       "6a7e3ef575478edbe08e4a6e4f0e6365  {'N': 1000, 'p': 2.3000000000000003, 'kT': 1.0...   \n",
       "66ca1e809607580496c8ac4825e57e7d  {'p': 7.800000000000001, 'kT': 1.0, 'N': 1000,...   \n",
       "1f147aff97cbbda8aa7c4457a9b51159  {'N': 1000, 'p': 4.5, 'kT': 1.0, 'a': 1.355, '...   \n",
       "f906bdf73414abbbd2e8d2b672201fb3   {'p': 1.0, 'kT': 1.0, 'N': 1000, 'a': 0, 'b': 0}   \n",
       "\n",
       "                                      V_liq        V_gas      fluid  \\\n",
       "_id                                                                   \n",
       "0e909ffdba496bbb590fbce31f3a4563   0.000000   294.117647  ideal gas   \n",
       "6a7e3ef575478edbe08e4a6e4f0e6365  32.802659   216.994975      argon   \n",
       "66ca1e809607580496c8ac4825e57e7d   0.000000   128.205128  ideal gas   \n",
       "1f147aff97cbbda8aa7c4457a9b51159  32.801209   110.715506      argon   \n",
       "f906bdf73414abbbd2e8d2b672201fb3   0.000000  1000.000000        NaN   \n",
       "\n",
       "                                                         signac_id  \\\n",
       "_id                                                                  \n",
       "0e909ffdba496bbb590fbce31f3a4563  0e909ffdba496bbb590fbce31f3a4563   \n",
       "6a7e3ef575478edbe08e4a6e4f0e6365  6a7e3ef575478edbe08e4a6e4f0e6365   \n",
       "66ca1e809607580496c8ac4825e57e7d  66ca1e809607580496c8ac4825e57e7d   \n",
       "1f147aff97cbbda8aa7c4457a9b51159  1f147aff97cbbda8aa7c4457a9b51159   \n",
       "f906bdf73414abbbd2e8d2b672201fb3  f906bdf73414abbbd2e8d2b672201fb3   \n",
       "\n",
       "                                                                               root  \n",
       "_id                                                                                  \n",
       "0e909ffdba496bbb590fbce31f3a4563  /home/bdice/code/signac-examples/notebooks/pro...  \n",
       "6a7e3ef575478edbe08e4a6e4f0e6365  /home/bdice/code/signac-examples/notebooks/pro...  \n",
       "66ca1e809607580496c8ac4825e57e7d  /home/bdice/code/signac-examples/notebooks/pro...  \n",
       "1f147aff97cbbda8aa7c4457a9b51159  /home/bdice/code/signac-examples/notebooks/pro...  \n",
       "f906bdf73414abbbd2e8d2b672201fb3  /home/bdice/code/signac-examples/notebooks/pro...  "
      ]
     },
     "execution_count": 1,
     "metadata": {},
     "output_type": "execute_result"
    }
   ],
   "source": [
    "df_index = df_index.set_index([\"_id\"])\n",
    "df_index.head()"
   ]
  },
  {
   "cell_type": "markdown",
   "metadata": {},
   "source": [
    "Furthermore, the index would be more useful if each statepoint parameter had its own column."
   ]
  },
  {
   "cell_type": "code",
   "execution_count": 4,
   "metadata": {},
   "outputs": [
    {
     "data": {
      "text/html": [
       "<div>\n",
       "<style scoped>\n",
       "    .dataframe tbody tr th:only-of-type {\n",
       "        vertical-align: middle;\n",
       "    }\n",
       "\n",
       "    .dataframe tbody tr th {\n",
       "        vertical-align: top;\n",
       "    }\n",
       "\n",
       "    .dataframe thead th {\n",
       "        text-align: right;\n",
       "    }\n",
       "</style>\n",
       "<table border=\"1\" class=\"dataframe\">\n",
       "  <thead>\n",
       "    <tr style=\"text-align: right;\">\n",
       "      <th></th>\n",
       "      <th>p</th>\n",
       "      <th>kT</th>\n",
       "      <th>N</th>\n",
       "      <th>a</th>\n",
       "      <th>b</th>\n",
       "      <th>statepoint</th>\n",
       "      <th>V_liq</th>\n",
       "      <th>V_gas</th>\n",
       "      <th>fluid</th>\n",
       "      <th>signac_id</th>\n",
       "      <th>root</th>\n",
       "    </tr>\n",
       "  </thead>\n",
       "  <tbody>\n",
       "    <tr>\n",
       "      <th>0e909ffdba496bbb590fbce31f3a4563</th>\n",
       "      <td>3.4</td>\n",
       "      <td>1.0</td>\n",
       "      <td>1000.0</td>\n",
       "      <td>0.000</td>\n",
       "      <td>0.00000</td>\n",
       "      <td>{'p': 3.4000000000000004, 'kT': 1.0, 'N': 1000...</td>\n",
       "      <td>0.000000</td>\n",
       "      <td>294.117647</td>\n",
       "      <td>ideal gas</td>\n",
       "      <td>0e909ffdba496bbb590fbce31f3a4563</td>\n",
       "      <td>/home/bdice/code/signac-examples/notebooks/pro...</td>\n",
       "    </tr>\n",
       "    <tr>\n",
       "      <th>6a7e3ef575478edbe08e4a6e4f0e6365</th>\n",
       "      <td>2.3</td>\n",
       "      <td>1.0</td>\n",
       "      <td>1000.0</td>\n",
       "      <td>1.355</td>\n",
       "      <td>0.03201</td>\n",
       "      <td>{'N': 1000, 'p': 2.3000000000000003, 'kT': 1.0...</td>\n",
       "      <td>32.802659</td>\n",
       "      <td>216.994975</td>\n",
       "      <td>argon</td>\n",
       "      <td>6a7e3ef575478edbe08e4a6e4f0e6365</td>\n",
       "      <td>/home/bdice/code/signac-examples/notebooks/pro...</td>\n",
       "    </tr>\n",
       "    <tr>\n",
       "      <th>66ca1e809607580496c8ac4825e57e7d</th>\n",
       "      <td>7.8</td>\n",
       "      <td>1.0</td>\n",
       "      <td>1000.0</td>\n",
       "      <td>0.000</td>\n",
       "      <td>0.00000</td>\n",
       "      <td>{'p': 7.800000000000001, 'kT': 1.0, 'N': 1000,...</td>\n",
       "      <td>0.000000</td>\n",
       "      <td>128.205128</td>\n",
       "      <td>ideal gas</td>\n",
       "      <td>66ca1e809607580496c8ac4825e57e7d</td>\n",
       "      <td>/home/bdice/code/signac-examples/notebooks/pro...</td>\n",
       "    </tr>\n",
       "    <tr>\n",
       "      <th>1f147aff97cbbda8aa7c4457a9b51159</th>\n",
       "      <td>4.5</td>\n",
       "      <td>1.0</td>\n",
       "      <td>1000.0</td>\n",
       "      <td>1.355</td>\n",
       "      <td>0.03201</td>\n",
       "      <td>{'N': 1000, 'p': 4.5, 'kT': 1.0, 'a': 1.355, '...</td>\n",
       "      <td>32.801209</td>\n",
       "      <td>110.715506</td>\n",
       "      <td>argon</td>\n",
       "      <td>1f147aff97cbbda8aa7c4457a9b51159</td>\n",
       "      <td>/home/bdice/code/signac-examples/notebooks/pro...</td>\n",
       "    </tr>\n",
       "    <tr>\n",
       "      <th>f906bdf73414abbbd2e8d2b672201fb3</th>\n",
       "      <td>1.0</td>\n",
       "      <td>1.0</td>\n",
       "      <td>1000.0</td>\n",
       "      <td>0.000</td>\n",
       "      <td>0.00000</td>\n",
       "      <td>{'p': 1.0, 'kT': 1.0, 'N': 1000, 'a': 0, 'b': 0}</td>\n",
       "      <td>0.000000</td>\n",
       "      <td>1000.000000</td>\n",
       "      <td>NaN</td>\n",
       "      <td>f906bdf73414abbbd2e8d2b672201fb3</td>\n",
       "      <td>/home/bdice/code/signac-examples/notebooks/pro...</td>\n",
       "    </tr>\n",
       "  </tbody>\n",
       "</table>\n",
       "</div>"
      ],
      "text/plain": [
       "                                    p   kT       N      a        b  \\\n",
       "0e909ffdba496bbb590fbce31f3a4563  3.4  1.0  1000.0  0.000  0.00000   \n",
       "6a7e3ef575478edbe08e4a6e4f0e6365  2.3  1.0  1000.0  1.355  0.03201   \n",
       "66ca1e809607580496c8ac4825e57e7d  7.8  1.0  1000.0  0.000  0.00000   \n",
       "1f147aff97cbbda8aa7c4457a9b51159  4.5  1.0  1000.0  1.355  0.03201   \n",
       "f906bdf73414abbbd2e8d2b672201fb3  1.0  1.0  1000.0  0.000  0.00000   \n",
       "\n",
       "                                                                         statepoint  \\\n",
       "0e909ffdba496bbb590fbce31f3a4563  {'p': 3.4000000000000004, 'kT': 1.0, 'N': 1000...   \n",
       "6a7e3ef575478edbe08e4a6e4f0e6365  {'N': 1000, 'p': 2.3000000000000003, 'kT': 1.0...   \n",
       "66ca1e809607580496c8ac4825e57e7d  {'p': 7.800000000000001, 'kT': 1.0, 'N': 1000,...   \n",
       "1f147aff97cbbda8aa7c4457a9b51159  {'N': 1000, 'p': 4.5, 'kT': 1.0, 'a': 1.355, '...   \n",
       "f906bdf73414abbbd2e8d2b672201fb3   {'p': 1.0, 'kT': 1.0, 'N': 1000, 'a': 0, 'b': 0}   \n",
       "\n",
       "                                      V_liq        V_gas      fluid  \\\n",
       "0e909ffdba496bbb590fbce31f3a4563   0.000000   294.117647  ideal gas   \n",
       "6a7e3ef575478edbe08e4a6e4f0e6365  32.802659   216.994975      argon   \n",
       "66ca1e809607580496c8ac4825e57e7d   0.000000   128.205128  ideal gas   \n",
       "1f147aff97cbbda8aa7c4457a9b51159  32.801209   110.715506      argon   \n",
       "f906bdf73414abbbd2e8d2b672201fb3   0.000000  1000.000000        NaN   \n",
       "\n",
       "                                                         signac_id  \\\n",
       "0e909ffdba496bbb590fbce31f3a4563  0e909ffdba496bbb590fbce31f3a4563   \n",
       "6a7e3ef575478edbe08e4a6e4f0e6365  6a7e3ef575478edbe08e4a6e4f0e6365   \n",
       "66ca1e809607580496c8ac4825e57e7d  66ca1e809607580496c8ac4825e57e7d   \n",
       "1f147aff97cbbda8aa7c4457a9b51159  1f147aff97cbbda8aa7c4457a9b51159   \n",
       "f906bdf73414abbbd2e8d2b672201fb3  f906bdf73414abbbd2e8d2b672201fb3   \n",
       "\n",
       "                                                                               root  \n",
       "0e909ffdba496bbb590fbce31f3a4563  /home/bdice/code/signac-examples/notebooks/pro...  \n",
       "6a7e3ef575478edbe08e4a6e4f0e6365  /home/bdice/code/signac-examples/notebooks/pro...  \n",
       "66ca1e809607580496c8ac4825e57e7d  /home/bdice/code/signac-examples/notebooks/pro...  \n",
       "1f147aff97cbbda8aa7c4457a9b51159  /home/bdice/code/signac-examples/notebooks/pro...  \n",
       "f906bdf73414abbbd2e8d2b672201fb3  /home/bdice/code/signac-examples/notebooks/pro...  "
      ]
     },
     "execution_count": 1,
     "metadata": {},
     "output_type": "execute_result"
    }
   ],
   "source": [
    "statepoints = {doc[\"_id\"]: doc[\"statepoint\"] for doc in project.index()}\n",
    "df = pd.DataFrame(statepoints).T.join(df_index)\n",
    "df.head()"
   ]
  },
  {
   "cell_type": "markdown",
   "metadata": {},
   "source": [
    "Now we can select specific data subsets, for example to calculate the mean gas volume of argon for a pressure *p* between 2.0 and 5.0:"
   ]
  },
  {
   "cell_type": "code",
   "execution_count": 5,
   "metadata": {},
   "outputs": [
    {
     "data": {
      "text/plain": [
       "158.12444608049674"
      ]
     },
     "execution_count": 1,
     "metadata": {},
     "output_type": "execute_result"
    }
   ],
   "source": [
    "df[(df.fluid == \"argon\") & (df.p > 2.0) & (df.p <= 5.0)].V_gas.mean()"
   ]
  },
  {
   "cell_type": "markdown",
   "metadata": {},
   "source": [
    "Or we can plot a p-V phase diagram for argon (*requires matplotlib*)."
   ]
  },
  {
   "cell_type": "code",
   "execution_count": 6,
   "metadata": {},
   "outputs": [
    {
     "data": {
      "text/plain": [
       "<AxesSubplot:xlabel='p'>"
      ]
     },
     "execution_count": 1,
     "metadata": {},
     "output_type": "execute_result"
    },
    {
     "data": {
      "image/png": "[encoded data removed]",
      "text/plain": [
       "<Figure size 432x288 with 1 Axes>"
      ]
     },
     "metadata": {
      "needs_background": "light"
     },
     "output_type": "display_data"
    }
   ],
   "source": [
    "%matplotlib inline\n",
    "\n",
    "df_water = df[df.fluid == \"argon\"][[\"p\", \"V_liq\", \"V_gas\"]]\n",
    "df_water.sort_values(\"p\").set_index(\"p\").plot(logy=True)"
   ]
  },
  {
   "cell_type": "markdown",
   "metadata": {},
   "source": [
    "Or we group the data by fluid and compare the gas densities for low pressures:"
   ]
  },
  {
   "cell_type": "code",
   "execution_count": 7,
   "metadata": {},
   "outputs": [
    {
     "data": {
      "image/png": "[encoded data removed]",
      "text/plain": [
       "<Figure size 432x288 with 1 Axes>"
      ]
     },
     "metadata": {
      "needs_background": "light"
     },
     "output_type": "display_data"
    }
   ],
   "source": [
    "from matplotlib import pyplot as plt\n",
    "\n",
    "for fluid, group in df[df.p < 2].groupby(\"fluid\"):\n",
    "    d = group.sort_values(\"p\")\n",
    "    plt.plot(d[\"p\"], d[\"V_gas\"] / d[\"N\"], label=fluid)\n",
    "plt.xlabel(\"p\")\n",
    "plt.ylabel(r\"$\\rho_{gas}$\")\n",
    "plt.legend(loc=0)\n",
    "plt.show()"
   ]
  }
 ],
 "metadata": {
  "kernelspec": {
   "display_name": "Python 3",
   "language": "python",
   "name": "python3"
  },
  "language_info": {
   "codemirror_mode": {
    "name": "ipython",
    "version": 3
   },
   "file_extension": ".py",
   "mimetype": "text/x-python",
   "name": "python",
   "nbconvert_exporter": "python",
   "pygments_lexer": "ipython3",
   "version": "3.8.6"
  }
 },
 "nbformat": 4,
 "nbformat_minor": 4
}
