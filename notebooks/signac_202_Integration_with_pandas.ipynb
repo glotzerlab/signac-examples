{
 "cells": [
  {
   "cell_type": "markdown",
   "metadata": {},
   "source": [
    "# 2.2 Integration with pandas DataFrames"
   ]
  },
  {
   "cell_type": "code",
   "execution_count": 1,
   "metadata": {},
   "outputs": [],
   "source": [
    "%matplotlib inline\n",
    "import matplotlib.pyplot as plt\n",
    "import pandas as pd\n",
    "import signac\n",
    "\n",
    "project = signac.init_project(\"projects/dataframe-example\")"
   ]
  },
  {
   "cell_type": "markdown",
   "metadata": {},
   "source": [
    "We create a project with some sample data."
   ]
  },
  {
   "cell_type": "code",
   "execution_count": 2,
   "metadata": {},
   "outputs": [],
   "source": [
    "funcs = {\n",
    "    \"abs\": abs,\n",
    "    \"square\": lambda x: x**2,\n",
    "}\n",
    "\n",
    "for x in range(-5, 6):\n",
    "    job = project.open_job({\"x\": x})\n",
    "    for name, func in funcs.items():\n",
    "        job.document[name] = func(x)"
   ]
  },
  {
   "cell_type": "markdown",
   "metadata": {},
   "source": [
    "Let's first create a basic DataFrame from our project:"
   ]
  },
  {
   "cell_type": "code",
   "execution_count": 3,
   "metadata": {},
   "outputs": [
    {
     "data": {
      "text/html": [
       "<div>\n",
       "<style scoped>\n",
       "    .dataframe tbody tr th:only-of-type {\n",
       "        vertical-align: middle;\n",
       "    }\n",
       "\n",
       "    .dataframe tbody tr th {\n",
       "        vertical-align: top;\n",
       "    }\n",
       "\n",
       "    .dataframe thead th {\n",
       "        text-align: right;\n",
       "    }\n",
       "</style>\n",
       "<table border=\"1\" class=\"dataframe\">\n",
       "  <thead>\n",
       "    <tr style=\"text-align: right;\">\n",
       "      <th></th>\n",
       "      <th>sp.x</th>\n",
       "      <th>doc.abs</th>\n",
       "      <th>doc.square</th>\n",
       "    </tr>\n",
       "  </thead>\n",
       "  <tbody>\n",
       "    <tr>\n",
       "      <th>3c5a15f6f26125f2902f38ff28a94072</th>\n",
       "      <td>-5</td>\n",
       "      <td>5</td>\n",
       "      <td>25</td>\n",
       "    </tr>\n",
       "    <tr>\n",
       "      <th>22749661e1ac649551a29953c93c9e92</th>\n",
       "      <td>-4</td>\n",
       "      <td>4</td>\n",
       "      <td>16</td>\n",
       "    </tr>\n",
       "    <tr>\n",
       "      <th>9e892a750ef4bf5ca73069c249088d40</th>\n",
       "      <td>-3</td>\n",
       "      <td>3</td>\n",
       "      <td>9</td>\n",
       "    </tr>\n",
       "    <tr>\n",
       "      <th>46049d7a2b36731d20af67766aadfeea</th>\n",
       "      <td>-2</td>\n",
       "      <td>2</td>\n",
       "      <td>4</td>\n",
       "    </tr>\n",
       "    <tr>\n",
       "      <th>c887a273c9a550e883f09187b0e28eb7</th>\n",
       "      <td>-1</td>\n",
       "      <td>1</td>\n",
       "      <td>1</td>\n",
       "    </tr>\n",
       "    <tr>\n",
       "      <th>eff8ca15e7ca8ae5c09f011f997b34df</th>\n",
       "      <td>0</td>\n",
       "      <td>0</td>\n",
       "      <td>0</td>\n",
       "    </tr>\n",
       "    <tr>\n",
       "      <th>27958648a9e57fcd66ae5e31ff3359e9</th>\n",
       "      <td>1</td>\n",
       "      <td>1</td>\n",
       "      <td>1</td>\n",
       "    </tr>\n",
       "    <tr>\n",
       "      <th>46c24d61c4220f8b62d2ae73d686ec18</th>\n",
       "      <td>2</td>\n",
       "      <td>2</td>\n",
       "      <td>4</td>\n",
       "    </tr>\n",
       "    <tr>\n",
       "      <th>d832cd5075866a4973a78377f49f58a5</th>\n",
       "      <td>3</td>\n",
       "      <td>3</td>\n",
       "      <td>9</td>\n",
       "    </tr>\n",
       "    <tr>\n",
       "      <th>9cdfeafe274b4f1762f0bf885ca055b7</th>\n",
       "      <td>4</td>\n",
       "      <td>4</td>\n",
       "      <td>16</td>\n",
       "    </tr>\n",
       "    <tr>\n",
       "      <th>7e1046a94a75679fe7ac259e068afdb5</th>\n",
       "      <td>5</td>\n",
       "      <td>5</td>\n",
       "      <td>25</td>\n",
       "    </tr>\n",
       "  </tbody>\n",
       "</table>\n",
       "</div>"
      ],
      "text/plain": [
       "                                  sp.x  doc.abs  doc.square\n",
       "3c5a15f6f26125f2902f38ff28a94072    -5        5          25\n",
       "22749661e1ac649551a29953c93c9e92    -4        4          16\n",
       "9e892a750ef4bf5ca73069c249088d40    -3        3           9\n",
       "46049d7a2b36731d20af67766aadfeea    -2        2           4\n",
       "c887a273c9a550e883f09187b0e28eb7    -1        1           1\n",
       "eff8ca15e7ca8ae5c09f011f997b34df     0        0           0\n",
       "27958648a9e57fcd66ae5e31ff3359e9     1        1           1\n",
       "46c24d61c4220f8b62d2ae73d686ec18     2        2           4\n",
       "d832cd5075866a4973a78377f49f58a5     3        3           9\n",
       "9cdfeafe274b4f1762f0bf885ca055b7     4        4          16\n",
       "7e1046a94a75679fe7ac259e068afdb5     5        5          25"
      ]
     },
     "execution_count": 3,
     "metadata": {},
     "output_type": "execute_result"
    }
   ],
   "source": [
    "df = project.to_dataframe()\n",
    "df = df.sort_values(\"sp.x\")\n",
    "df"
   ]
  },
  {
   "cell_type": "markdown",
   "metadata": {},
   "source": [
    "Now we can select specific data subsets, for example jobs with $x=2$ or $x^2 > 10$:"
   ]
  },
  {
   "cell_type": "code",
   "execution_count": 4,
   "metadata": {},
   "outputs": [
    {
     "data": {
      "text/html": [
       "<div>\n",
       "<style scoped>\n",
       "    .dataframe tbody tr th:only-of-type {\n",
       "        vertical-align: middle;\n",
       "    }\n",
       "\n",
       "    .dataframe tbody tr th {\n",
       "        vertical-align: top;\n",
       "    }\n",
       "\n",
       "    .dataframe thead th {\n",
       "        text-align: right;\n",
       "    }\n",
       "</style>\n",
       "<table border=\"1\" class=\"dataframe\">\n",
       "  <thead>\n",
       "    <tr style=\"text-align: right;\">\n",
       "      <th></th>\n",
       "      <th>sp.x</th>\n",
       "      <th>doc.abs</th>\n",
       "      <th>doc.square</th>\n",
       "    </tr>\n",
       "  </thead>\n",
       "  <tbody>\n",
       "    <tr>\n",
       "      <th>3c5a15f6f26125f2902f38ff28a94072</th>\n",
       "      <td>-5</td>\n",
       "      <td>5</td>\n",
       "      <td>25</td>\n",
       "    </tr>\n",
       "    <tr>\n",
       "      <th>22749661e1ac649551a29953c93c9e92</th>\n",
       "      <td>-4</td>\n",
       "      <td>4</td>\n",
       "      <td>16</td>\n",
       "    </tr>\n",
       "    <tr>\n",
       "      <th>46c24d61c4220f8b62d2ae73d686ec18</th>\n",
       "      <td>2</td>\n",
       "      <td>2</td>\n",
       "      <td>4</td>\n",
       "    </tr>\n",
       "    <tr>\n",
       "      <th>9cdfeafe274b4f1762f0bf885ca055b7</th>\n",
       "      <td>4</td>\n",
       "      <td>4</td>\n",
       "      <td>16</td>\n",
       "    </tr>\n",
       "    <tr>\n",
       "      <th>7e1046a94a75679fe7ac259e068afdb5</th>\n",
       "      <td>5</td>\n",
       "      <td>5</td>\n",
       "      <td>25</td>\n",
       "    </tr>\n",
       "  </tbody>\n",
       "</table>\n",
       "</div>"
      ],
      "text/plain": [
       "                                  sp.x  doc.abs  doc.square\n",
       "3c5a15f6f26125f2902f38ff28a94072    -5        5          25\n",
       "22749661e1ac649551a29953c93c9e92    -4        4          16\n",
       "46c24d61c4220f8b62d2ae73d686ec18     2        2           4\n",
       "9cdfeafe274b4f1762f0bf885ca055b7     4        4          16\n",
       "7e1046a94a75679fe7ac259e068afdb5     5        5          25"
      ]
     },
     "execution_count": 4,
     "metadata": {},
     "output_type": "execute_result"
    }
   ],
   "source": [
    "df[(df[\"sp.x\"] == 2) | (df[\"doc.square\"] > 10)]"
   ]
  },
  {
   "cell_type": "markdown",
   "metadata": {},
   "source": [
    "We can plot a graph from our pretend data using matplotlib:"
   ]
  },
  {
   "cell_type": "code",
   "execution_count": 5,
   "metadata": {},
   "outputs": [
    {
     "data": {
      "image/png": "[encoded data removed]",
      "text/plain": [
       "<Figure size 720x480 with 1 Axes>"
      ]
     },
     "metadata": {
      "needs_background": "light"
     },
     "output_type": "display_data"
    }
   ],
   "source": [
    "fig, ax = plt.subplots(dpi=120)\n",
    "df.plot(\"sp.x\", \"doc.abs\", ax=ax, label=\"$f(x)=|x|$\")\n",
    "df.plot(\"sp.x\", \"doc.square\", ax=ax, label=\"$f(x)=x^2$\")\n",
    "ax.set_xlabel(\"x\")\n",
    "ax.set_ylabel(\"f(x)\")\n",
    "plt.show()"
   ]
  }
 ],
 "metadata": {
  "kernelspec": {
   "display_name": "Python 3 (ipykernel)",
   "language": "python",
   "name": "python3"
  },
  "language_info": {
   "codemirror_mode": {
    "name": "ipython",
    "version": 3
   },
   "file_extension": ".py",
   "mimetype": "text/x-python",
   "name": "python",
   "nbconvert_exporter": "python",
   "pygments_lexer": "ipython3",
   "version": "3.9.15"
  }
 },
 "nbformat": 4,
 "nbformat_minor": 4
}
