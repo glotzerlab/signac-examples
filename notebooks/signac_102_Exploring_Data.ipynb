{
 "cells": [
  {
   "cell_type": "markdown",
   "metadata": {},
   "source": [
    "# 1.2 Exploring Data\n",
    "\n",
    "## Finding jobs\n",
    "\n",
    "In [section one](signac_101_Getting_Started.ipynb) of this tutorial, we evaluated the ideal gas equation and stored the results in the *job document* and in a file called `V.txt`.\n",
    "Let's now have a look at how we can explore our data space for basic and advanced analysis.\n",
    "\n",
    "We already saw how to iterate over the *complete* data space using the \"`for job in project`\" expression.\n",
    "This is a short-hand notation for \"`for job in project.find_jobs()`\", meaning: \"find **all** jobs\".\n",
    "\n",
    "Instead of finding all jobs, we can also find a subset using *filters*.\n",
    "\n",
    "Let's get started by getting a handle on our project using the `get_project()` function.\n",
    "We don't need to initialize the project again, since we already did that in section 1."
   ]
  },
  {
   "cell_type": "code",
   "execution_count": null,
   "metadata": {},
   "outputs": [],
   "source": [
    "import signac\n",
    "project = signac.get_project('projects/tutorial')"
   ]
  },
  {
   "cell_type": "markdown",
   "metadata": {},
   "source": [
    "Next, we assume that we would like to find all jobs, where *p=10.0*. For this, we can use the `find_jobs()` method, which takes a dictionary of parameters as filter argument."
   ]
  },
  {
   "cell_type": "code",
   "execution_count": null,
   "metadata": {},
   "outputs": [],
   "source": [
    "for job in project.find_jobs({'p': 10.0}):\n",
    "    print(job.statepoint())"
   ]
  },
  {
   "cell_type": "markdown",
   "metadata": {},
   "source": [
    "In this case, that is of course only a single job.\n",
    "\n",
    "You can execute the same kind of find operation on the [command line](signac_105_Command_Line_Interface.ipynb) with `$ signac find`, as will be shown later."
   ]
  },
  {
   "cell_type": "markdown",
   "metadata": {},
   "source": [
    "While the filtering method is optimized for a simple dissection of the data space, it is possible to construct more complex query routines for example using [list comprehensions](https://docs.python.org/3/tutorial/datastructures.html#list-comprehensions).\n",
    "\n",
    "This is an example for how to select all jobs where the pressure *p* is greater than 0.1:"
   ]
  },
  {
   "cell_type": "code",
   "execution_count": null,
   "metadata": {},
   "outputs": [],
   "source": [
    "jobs_p_gt_0_1 = [job for job in project if job.sp.p > 0.1]\n",
    "for job in jobs_p_gt_0_1:\n",
    "    print(job.statepoint(), job.document)"
   ]
  },
  {
   "cell_type": "markdown",
   "metadata": {},
   "source": [
    "Finding jobs by certain criteria requires an index of the data space.\n",
    "In all previous examples this index was created implicitly, however depending on the data space size, it may make sense to create the index explicitly for multiple uses. This is shown in the next section."
   ]
  },
  {
   "cell_type": "markdown",
   "metadata": {},
   "source": [
    "## Indexing\n",
    "\n",
    "An index is a complete record of the data and its associated metadata within our project’s data space. To generate an index for our project's data space, use the `index()` method:"
   ]
  },
  {
   "cell_type": "code",
   "execution_count": null,
   "metadata": {},
   "outputs": [],
   "source": [
    "for doc in project.index():\n",
    "    print(doc)"
   ]
  },
  {
   "cell_type": "markdown",
   "metadata": {},
   "source": [
    "Using and [index](http://signac.readthedocs.io/en/latest/indexing.html) to operate on data is particular useful in later stages of a computational investigation, where data may come from different projects and the actual storage location of files is less important.\n",
    "\n",
    "You can store the index wherever it may be useful, e.g., a file, a database, or even just in a variable for repeated find operations within one script.\n",
    "The **signac** framework provides the `Collection` class, which can be utilized to manage indeces in memory and on disk."
   ]
  },
  {
   "cell_type": "code",
   "execution_count": null,
   "metadata": {},
   "outputs": [],
   "source": [
    "index = signac.Collection(project.index())\n",
    "\n",
    "for doc in index.find({'statepoint.p': 10.0}):\n",
    "    print(doc)"
   ]
  },
  {
   "cell_type": "markdown",
   "metadata": {},
   "source": [
    "## Views\n",
    "\n",
    "Sometimes we want to examine our data on the file system directly. However the file paths within the workspace are obfuscated by the *job id*. The solution is to use *views*, which are human-readable, maximally compact hierarchical links to our data space.\n",
    "\n",
    "To create a linked view we simply execute the `create_linked_view()` method within python or the `$ signac view` command on the [command line](signac_105_Command_Line_Interface.ipynb)."
   ]
  },
  {
   "cell_type": "code",
   "execution_count": null,
   "metadata": {},
   "outputs": [],
   "source": [
    "project.create_linked_view(prefix='projects/tutorial/view')\n",
    "%ls projects/tutorial/view"
   ]
  },
  {
   "cell_type": "markdown",
   "metadata": {},
   "source": [
    "The view paths only contain parameters which actually vary across the different jobs.\n",
    "In this example, that is only the pressure *p*.\n",
    "\n",
    "This allows us to examine the data with highly-compact human-readable path names:"
   ]
  },
  {
   "cell_type": "code",
   "execution_count": null,
   "metadata": {},
   "outputs": [],
   "source": [
    "%ls 'projects/tutorial/view/p/1.0/job/'\n",
    "%cat 'projects/tutorial/view/p/1.0/job/V.txt'"
   ]
  },
  {
   "cell_type": "markdown",
   "metadata": {},
   "source": [
    "**NOTE: Update your view after adding or removing jobs by executing the view command for the same prefix again!**\n",
    "\n",
    "Tip: Consider creating a linked view for large data sets on an [**in-memory** file system](https://en.wikipedia.org/wiki/Tmpfs) for best performance!"
   ]
  },
  {
   "cell_type": "markdown",
   "metadata": {},
   "source": [
    "The [next section](signac_103_A_Basic_Workflow.ipynb) will demonstrate how to implement a basic, but complete workflow for more expensive computations."
   ]
  }
 ],
 "metadata": {
  "kernelspec": {
   "display_name": "Python 3",
   "language": "python",
   "name": "python3"
  },
  "language_info": {
   "codemirror_mode": {
    "name": "ipython",
    "version": 3
   },
   "file_extension": ".py",
   "mimetype": "text/x-python",
   "name": "python",
   "nbconvert_exporter": "python",
   "pygments_lexer": "ipython3",
   "version": "3.8.3"
  }
 },
 "nbformat": 4,
 "nbformat_minor": 4
}
