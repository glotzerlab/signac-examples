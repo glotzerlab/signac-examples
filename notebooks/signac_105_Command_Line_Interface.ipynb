{
 "cells": [
  {
   "cell_type": "markdown",
   "metadata": {},
   "source": [
    "# 1.5 Command Line Interface (CLI)\n",
    "\n",
    "The following section demonstrates how to use the **signac** command line interface (CLI).\n",
    "The CLI allows you to interact with your data space without python, which may be advantageous in various situations, e.g., for scripting or data exploration.\n",
    "\n",
    "You will find that for many of the functions introduced earlier there is an equivalent CLI command.\n",
    "\n",
    "The CLI is accessed via the top-level ``signac`` command.\n",
    "You can get help about the various functions with the `-h` or `--help` argument."
   ]
  },
  {
   "cell_type": "code",
   "execution_count": null,
   "metadata": {
    "scrolled": true
   },
   "outputs": [],
   "source": [
    "%%bash\n",
    "signac --help"
   ]
  },
  {
   "cell_type": "markdown",
   "metadata": {},
   "source": [
    "To interact with a project on the command line, the current working directory needs to be within or below the project's root directory.\n",
    "Let's start by reseting the designated project root directory for this section of the tutorial."
   ]
  },
  {
   "cell_type": "code",
   "execution_count": null,
   "metadata": {},
   "outputs": [],
   "source": [
    "%rm -rf projects/tutorial/cli\n",
    "%mkdir -p projects/tutorial/cli"
   ]
  },
  {
   "cell_type": "markdown",
   "metadata": {},
   "source": [
    "Next we switch the current working directory to the project root directory."
   ]
  },
  {
   "cell_type": "code",
   "execution_count": null,
   "metadata": {},
   "outputs": [],
   "source": [
    "%cd projects/tutorial/cli"
   ]
  },
  {
   "cell_type": "markdown",
   "metadata": {},
   "source": [
    "Then we initialize the project."
   ]
  },
  {
   "cell_type": "code",
   "execution_count": null,
   "metadata": {},
   "outputs": [],
   "source": [
    "%%bash\n",
    "signac init TutorialCLIProject"
   ]
  },
  {
   "cell_type": "markdown",
   "metadata": {},
   "source": [
    "We can verify the project configuration using the `signac project` command."
   ]
  },
  {
   "cell_type": "code",
   "execution_count": null,
   "metadata": {},
   "outputs": [],
   "source": [
    "%%bash\n",
    "signac project\n",
    "signac project --workspace"
   ]
  },
  {
   "cell_type": "markdown",
   "metadata": {},
   "source": [
    "We access a job by providing the state point on the command line in JSON format †).\n",
    "\n",
    "†) *The JSON format requires double quotes for keys.*"
   ]
  },
  {
   "cell_type": "code",
   "execution_count": null,
   "metadata": {},
   "outputs": [],
   "source": [
    "%%bash\n",
    "signac job '{\"kT\": 1.0, \"p\": 1.0, \"N\": 1000}'"
   ]
  },
  {
   "cell_type": "markdown",
   "metadata": {},
   "source": [
    "By default this will print the associated *job id* to STDOUT."
   ]
  },
  {
   "cell_type": "markdown",
   "metadata": {},
   "source": [
    "Instead of the *job id*, we can also get the path to the job's workspace."
   ]
  },
  {
   "cell_type": "code",
   "execution_count": null,
   "metadata": {},
   "outputs": [],
   "source": [
    "%%bash\n",
    "signac job '{\"kT\": 1.0, \"p\": 1.0, \"N\": 1000}' --workspace"
   ]
  },
  {
   "cell_type": "markdown",
   "metadata": {},
   "source": [
    "Please not, that obtaining the path in this way does not necessarily mean that the path exists.\n",
    "However, we can initialize the job and create the workspace using the `-c` or `--create` argument."
   ]
  },
  {
   "cell_type": "code",
   "execution_count": null,
   "metadata": {},
   "outputs": [],
   "source": [
    "%%bash\n",
    "signac job '{\"kT\": 1.0, \"p\": 1.0, \"N\": 1000}' --create"
   ]
  },
  {
   "cell_type": "markdown",
   "metadata": {},
   "source": [
    "We can use the `signac statepoint` command to get the statepoint associated with the *initialized* job."
   ]
  },
  {
   "cell_type": "code",
   "execution_count": null,
   "metadata": {},
   "outputs": [],
   "source": [
    "%%bash\n",
    "signac statepoint ee617ad585a90809947709a7a45dda9a"
   ]
  },
  {
   "cell_type": "markdown",
   "metadata": {},
   "source": [
    "Usually we will not provide statepoints on the command line, but read them from a file.\n",
    "Let's create a statepoint file with one statepoint:"
   ]
  },
  {
   "cell_type": "code",
   "execution_count": null,
   "metadata": {},
   "outputs": [],
   "source": [
    "%%bash\n",
    "echo '{\"kT\": 1.0, \"p\": 0.1, \"N\": 1000}' > statepoint.txt\n",
    "cat statepoint.txt"
   ]
  },
  {
   "cell_type": "markdown",
   "metadata": {},
   "source": [
    "We can pipe the content of this file into the **signac** CLI to get the corresponding *job id*."
   ]
  },
  {
   "cell_type": "code",
   "execution_count": null,
   "metadata": {},
   "outputs": [],
   "source": [
    "%%bash\n",
    "cat statepoint.txt | signac job"
   ]
  },
  {
   "cell_type": "markdown",
   "metadata": {},
   "source": [
    "We will reproduce the ideal gas project from section 1.1 to generate some data for the following examples."
   ]
  },
  {
   "cell_type": "code",
   "execution_count": null,
   "metadata": {},
   "outputs": [],
   "source": [
    "import signac\n",
    "\n",
    "def V_idg(N, p, kT):\n",
    "    return N * kT / p\n",
    "\n",
    "project = signac.get_project()\n",
    "for p in 0.1, 1.0, 10.0:\n",
    "    sp = {'p': p, 'kT': 1.0, 'N': 1000}\n",
    "    job = project.open_job(sp)\n",
    "    job.document['V'] = V_idg(**sp)"
   ]
  },
  {
   "cell_type": "markdown",
   "metadata": {},
   "source": [
    "We can use the `signac find` command to find all jobs within our project's workspace."
   ]
  },
  {
   "cell_type": "code",
   "execution_count": null,
   "metadata": {},
   "outputs": [],
   "source": [
    "%%bash\n",
    "signac find"
   ]
  },
  {
   "cell_type": "markdown",
   "metadata": {},
   "source": [
    "Just like with `project.find_jobs()` we can provide a filter argument to find a subset of jobs matching the given filter.\n",
    "Here we get all jobs with a pressure of 0.1:"
   ]
  },
  {
   "cell_type": "code",
   "execution_count": null,
   "metadata": {},
   "outputs": [],
   "source": [
    "%%bash\n",
    "signac find '{\"p\": 0.1}'"
   ]
  },
  {
   "cell_type": "markdown",
   "metadata": {},
   "source": [
    "In this example, that is of course only one job.\n",
    "\n",
    "Similarly, we can also filter based on information in the job document. Here, we find all jobs that have a volume corresponding to a pressure of 1 (volume = 1000*1/1 = 1000)."
   ]
  },
  {
   "cell_type": "code",
   "execution_count": null,
   "metadata": {},
   "outputs": [],
   "source": [
    "%%bash\n",
    "signac find --doc-filter '{\"V\": 1000.0}'"
   ]
  },
  {
   "cell_type": "markdown",
   "metadata": {},
   "source": [
    "Once again, this only returns one job in this case.\n",
    "\n",
    "We can pipe `signac find` results into `signac statepoint` with `xargs` to resolve the statepoints."
   ]
  },
  {
   "cell_type": "code",
   "execution_count": null,
   "metadata": {},
   "outputs": [],
   "source": [
    "%%bash\n",
    "signac find | xargs signac statepoint"
   ]
  },
  {
   "cell_type": "markdown",
   "metadata": {},
   "source": [
    "You will have noticed that each time we execute a *find* operation the data space is indexed anew.\n",
    "\n",
    "This is no problem for small data spaces, however especially for larger data spaces, where the indexing process may be substantially expensive it's advantageous to cache the index in a file."
   ]
  },
  {
   "cell_type": "code",
   "execution_count": null,
   "metadata": {},
   "outputs": [],
   "source": [
    "%%bash\n",
    "signac project --index > index.txt"
   ]
  },
  {
   "cell_type": "markdown",
   "metadata": {},
   "source": [
    "This index file can be used in conjunction with all functions that require a data space index, for example `signac find`:"
   ]
  },
  {
   "cell_type": "code",
   "execution_count": null,
   "metadata": {},
   "outputs": [],
   "source": [
    "%%bash\n",
    "signac find -i index.txt '{\"p\": 0.1}'"
   ]
  },
  {
   "cell_type": "markdown",
   "metadata": {},
   "source": [
    "Or for instance when creating a linked view."
   ]
  },
  {
   "cell_type": "code",
   "execution_count": null,
   "metadata": {},
   "outputs": [],
   "source": [
    "%%bash\n",
    "signac view -i index.txt ./view"
   ]
  },
  {
   "cell_type": "markdown",
   "metadata": {},
   "source": [
    "The `signac view` command works exactly like `project.create_linked_view` such that the `./view` directory now contains a linked view to the job workspaces."
   ]
  },
  {
   "cell_type": "code",
   "execution_count": null,
   "metadata": {},
   "outputs": [],
   "source": [
    "%ls view"
   ]
  },
  {
   "cell_type": "markdown",
   "metadata": {},
   "source": [
    "This concludes the first chapter of the tutorial.\n",
    "The next chapter introduces a few more advanced topics.\n",
    "\n",
    "[Return to index](index.ipynb)"
   ]
  }
 ],
 "metadata": {
  "kernelspec": {
   "display_name": "Python 3",
   "language": "python",
   "name": "python3"
  },
  "language_info": {
   "codemirror_mode": {
    "name": "ipython",
    "version": 3
   },
   "file_extension": ".py",
   "mimetype": "text/x-python",
   "name": "python",
   "nbconvert_exporter": "python",
   "pygments_lexer": "ipython3",
   "version": "3.8.3"
  }
 },
 "nbformat": 4,
 "nbformat_minor": 4
}
