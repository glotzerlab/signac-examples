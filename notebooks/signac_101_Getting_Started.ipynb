{
 "cells": [
  {
   "cell_type": "markdown",
   "metadata": {},
   "source": [
    "# 1.1 Getting started\n",
    "\n",
    "## Prerequisites\n",
    "\n",
    "### Installation\n",
    "\n",
    "This tutorial requires **signac**, so make sure to install the package before starting.\n",
    "The easiest way to do so is using conda:\n",
    "\n",
    "```$ conda config --add channels conda-forge```\n",
    "\n",
    "```$ conda install signac```\n",
    "\n",
    "or pip:\n",
    "\n",
    "```pip install signac --user```\n",
    "\n",
    "\n",
    "Please refer to the [documentation](https://docs.signac.io/en/latest/installation.html#installation) for detailed instructions on how to install signac.\n",
    "\n",
    "After succesful installation, the following cell should execute without error:"
   ]
  },
  {
   "cell_type": "code",
   "execution_count": null,
   "metadata": {},
   "outputs": [],
   "source": [
    "import signac\n",
    "\n",
    "assert signac.__version__ >= \"1.5.0\""
   ]
  },
  {
   "cell_type": "markdown",
   "metadata": {},
   "source": [
    "We start by removing all data which might be left-over from previous executions of this tutorial."
   ]
  },
  {
   "cell_type": "code",
   "execution_count": null,
   "metadata": {},
   "outputs": [],
   "source": [
    "%rm -rf projects/tutorial/workspace"
   ]
  },
  {
   "cell_type": "markdown",
   "metadata": {},
   "source": [
    "## A minimal example\n",
    "\n",
    "For this tutorial we want to compute the volume of an ideal gas as a function of its pressure and thermal energy using the ideal gas equation\n",
    "\n",
    "$p V = N kT$, where\n",
    "\n",
    "$N$ refers to the system size, $p$ to the pressure, $kT$ to the thermal energy and $V$ is the volume of the system."
   ]
  },
  {
   "cell_type": "code",
   "execution_count": null,
   "metadata": {},
   "outputs": [],
   "source": [
    "def V_idg(N, kT, p):\n",
    "    return N * kT / p"
   ]
  },
  {
   "cell_type": "markdown",
   "metadata": {},
   "source": [
    "We can execute the complete study in just a few lines of code.\n",
    "First, we initialize the project directory and get a project handle:"
   ]
  },
  {
   "cell_type": "code",
   "execution_count": null,
   "metadata": {},
   "outputs": [],
   "source": [
    "import signac\n",
    "\n",
    "project = signac.init_project(\"TutorialProject\", \"projects/tutorial\")"
   ]
  },
  {
   "cell_type": "markdown",
   "metadata": {},
   "source": [
    "We iterate over the variable of interest *p* and construct a complete state point *sp* which contains all the meta data associated with our data.\n",
    "In this simple example the meta data is very compact, but in principle the state point may be highly complex.\n",
    "\n",
    "Next, we obtain a *job* handle and store the result of the calculation within the *job document*.\n",
    "The *job document* is a persistent dictionary for storage of simple key-value pairs.\n",
    "Here, we exploit that the state point dictionary *sp* can easily be passed into the `V_idg()` function using the [keyword expansion syntax](https://docs.python.org/dev/tutorial/controlflow.html#keyword-arguments) (`**sp`)."
   ]
  },
  {
   "cell_type": "code",
   "execution_count": null,
   "metadata": {},
   "outputs": [],
   "source": [
    "for p in 0.1, 1.0, 10.0:\n",
    "    sp = {\"p\": p, \"kT\": 1.0, \"N\": 1000}\n",
    "    job = project.open_job(sp)\n",
    "    job.document[\"V\"] = V_idg(**sp)"
   ]
  },
  {
   "cell_type": "markdown",
   "metadata": {},
   "source": [
    "We can then examine our results by iterating over the data space:"
   ]
  },
  {
   "cell_type": "code",
   "execution_count": null,
   "metadata": {},
   "outputs": [],
   "source": [
    "for job in project:\n",
    "    print(job.sp.p, job.document[\"V\"])"
   ]
  },
  {
   "cell_type": "markdown",
   "metadata": {},
   "source": [
    "That's it.\n",
    "\n",
    "...\n",
    "\n",
    "Ok, there's more...\n",
    "Let's have a closer look at the individual components.\n",
    "\n",
    "## The Basics\n",
    "\n",
    "The **signac** data management framework assists the user in managing the data space of individual *projects*.\n",
    "All data related to one or multiple projects is stored in a *workspace*, which by default is a directory called `workspace` within the project's root directory."
   ]
  },
  {
   "cell_type": "code",
   "execution_count": null,
   "metadata": {},
   "outputs": [],
   "source": [
    "print(project.root_directory())\n",
    "print(project.workspace())"
   ]
  },
  {
   "cell_type": "markdown",
   "metadata": {},
   "source": [
    "The core idea is to tightly couple state points, unique sets of parameters, with their associated data.\n",
    "In general, the parameter space needs to contain all parameters that will affect our data.\n",
    "\n",
    "For the ideal gas that is a 3-dimensional space spanned by the thermal energy *kT*, the pressure *p* and the system size *N*.\n",
    "These are the **input parameters** for our calculations, while the calculated volume *V* is the **output data**.\n",
    "In terms of **signac** this relationship is represented by an instance of `Job`.\n",
    "\n",
    "We use the `open_job()` method to get a *job handle* for a specific set of input parameters."
   ]
  },
  {
   "cell_type": "code",
   "execution_count": null,
   "metadata": {},
   "outputs": [],
   "source": [
    "job = project.open_job({\"p\": 1.0, \"kT\": 1.0, \"N\": 1000})"
   ]
  },
  {
   "cell_type": "markdown",
   "metadata": {},
   "source": [
    "The *job* handle tightly couples our input parameters (*p*, *kT*, *N*) with the storage location of the output data.\n",
    "You can inspect both the input parameters and the storage location explicitly:"
   ]
  },
  {
   "cell_type": "code",
   "execution_count": null,
   "metadata": {},
   "outputs": [],
   "source": [
    "print(job.statepoint())\n",
    "print(job.workspace())"
   ]
  },
  {
   "cell_type": "markdown",
   "metadata": {},
   "source": [
    "For convenience, a job's *state point* may also be accessed via the short-hand `sp` attribute.\n",
    "For example, to access the pressure value `p` we can use either of the two following expressions:"
   ]
  },
  {
   "cell_type": "code",
   "execution_count": null,
   "metadata": {},
   "outputs": [],
   "source": [
    "print(job.statepoint()[\"p\"])\n",
    "print(job.sp.p)"
   ]
  },
  {
   "cell_type": "markdown",
   "metadata": {},
   "source": [
    "Each *job* has a **unique id** representing the state point.\n",
    "This means opening a job with the exact same input parameters is guaranteed to have the **exact same id**."
   ]
  },
  {
   "cell_type": "code",
   "execution_count": null,
   "metadata": {},
   "outputs": [],
   "source": [
    "job2 = project.open_job({\"kT\": 1.0, \"N\": 1000, \"p\": 1.0})\n",
    "print(job.id, job2.id)"
   ]
  },
  {
   "cell_type": "markdown",
   "metadata": {},
   "source": [
    "The *job id* is used to uniquely identify data associated with a specific state point.\n",
    "Think of the *job* as a container that is used to store all data associated with the state point.\n",
    "For example, it should be safe to assume that all files that are stored within the job's workspace directory are tightly coupled to the job's statepoint."
   ]
  },
  {
   "cell_type": "code",
   "execution_count": null,
   "metadata": {},
   "outputs": [],
   "source": [
    "print(job.workspace())"
   ]
  },
  {
   "cell_type": "markdown",
   "metadata": {},
   "source": [
    "Let's store the volume calculated for each state point in a file called `V.txt` within the job's workspace."
   ]
  },
  {
   "cell_type": "code",
   "execution_count": null,
   "metadata": {},
   "outputs": [],
   "source": [
    "import os\n",
    "\n",
    "fn_out = os.path.join(job.workspace(), \"V.txt\")\n",
    "with open(fn_out, \"w\") as file:\n",
    "    V = V_idg(**job.statepoint())\n",
    "    file.write(str(V) + \"\\n\")"
   ]
  },
  {
   "cell_type": "markdown",
   "metadata": {},
   "source": [
    "Because this is such a common pattern, **signac** signac allows you to short-cut this with the `job.fn()` method."
   ]
  },
  {
   "cell_type": "code",
   "execution_count": null,
   "metadata": {},
   "outputs": [],
   "source": [
    "with open(job.fn(\"V.txt\"), \"w\") as file:\n",
    "    V = V_idg(**job.statepoint())\n",
    "    file.write(str(V) + \"\\n\")"
   ]
  },
  {
   "cell_type": "markdown",
   "metadata": {},
   "source": [
    "Sometimes it is easier to temporarily switch the *current working directory* while storing data for a specific job.\n",
    "For this purpose, we can use the `Job` object as [context manager](https://docs.python.org/3/reference/compound_stmts.html#with).\n",
    "This means that we switch into the workspace directory associated with the job after entering, and switch back into the original working directory after exiting."
   ]
  },
  {
   "cell_type": "code",
   "execution_count": null,
   "metadata": {},
   "outputs": [],
   "source": [
    "with job:\n",
    "    with open(\"V.txt\", \"w\") as file:\n",
    "        file.write(str(V) + \"\\n\")"
   ]
  },
  {
   "cell_type": "markdown",
   "metadata": {},
   "source": [
    "Another alternative to store light-weight data is the *job document* as shown in the minimal example.\n",
    "The *job document* is a persistent JSON storage file for simple key-value pairs."
   ]
  },
  {
   "cell_type": "code",
   "execution_count": null,
   "metadata": {},
   "outputs": [],
   "source": [
    "job.document[\"V\"] = V_idg(**job.statepoint())\n",
    "print(job.statepoint(), job.document)"
   ]
  },
  {
   "cell_type": "markdown",
   "metadata": {},
   "source": [
    "Since we are usually interested in more than one state point, the standard operation is to iterate over all variable(s) of interest, construct the full state point, get the associated job handle, and then either just initialize the job or perform the full operation."
   ]
  },
  {
   "cell_type": "code",
   "execution_count": null,
   "metadata": {},
   "outputs": [],
   "source": [
    "for pressure in 0.1, 1.0, 10.0:\n",
    "    statepoint = {\"p\": pressure, \"kT\": 1.0, \"N\": 1000}\n",
    "    job = project.open_job(statepoint)\n",
    "    job.document[\"V\"] = V_idg(**job.statepoint())"
   ]
  },
  {
   "cell_type": "markdown",
   "metadata": {},
   "source": [
    "Let's verify our result by inspecting the data."
   ]
  },
  {
   "cell_type": "code",
   "execution_count": null,
   "metadata": {},
   "outputs": [],
   "source": [
    "for job in project:\n",
    "    print(job.statepoint(), job.document)"
   ]
  },
  {
   "cell_type": "markdown",
   "metadata": {},
   "source": [
    "Those are the basics for using **signac** for data management.\n",
    "The [next section](signac_102_Exploring_Data.ipynb) demonstrates how to explore an existing data space."
   ]
  }
 ],
 "metadata": {
  "kernelspec": {
   "display_name": "Python 3",
   "language": "python",
   "name": "python3"
  },
  "language_info": {
   "codemirror_mode": {
    "name": "ipython",
    "version": 3
   },
   "file_extension": ".py",
   "mimetype": "text/x-python",
   "name": "python",
   "nbconvert_exporter": "python",
   "pygments_lexer": "ipython3",
   "version": "3.8.3"
  }
 },
 "nbformat": 4,
 "nbformat_minor": 4
}
