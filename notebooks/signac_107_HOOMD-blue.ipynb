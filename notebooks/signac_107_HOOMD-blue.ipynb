{
 "cells": [
  {
   "cell_type": "markdown",
   "metadata": {},
   "source": [
    "# 1.7 signac-flow minimal example (with HOOMD-blue)\n",
    "\n",
    "## About\n",
    "\n",
    "<div class=\"alert alert-warning\">\n",
    "\n",
    "Note: This example is in the process of being updated for the latest versions of signac and signac-flow.\n",
    "    \n",
    "    \n",
    "</div>\n",
    "\n",
    "This notebook contains a minimal example for running a *signac-flow* project from scratch.\n",
    "The example demonstrates how to compare an ideal gas with a Lennard-Jones (LJ) fluid by calculating a p-V phase diagram.\n",
    "\n",
    "This examples uses the general-purpose simulation toolkit [HOOMD-blue](http://glotzerlab.engin.umich.edu/hoomd-blue/) for the execution of the molecular-dynamics (MD) simulations.\n",
    "\n",
    "## Author\n",
    "\n",
    "Carl Simon Adorf\n",
    "\n",
    "## Before you start\n",
    "\n",
    "This example requires signac, signac-flow, HOOMD-blue and numpy.\n",
    "You can install these package for example via conda:\n",
    "```\n",
    "conda install -c conda-forge hoomd numpy signac signac-flow\n",
    "```"
   ]
  },
  {
   "cell_type": "code",
   "execution_count": 1,
   "metadata": {},
   "outputs": [
    {
     "name": "stdout",
     "output_type": "stream",
     "text": [
      "HOOMD-blue 2.9.3 DOUBLE HPMC_MIXED TBB SSE SSE2 SSE3 \n",
      "Compiled: 01/11/2021\n",
      "Copyright (c) 2009-2019 The Regents of the University of Michigan.\n",
      "-----\n",
      "You are using HOOMD-blue. Please cite the following:\n",
      "* J A Anderson, J Glaser, and S C Glotzer. \"HOOMD-blue: A Python package for\n",
      "  high-performance molecular dynamics and hard particle Monte Carlo\n",
      "  simulations\", Computational Materials Science 173 (2020) 109363\n",
      "-----\n",
      "HOOMD-blue is running on the CPU\n"
     ]
    }
   ],
   "source": [
    "import flow\n",
    "import hoomd\n",
    "import numpy as np\n",
    "import signac\n",
    "\n",
    "# Initialize the HOOMD-blue execution context\n",
    "hoomd.context.initialize(\"\")\n",
    "\n",
    "project_root = \"projects/tutorial-signac-flow-hoomd-blue\"\n",
    "project = signac.init_project(\"FlowTutorialHOOMD-BlueProject\", project_root)"
   ]
  },
  {
   "cell_type": "markdown",
   "metadata": {},
   "source": [
    "We want to generate a pressure-volume phase diagram for a Lennard-Jones fluid with molecular dynamics (MD) using the general-purpose simulation toolkit HOOMD-blue (http://glotzerlab.engin.umich.edu/hoomd-blue/).\n",
    "\n",
    "We start by defining two functions, one for the initialization of our simulation and one for the actual execution."
   ]
  },
  {
   "cell_type": "code",
   "execution_count": 2,
   "metadata": {},
   "outputs": [],
   "source": [
    "from math import ceil\n",
    "\n",
    "\n",
    "def init(N):\n",
    "    with hoomd.context.SimulationContext():\n",
    "        n = ceil(pow(N, 1 / 3))\n",
    "        assert n ** 3 == N\n",
    "        hoomd.init.create_lattice(unitcell=hoomd.lattice.sc(a=1.0), n=n)\n",
    "        hoomd.dump.gsd(\"init.gsd\", period=None, group=hoomd.group.all())\n",
    "\n",
    "\n",
    "def sample_lj(N, sigma, seed, kT, tau, p, tauP, steps, r_cut):\n",
    "    from hoomd import md\n",
    "\n",
    "    hoomd.init.read_gsd(\"init.gsd\", restart=\"restart.gsd\")\n",
    "    group = hoomd.group.all()\n",
    "    hoomd.dump.gsd(\"restart.gsd\", truncate=True, period=100, phase=0, group=group)\n",
    "    lj = md.pair.lj(r_cut=r_cut, nlist=md.nlist.cell())\n",
    "    lj.pair_coeff.set(\"A\", \"A\", epsilon=1.0, sigma=sigma)\n",
    "    md.integrate.mode_standard(dt=0.005)\n",
    "    md.integrate.npt(group=group, kT=kT, tau=tau, P=p, tauP=tauP)\n",
    "    hoomd.analyze.log(\"dump.log\", [\"volume\"], 100, phase=0)\n",
    "    hoomd.run_upto(steps)"
   ]
  },
  {
   "cell_type": "markdown",
   "metadata": {},
   "source": [
    "We want to use **signac** to manage our simulation data and bundle all operations modifying our data space in a `Operations` class. This will make it easier later to execute these operations *by name*.\n",
    "\n",
    "The `estimate` operation stores an ideal gas estimation of the volume for the given system.\n",
    "The `sample` operation actually executes the MD simulation as defined in the previous cell.\n",
    "We define all operations as static methods of an `Operations` class in order to keep them in a separate namespace."
   ]
  },
  {
   "cell_type": "code",
   "execution_count": 3,
   "metadata": {},
   "outputs": [],
   "source": [
    "def estimate(job):\n",
    "    sp = job.statepoint()\n",
    "    job.document[\"V\"] = sp[\"N\"] * sp[\"kT\"] / sp[\"p\"]\n",
    "\n",
    "\n",
    "def sample(job):\n",
    "    import hoomd\n",
    "\n",
    "    with job:\n",
    "        with hoomd.context.SimulationContext():\n",
    "            try:\n",
    "                sample_lj(steps=5000, **job.statepoint())\n",
    "            finally:\n",
    "                job.document[\"sample_step\"] = hoomd.get_step()"
   ]
  },
  {
   "cell_type": "code",
   "execution_count": 4,
   "metadata": {},
   "outputs": [
    {
     "name": "stdout",
     "output_type": "stream",
     "text": [
      "{'V': 102.4, 'sample_step': 5000}\n",
      "{'V': 341.3333333333333, 'sample_step': 5000}\n",
      "{'V': 512.0, 'sample_step': 5000}\n",
      "{'V': 113.77777777777777, 'sample_step': 5000}\n",
      "{'V': 256.0, 'sample_step': 5000}\n",
      "{'V': 146.28571428571428, 'sample_step': 5000}\n",
      "{'V': 128.0, 'sample_step': 5000}\n",
      "{'V': 204.8, 'sample_step': 5000}\n",
      "{'V': 1024.0, 'sample_step': 5000}\n",
      "{'V': 170.66666666666666, 'sample_step': 5000}\n"
     ]
    }
   ],
   "source": [
    "for job in project:\n",
    "    print(job.document)"
   ]
  },
  {
   "cell_type": "markdown",
   "metadata": {},
   "source": [
    "Now that we have defined all *operations* it's time to embed them into a general *workflow*.\n",
    "For this purpose we specialize a `flow.FlowProject`.\n",
    "\n",
    "The workflow is controlled by two core functions: `classify()` and `next_operation()`:\n",
    " - The `classify()` function allows us to *label* our jobs and get a good overview of the project *status*. This is especially important once the data space becomes larger and more complex and operations more expensive.\n",
    " - The `next_operation()` functions helps to automate the workflow by identifying the next required operation for each job."
   ]
  },
  {
   "cell_type": "code",
   "execution_count": 5,
   "metadata": {},
   "outputs": [],
   "source": [
    "class MyProject(flow.FlowProject):\n",
    "    def classify(self, job):\n",
    "        yield \"init\"\n",
    "        if \"V\" in job.document:\n",
    "            yield \"estimated\"\n",
    "        if job.document.get(\"sample_step\", 0) >= 5000:\n",
    "            yield \"sampled\"\n",
    "\n",
    "    def next_operation(self, job):\n",
    "        labels = set(self.classify(job))\n",
    "        if \"V\" not in job.document:\n",
    "            return \"estimate\"\n",
    "        if \"sampled\" not in labels:\n",
    "            return \"sample\""
   ]
  },
  {
   "cell_type": "markdown",
   "metadata": {},
   "source": [
    "We need to use the `get_project()` *class method* to get a project handle for this special project class."
   ]
  },
  {
   "cell_type": "code",
   "execution_count": 6,
   "metadata": {},
   "outputs": [],
   "source": [
    "project = MyProject.get_project(root=project_root)"
   ]
  },
  {
   "cell_type": "markdown",
   "metadata": {},
   "source": [
    "Now it's time to actually generate some data! Let's initialize the data space!\n"
   ]
  },
  {
   "cell_type": "code",
   "execution_count": 7,
   "metadata": {},
   "outputs": [
    {
     "name": "stdout",
     "output_type": "stream",
     "text": [
      "notice(2): Group \"all\" created containing 512 particles\n",
      "notice(2): Group \"all\" created containing 512 particles\n",
      "notice(2): Group \"all\" created containing 512 particles\n",
      "notice(2): Group \"all\" created containing 512 particles\n",
      "notice(2): Group \"all\" created containing 512 particles\n",
      "notice(2): Group \"all\" created containing 512 particles\n",
      "notice(2): Group \"all\" created containing 512 particles\n",
      "notice(2): Group \"all\" created containing 512 particles\n",
      "notice(2): Group \"all\" created containing 512 particles\n",
      "notice(2): Group \"all\" created containing 512 particles\n"
     ]
    }
   ],
   "source": [
    "# Uncomment the following two lines if you want to start over!\n",
    "# for job in project:\n",
    "#     job.remove()\n",
    "\n",
    "for p in np.linspace(0.5, 5.0, 10):\n",
    "    sp = dict(N=512, sigma=1.0, seed=42, kT=1.0, p=p, tau=1.0, tauP=1.0, r_cut=2.5)\n",
    "    with project.open_job(sp):\n",
    "        init(N=sp[\"N\"])"
   ]
  },
  {
   "cell_type": "markdown",
   "metadata": {},
   "source": [
    "The `print_status()` function allows to get a quick overview of our project's *status*:"
   ]
  },
  {
   "cell_type": "code",
   "execution_count": 8,
   "metadata": {},
   "outputs": [
    {
     "data": {
      "application/vnd.jupyter.widget-view+json": {
       "model_id": "c1cc79a0cf634130adbe44be68c0ee49",
       "version_major": 2,
       "version_minor": 0
      },
      "text/plain": [
       "Fetching status: 0it [00:00, ?it/s]"
      ]
     },
     "metadata": {},
     "output_type": "display_data"
    },
    {
     "data": {
      "application/vnd.jupyter.widget-view+json": {
       "model_id": "c0733238045341a0a8901ec259ee4319",
       "version_major": 2,
       "version_minor": 0
      },
      "text/plain": [
       "Fetching labels: 0it [00:00, ?it/s]"
      ]
     },
     "metadata": {},
     "output_type": "display_data"
    },
    {
     "name": "stdout",
     "output_type": "stream",
     "text": [
      "\n",
      "Overview:\n",
      "\n",
      "Total # of jobs: 0\n",
      "\n",
      "label\n",
      "-------\n",
      "\n",
      "\n",
      "operation\n",
      "-----------\n",
      "\n",
      "\n",
      "Detailed View:\n",
      "\n",
      "job id\n",
      "--------\n",
      "\n",
      "\n",
      "[U]:unknown [R]:registered [I]:inactive [S]:submitted [H]:held [Q]:queued [A]:active [E]:error\n",
      "\n",
      "\n"
     ]
    }
   ],
   "source": [
    "project.print_status(detailed=True, parameters=[\"p\"]);"
   ]
  },
  {
   "cell_type": "markdown",
   "metadata": {},
   "source": [
    "The next cell will attempt to execute all operations by cycling through jobs and operations until no *next operations* are defined anymore.\n",
    "\n",
    "We limit the max. number of cycles to prevent accidental infinite loops, the number of cycles is arbitrary."
   ]
  },
  {
   "cell_type": "code",
   "execution_count": 9,
   "metadata": {},
   "outputs": [],
   "source": [
    "for i in range(3):\n",
    "    for job in project:\n",
    "        for j in range(5):\n",
    "            next_op = project.next_operation(job)\n",
    "            if next_op is None:\n",
    "                break\n",
    "            print(\"execute\", job, next_op)\n",
    "            globals()[next_op](job)\n",
    "            assert next_op != project.next_operation(job)\n",
    "        else:\n",
    "            raise RuntimeError(\"Reached max. # cycle limit!\")"
   ]
  },
  {
   "cell_type": "markdown",
   "metadata": {},
   "source": [
    "Let's double check the project status."
   ]
  },
  {
   "cell_type": "code",
   "execution_count": 10,
   "metadata": {},
   "outputs": [
    {
     "data": {
      "application/vnd.jupyter.widget-view+json": {
       "model_id": "2b9c6be35eef4d04946e7dda2f7624a9",
       "version_major": 2,
       "version_minor": 0
      },
      "text/plain": [
       "Fetching status: 0it [00:00, ?it/s]"
      ]
     },
     "metadata": {},
     "output_type": "display_data"
    },
    {
     "data": {
      "application/vnd.jupyter.widget-view+json": {
       "model_id": "5fe31a051ea0464285513ae5232d8f3f",
       "version_major": 2,
       "version_minor": 0
      },
      "text/plain": [
       "Fetching labels: 0it [00:00, ?it/s]"
      ]
     },
     "metadata": {},
     "output_type": "display_data"
    },
    {
     "name": "stdout",
     "output_type": "stream",
     "text": [
      "\n",
      "Overview:\n",
      "\n",
      "Total # of jobs: 0\n",
      "\n",
      "label\n",
      "-------\n",
      "\n",
      "\n",
      "operation\n",
      "-----------\n",
      "\n",
      "\n",
      "\n"
     ]
    }
   ],
   "source": [
    "project.print_status();"
   ]
  },
  {
   "cell_type": "markdown",
   "metadata": {},
   "source": [
    "After running all operations we can make a brief examination of the collected data."
   ]
  },
  {
   "cell_type": "code",
   "execution_count": 11,
   "metadata": {},
   "outputs": [
    {
     "name": "stdout",
     "output_type": "stream",
     "text": [
      "5.0 593.777573608 102.4\n",
      "1.5 791.728728196 341.3333333333333\n",
      "1.0 903.9505265920001 512.0\n",
      "4.5 600.001185592 113.77777777777777\n",
      "2.0 741.011125508 256.0\n",
      "3.5 634.2033970919999 146.28571428571428\n",
      "4.0 614.750191224 128.0\n",
      "2.5 686.3928969000001 204.8\n",
      "0.5 1139.3264905719998 1024.0\n",
      "3.0 662.2078703 170.66666666666666\n"
     ]
    }
   ],
   "source": [
    "def get_volume(job):\n",
    "    log = np.genfromtxt(job.fn(\"dump.log\"), names=True)\n",
    "    N = len(log)\n",
    "    return log[int(0.5 * N) :][\"volume\"].mean(axis=0)\n",
    "\n",
    "\n",
    "for job in project:\n",
    "    print(job.statepoint()[\"p\"], get_volume(job), job.document.get(\"V\"))"
   ]
  },
  {
   "cell_type": "markdown",
   "metadata": {},
   "source": [
    "For a better presentation of the results we need to aggregate all results and sort them by pressure.\n",
    "\n",
    "*The following code requires matplotlib.*"
   ]
  },
  {
   "cell_type": "code",
   "execution_count": 12,
   "metadata": {},
   "outputs": [
    {
     "data": {
      "image/png": "[encoded data removed]",
      "text/plain": [
       "<Figure size 432x288 with 1 Axes>"
      ]
     },
     "metadata": {
      "needs_background": "light"
     },
     "output_type": "display_data"
    }
   ],
   "source": [
    "%matplotlib inline\n",
    "# Display plots within the notebook\n",
    "\n",
    "from matplotlib import pyplot as plt\n",
    "\n",
    "V = dict()\n",
    "V_idg = dict()\n",
    "\n",
    "for job in project:\n",
    "    V[job.statepoint()[\"p\"]] = get_volume(job)\n",
    "    V_idg[job.statepoint()[\"p\"]] = job.document[\"V\"]\n",
    "\n",
    "p = sorted(V.keys())\n",
    "V = [V[p_] for p_ in p]\n",
    "V_idg = [V_idg[p_] for p_ in p]\n",
    "\n",
    "plt.plot(p, V, label=\"LJ\")\n",
    "plt.plot(p, V_idg, label=\"idG\")\n",
    "plt.xlabel(r\"pressure [$\\epsilon / \\sigma^3$]\")\n",
    "plt.ylabel(r\"volume [$\\sigma^3$]\")\n",
    "plt.legend()\n",
    "plt.show()"
   ]
  },
  {
   "cell_type": "markdown",
   "metadata": {},
   "source": [
    "Uncomment and execute the following line to remove all data and start over."
   ]
  },
  {
   "cell_type": "code",
   "execution_count": 13,
   "metadata": {},
   "outputs": [],
   "source": [
    "# %rm -r projects/tutorial-signac-flow-hoomd-blue/workspace"
   ]
  },
  {
   "cell_type": "code",
   "execution_count": null,
   "metadata": {},
   "outputs": [],
   "source": []
  }
 ],
 "metadata": {
  "kernelspec": {
   "display_name": "Python 3",
   "language": "python",
   "name": "python3"
  },
  "language_info": {
   "codemirror_mode": {
    "name": "ipython",
    "version": 3
   },
   "file_extension": ".py",
   "mimetype": "text/x-python",
   "name": "python",
   "nbconvert_exporter": "python",
   "pygments_lexer": "ipython3",
   "version": "3.8.6"
  }
 },
 "nbformat": 4,
 "nbformat_minor": 4
}
