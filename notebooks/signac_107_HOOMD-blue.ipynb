{
 "cells": [
  {
   "cell_type": "markdown",
   "metadata": {},
   "source": [
    "# 1.7 signac-flow minimal example (with HOOMD-blue)\n",
    "\n",
    "## About\n",
    "\n",
    "This notebook contains a minimal example for running a *signac-flow* project from scratch.\n",
    "The example demonstrates how to compare an ideal gas with a Lennard-Jones (LJ) fluid by calculating a p-V phase diagram.\n",
    "\n",
    "This examples uses the general-purpose simulation toolkit [HOOMD-blue](http://glotzerlab.engin.umich.edu/hoomd-blue/) for the execution of the molecular-dynamics (MD) simulations.\n",
    "\n",
    "## Author\n",
    "\n",
    "Carl Simon Adorf\n",
    "\n",
    "## Before you start\n",
    "\n",
    "This example requires signac, signac-flow, HOOMD-blue and numpy.\n",
    "You can install these package for example via conda:\n",
    "```\n",
    "conda install -c conda-forge hoomd numpy signac signac-flow\n",
    "```"
   ]
  },
  {
   "cell_type": "code",
   "execution_count": 1,
   "metadata": {},
   "outputs": [
    {
     "name": "stdout",
     "output_type": "stream",
     "text": [
      "HOOMD-blue 2.9.3 DOUBLE HPMC_MIXED TBB SSE SSE2 SSE3 \n",
      "Compiled: 01/11/2021\n",
      "Copyright (c) 2009-2019 The Regents of the University of Michigan.\n",
      "-----\n",
      "You are using HOOMD-blue. Please cite the following:\n",
      "* J A Anderson, J Glaser, and S C Glotzer. \"HOOMD-blue: A Python package for\n",
      "  high-performance molecular dynamics and hard particle Monte Carlo\n",
      "  simulations\", Computational Materials Science 173 (2020) 109363\n",
      "-----\n",
      "HOOMD-blue is running on the CPU\n"
     ]
    }
   ],
   "source": [
    "import hoomd\n",
    "import numpy as np\n",
    "\n",
    "import flow\n",
    "import signac\n",
    "\n",
    "# Initialize the HOOMD-blue execution context\n",
    "hoomd.context.initialize(\"\")\n",
    "\n",
    "project_root = \"projects/tutorial-signac-flow-hoomd-blue\"\n",
    "project = signac.init_project(\"FlowTutorialHOOMD-BlueProject\", project_root)"
   ]
  },
  {
   "cell_type": "markdown",
   "metadata": {},
   "source": [
    "We want to generate a pressure-volume phase diagram for a Lennard-Jones fluid with molecular dynamics (MD) using the general-purpose simulation toolkit HOOMD-blue (http://glotzerlab.engin.umich.edu/hoomd-blue/).\n",
    "\n",
    "We start by defining two functions, one for the initialization of our simulation and one for the actual execution."
   ]
  },
  {
   "cell_type": "code",
   "execution_count": 2,
   "metadata": {},
   "outputs": [],
   "source": [
    "from math import ceil\n",
    "\n",
    "\n",
    "def init(N):\n",
    "    with hoomd.context.SimulationContext():\n",
    "        n = ceil(pow(N, 1 / 3))\n",
    "        assert n ** 3 == N\n",
    "        hoomd.init.create_lattice(unitcell=hoomd.lattice.sc(a=1.0), n=n)\n",
    "        hoomd.dump.gsd(\"init.gsd\", period=None, group=hoomd.group.all())\n",
    "\n",
    "\n",
    "def sample_lj(N, sigma, seed, kT, tau, p, tauP, steps, r_cut):\n",
    "    from hoomd import md\n",
    "\n",
    "    hoomd.init.read_gsd(\"init.gsd\", restart=\"restart.gsd\")\n",
    "    group = hoomd.group.all()\n",
    "    hoomd.dump.gsd(\"restart.gsd\", truncate=True, period=100, phase=0, group=group)\n",
    "    lj = md.pair.lj(r_cut=r_cut, nlist=md.nlist.cell())\n",
    "    lj.pair_coeff.set(\"A\", \"A\", epsilon=1.0, sigma=sigma)\n",
    "    md.integrate.mode_standard(dt=0.005)\n",
    "    md.integrate.npt(group=group, kT=kT, tau=tau, P=p, tauP=tauP)\n",
    "    hoomd.analyze.log(\"dump.log\", [\"volume\"], 100, phase=0)\n",
    "    hoomd.run_upto(steps)"
   ]
  },
  {
   "cell_type": "markdown",
   "metadata": {},
   "source": [
    "We want to use **signac** to manage our simulation data and bundle all operations modifying our data space in a `Operations` class. This will make it easier later to execute these operations *by name*.\n",
    "\n",
    "The `estimate` operation stores an ideal gas estimation of the volume for the given system.\n",
    "The `sample` operation actually executes the MD simulation as defined in the previous cell.\n",
    "We define all operations as static methods of an `Operations` class in order to keep them in a separate namespace."
   ]
  },
  {
   "cell_type": "code",
   "execution_count": 3,
   "metadata": {},
   "outputs": [],
   "source": [
    "def estimate(job):\n",
    "    sp = job.statepoint()\n",
    "    job.document[\"V\"] = sp[\"N\"] * sp[\"kT\"] / sp[\"p\"]\n",
    "\n",
    "\n",
    "def sample(job):\n",
    "    import hoomd\n",
    "\n",
    "    with job:\n",
    "        with hoomd.context.SimulationContext():\n",
    "            try:\n",
    "                sample_lj(steps=5000, **job.statepoint())\n",
    "            finally:\n",
    "                job.document[\"sample_step\"] = hoomd.get_step()"
   ]
  },
  {
   "cell_type": "code",
   "execution_count": 4,
   "metadata": {},
   "outputs": [],
   "source": [
    "for job in project:\n",
    "    print(job.document)"
   ]
  },
  {
   "cell_type": "markdown",
   "metadata": {},
   "source": [
    "Now that we have defined all *operations* it's time to embed them into a general *workflow*.\n",
    "For this purpose we specialize a `flow.FlowProject`.\n",
    "\n",
    "The workflow is controlled by two core functions: `classify()` and `next_operation()`:\n",
    " - The `classify()` function allows us to *label* our jobs and get a good overview of the project *status*. This is especially important once the data space becomes larger and more complex and operations more expensive.\n",
    " - The `next_operation()` functions helps to automate the workflow by identifying the next required operation for each job."
   ]
  },
  {
   "cell_type": "code",
   "execution_count": 5,
   "metadata": {},
   "outputs": [],
   "source": [
    "class MyProject(flow.FlowProject):\n",
    "    def classify(self, job):\n",
    "        yield \"init\"\n",
    "        if \"V\" in job.document:\n",
    "            yield \"estimated\"\n",
    "        if job.document.get(\"sample_step\", 0) >= 5000:\n",
    "            yield \"sampled\"\n",
    "\n",
    "    def next_operation(self, job):\n",
    "        labels = set(self.classify(job))\n",
    "        if \"V\" not in job.document:\n",
    "            return \"estimate\"\n",
    "        if \"sampled\" not in labels:\n",
    "            return \"sample\""
   ]
  },
  {
   "cell_type": "markdown",
   "metadata": {},
   "source": [
    "We need to use the `get_project()` *class method* to get a project handle for this special project class."
   ]
  },
  {
   "cell_type": "code",
   "execution_count": 6,
   "metadata": {},
   "outputs": [],
   "source": [
    "project = MyProject.get_project(root=project_root)"
   ]
  },
  {
   "cell_type": "markdown",
   "metadata": {},
   "source": [
    "Now it's time to actually generate some data! Let's initialize the data space!\n"
   ]
  },
  {
   "cell_type": "code",
   "execution_count": 7,
   "metadata": {},
   "outputs": [
    {
     "name": "stdout",
     "output_type": "stream",
     "text": [
      "notice(2): Group \"all\" created containing 512 particles\n",
      "notice(2): Group \"all\" created containing 512 particles\n",
      "notice(2): Group \"all\" created containing 512 particles\n",
      "notice(2): Group \"all\" created containing 512 particles\n",
      "notice(2): Group \"all\" created containing 512 particles\n",
      "notice(2): Group \"all\" created containing 512 particles\n",
      "notice(2): Group \"all\" created containing 512 particles\n",
      "notice(2): Group \"all\" created containing 512 particles\n",
      "notice(2): Group \"all\" created containing 512 particles\n",
      "notice(2): Group \"all\" created containing 512 particles\n"
     ]
    }
   ],
   "source": [
    "# Uncomment the following two lines if you want to start over!\n",
    "# for job in project:\n",
    "#     job.remove()\n",
    "\n",
    "for p in np.linspace(0.5, 5.0, 10):\n",
    "    sp = dict(N=512, sigma=1.0, seed=42, kT=1.0, p=p, tau=1.0, tauP=1.0, r_cut=2.5)\n",
    "    with project.open_job(sp):\n",
    "        init(N=sp[\"N\"])"
   ]
  },
  {
   "cell_type": "markdown",
   "metadata": {},
   "source": [
    "The `print_status()` function allows to get a quick overview of our project's *status*:"
   ]
  },
  {
   "cell_type": "code",
   "execution_count": 8,
   "metadata": {},
   "outputs": [
    {
     "data": {
      "application/vnd.jupyter.widget-view+json": {
       "model_id": "fd0761c880864b1b953f7c356f0b1e04",
       "version_major": 2,
       "version_minor": 0
      },
      "text/plain": [
       "Fetching status: 0it [00:00, ?it/s]"
      ]
     },
     "metadata": {},
     "output_type": "display_data"
    },
    {
     "data": {
      "application/vnd.jupyter.widget-view+json": {
       "model_id": "8365879515d948648135e518ccb1583d",
       "version_major": 2,
       "version_minor": 0
      },
      "text/plain": [
       "Fetching labels: 0it [00:00, ?it/s]"
      ]
     },
     "metadata": {},
     "output_type": "display_data"
    },
    {
     "name": "stdout",
     "output_type": "stream",
     "text": [
      "\n",
      "Overview:\n",
      "\n",
      "Total # of jobs: 0\n",
      "\n",
      "label\n",
      "-------\n",
      "\n",
      "\n",
      "operation\n",
      "-----------\n",
      "\n",
      "\n",
      "Detailed View:\n",
      "\n",
      "job id\n",
      "--------\n",
      "\n",
      "\n",
      "[U]:unknown [R]:registered [I]:inactive [S]:submitted [H]:held [Q]:queued [A]:active [E]:error\n",
      "\n",
      "\n"
     ]
    }
   ],
   "source": [
    "project.print_status(detailed=True, parameters=[\"p\"]);"
   ]
  },
  {
   "cell_type": "markdown",
   "metadata": {},
   "source": [
    "The next cell will attempt to execute all operations by cycling through jobs and operations until no *next operations* are defined anymore.\n",
    "\n",
    "We limit the max. number of cycles to prevent accidental infinite loops, the number of cycles is arbitrary."
   ]
  },
  {
   "cell_type": "code",
   "execution_count": null,
   "metadata": {},
   "outputs": [
    {
     "name": "stdout",
     "output_type": "stream",
     "text": [
      "execute 2a05a487f254db90b08f576d199a83b7 estimate\n",
      "execute 2a05a487f254db90b08f576d199a83b7 sample\n",
      "notice(2): Group \"all\" created containing 512 particles\n",
      "notice(2): -- Neighborlist exclusion statistics -- :\n",
      "notice(2): Particles with 0 exclusions             : 512\n",
      "notice(2): Neighbors included by diameter          : no\n",
      "notice(2): Neighbors excluded when in the same body: no\n",
      "** starting run **\n",
      "Time 00:00:06 | Step 5000 / 5000 | TPS 829.491 | ETA 00:00:00\n",
      "Average TPS: 829.258\n",
      "---------\n",
      "-- Neighborlist stats:\n",
      "308 normal updates / 50 forced updates / 0 dangerous updates\n",
      "n_neigh_min: 0 / n_neigh_max: 109 / n_neigh_avg: 53.3809\n",
      "shortest rebuild period: 4\n",
      "-- Cell list stats:\n",
      "Dimension: 2, 2, 2\n",
      "n_min    : 57 / n_max: 67 / n_avg: 64\n",
      "** run complete **\n",
      "execute 6681f083e2b03f5b9816f35502e411f7 estimate\n",
      "execute 6681f083e2b03f5b9816f35502e411f7 sample\n",
      "notice(2): Group \"all\" created containing 512 particles\n",
      "notice(2): -- Neighborlist exclusion statistics -- :\n",
      "notice(2): Particles with 0 exclusions             : 512\n",
      "notice(2): Neighbors included by diameter          : no\n",
      "notice(2): Neighbors excluded when in the same body: no\n",
      "** starting run **\n",
      "Time 00:00:09 | Step 5000 / 5000 | TPS 553.606 | ETA 00:00:00\n",
      "Average TPS: 553.4\n",
      "---------\n",
      "-- Neighborlist stats:\n",
      "314 normal updates / 50 forced updates / 0 dangerous updates\n",
      "n_neigh_min: 0 / n_neigh_max: 86 / n_neigh_avg: 43.2988\n",
      "shortest rebuild period: 3\n",
      "-- Cell list stats:\n",
      "Dimension: 2, 2, 2\n",
      "n_min    : 61 / n_max: 69 / n_avg: 64\n",
      "** run complete **\n",
      "execute 18c063206c37ab03d06de130c6ae2b70 estimate\n",
      "execute 18c063206c37ab03d06de130c6ae2b70 sample\n",
      "notice(2): Group \"all\" created containing 512 particles\n",
      "notice(2): -- Neighborlist exclusion statistics -- :\n",
      "notice(2): Particles with 0 exclusions             : 512\n",
      "notice(2): Neighbors included by diameter          : no\n",
      "notice(2): Neighbors excluded when in the same body: no\n",
      "** starting run **\n",
      "Time 00:00:05 | Step 5000 / 5000 | TPS 997.044 | ETA 00:00:00\n",
      "Average TPS: 996.888\n",
      "---------\n",
      "-- Neighborlist stats:\n",
      "305 normal updates / 50 forced updates / 0 dangerous updates\n",
      "n_neigh_min: 0 / n_neigh_max: 63 / n_neigh_avg: 29.9805\n",
      "shortest rebuild period: 3\n",
      "-- Cell list stats:\n",
      "Dimension: 3, 3, 3\n",
      "n_min    : 13 / n_max: 23 / n_avg: 18.963\n",
      "** run complete **\n",
      "execute 99f5397cf2f6250afe34927606aa2f37 estimate\n",
      "execute 99f5397cf2f6250afe34927606aa2f37 sample\n",
      "notice(2): Group \"all\" created containing 512 particles\n",
      "notice(2): -- Neighborlist exclusion statistics -- :\n",
      "notice(2): Particles with 0 exclusions             : 512\n",
      "notice(2): Neighbors included by diameter          : no\n",
      "notice(2): Neighbors excluded when in the same body: no\n",
      "** starting run **\n",
      "Time 00:00:05 | Step 5000 / 5000 | TPS 870.524 | ETA 00:00:00\n",
      "Average TPS: 870.294\n",
      "---------\n",
      "-- Neighborlist stats:\n",
      "319 normal updates / 50 forced updates / 0 dangerous updates\n",
      "n_neigh_min: 0 / n_neigh_max: 108 / n_neigh_avg: 53.0566\n",
      "shortest rebuild period: 3\n",
      "-- Cell list stats:\n",
      "Dimension: 2, 2, 2\n",
      "n_min    : 60 / n_max: 68 / n_avg: 64\n",
      "** run complete **\n",
      "execute a5d4427e8d285c78239005f740a2625b estimate\n",
      "execute a5d4427e8d285c78239005f740a2625b sample\n",
      "notice(2): Group \"all\" created containing 512 particles\n",
      "notice(2): -- Neighborlist exclusion statistics -- :\n",
      "notice(2): Particles with 0 exclusions             : 512\n",
      "notice(2): Neighbors included by diameter          : no\n",
      "notice(2): Neighbors excluded when in the same body: no\n",
      "** starting run **\n",
      "Time 00:00:05 | Step 5000 / 5000 | TPS 903.581 | ETA 00:00:00\n",
      "Average TPS: 903.441\n",
      "---------\n",
      "-- Neighborlist stats:\n",
      "318 normal updates / 50 forced updates / 0 dangerous updates\n",
      "n_neigh_min: 0 / n_neigh_max: 90 / n_neigh_avg: 44.7402\n",
      "shortest rebuild period: 2\n",
      "-- Cell list stats:\n",
      "Dimension: 2, 2, 2\n",
      "n_min    : 59 / n_max: 67 / n_avg: 64\n",
      "** run complete **\n",
      "execute 5b3c8f0fbd9458a304222d83bb82bc30 estimate\n",
      "execute 5b3c8f0fbd9458a304222d83bb82bc30 sample\n",
      "notice(2): Group \"all\" created containing 512 particles\n",
      "notice(2): -- Neighborlist exclusion statistics -- :\n",
      "notice(2): Particles with 0 exclusions             : 512\n",
      "notice(2): Neighbors included by diameter          : no\n",
      "notice(2): Neighbors excluded when in the same body: no\n",
      "** starting run **\n",
      "Time 00:00:05 | Step 5000 / 5000 | TPS 922.686 | ETA 00:00:00\n",
      "Average TPS: 922.398\n",
      "---------\n",
      "-- Neighborlist stats:\n",
      "309 normal updates / 50 forced updates / 0 dangerous updates\n",
      "n_neigh_min: 0 / n_neigh_max: 104 / n_neigh_avg: 51.2266\n",
      "shortest rebuild period: 3\n",
      "-- Cell list stats:\n",
      "Dimension: 2, 2, 2\n",
      "n_min    : 60 / n_max: 67 / n_avg: 64\n",
      "** run complete **\n",
      "execute 6ff6b952b42f0ad3e1315e137cf67cdb estimate\n",
      "execute 6ff6b952b42f0ad3e1315e137cf67cdb sample\n",
      "notice(2): Group \"all\" created containing 512 particles\n",
      "notice(2): -- Neighborlist exclusion statistics -- :\n",
      "notice(2): Particles with 0 exclusions             : 512\n",
      "notice(2): Neighbors included by diameter          : no\n",
      "notice(2): Neighbors excluded when in the same body: no\n",
      "** starting run **\n",
      "Time 00:00:05 | Step 5000 / 5000 | TPS 881.323 | ETA 00:00:00\n",
      "Average TPS: 880.969\n",
      "---------\n",
      "-- Neighborlist stats:\n",
      "312 normal updates / 50 forced updates / 0 dangerous updates\n",
      "n_neigh_min: 0 / n_neigh_max: 108 / n_neigh_avg: 52.4023\n",
      "shortest rebuild period: 4\n",
      "-- Cell list stats:\n",
      "Dimension: 2, 2, 2\n",
      "n_min    : 61 / n_max: 66 / n_avg: 64\n",
      "** run complete **\n",
      "execute c342fff540bfa0a2128efac700fc5aef estimate\n",
      "execute c342fff540bfa0a2128efac700fc5aef sample\n",
      "notice(2): Group \"all\" created containing 512 particles\n",
      "notice(2): -- Neighborlist exclusion statistics -- :\n",
      "notice(2): Particles with 0 exclusions             : 512\n",
      "notice(2): Neighbors included by diameter          : no\n",
      "notice(2): Neighbors excluded when in the same body: no\n",
      "** starting run **\n",
      "Time 00:00:05 | Step 5000 / 5000 | TPS 862.588 | ETA 00:00:00\n",
      "Average TPS: 862.436\n",
      "---------\n",
      "-- Neighborlist stats:\n",
      "309 normal updates / 50 forced updates / 0 dangerous updates\n",
      "n_neigh_min: 0 / n_neigh_max: 98 / n_neigh_avg: 47.9043\n",
      "shortest rebuild period: 3\n",
      "-- Cell list stats:\n",
      "Dimension: 2, 2, 2\n",
      "n_min    : 58 / n_max: 68 / n_avg: 64\n",
      "** run complete **\n",
      "execute a89bc9f5cceaf268f18efed936a70333 estimate\n",
      "execute a89bc9f5cceaf268f18efed936a70333 sample\n",
      "notice(2): Group \"all\" created containing 512 particles\n",
      "notice(2): -- Neighborlist exclusion statistics -- :\n",
      "notice(2): Particles with 0 exclusions             : 512\n",
      "notice(2): Neighbors included by diameter          : no\n",
      "notice(2): Neighbors excluded when in the same body: no\n",
      "** starting run **\n",
      "Time 00:00:06 | Step 5000 / 5000 | TPS 765.512 | ETA 00:00:00\n",
      "Average TPS: 765.389\n",
      "---------\n",
      "-- Neighborlist stats:\n",
      "294 normal updates / 50 forced updates / 0 dangerous updates\n",
      "n_neigh_min: 0 / n_neigh_max: 28 / n_neigh_avg: 10.2129\n",
      "shortest rebuild period: 3\n",
      "-- Cell list stats:\n",
      "Dimension: 4, 4, 4\n",
      "n_min    : 4 / n_max: 15 / n_avg: 8\n",
      "** run complete **\n",
      "execute 4ef567c185064a4b27b73f62124991c0 estimate\n",
      "execute 4ef567c185064a4b27b73f62124991c0 sample\n",
      "notice(2): Group \"all\" created containing 512 particles\n",
      "notice(2): -- Neighborlist exclusion statistics -- :\n",
      "notice(2): Particles with 0 exclusions             : 512\n",
      "notice(2): Neighbors included by diameter          : no\n",
      "notice(2): Neighbors excluded when in the same body: no\n"
     ]
    }
   ],
   "source": [
    "for i in range(3):\n",
    "    for job in project:\n",
    "        for j in range(5):\n",
    "            next_op = project.next_operation(job)\n",
    "            if next_op is None:\n",
    "                break\n",
    "            print(\"execute\", job, next_op)\n",
    "            globals()[next_op](job)\n",
    "            assert next_op != project.next_operation(job)\n",
    "        else:\n",
    "            raise RuntimeError(\"Reached max. # cycle limit!\")"
   ]
  },
  {
   "cell_type": "markdown",
   "metadata": {},
   "source": [
    "Let's double check the project status."
   ]
  },
  {
   "cell_type": "code",
   "execution_count": null,
   "metadata": {},
   "outputs": [],
   "source": [
    "project.print_status();"
   ]
  },
  {
   "cell_type": "markdown",
   "metadata": {},
   "source": [
    "After running all operations we can make a brief examination of the collected data."
   ]
  },
  {
   "cell_type": "code",
   "execution_count": null,
   "metadata": {},
   "outputs": [],
   "source": [
    "def get_volume(job):\n",
    "    log = np.genfromtxt(job.fn(\"dump.log\"), names=True)\n",
    "    N = len(log)\n",
    "    return log[int(0.5 * N) :][\"volume\"].mean(axis=0)\n",
    "\n",
    "\n",
    "for job in project:\n",
    "    print(job.statepoint()[\"p\"], get_volume(job), job.document.get(\"V\"))"
   ]
  },
  {
   "cell_type": "markdown",
   "metadata": {},
   "source": [
    "For a better presentation of the results we need to aggregate all results and sort them by pressure.\n",
    "\n",
    "*The following code requires matplotlib.*"
   ]
  },
  {
   "cell_type": "code",
   "execution_count": null,
   "metadata": {},
   "outputs": [],
   "source": [
    "%matplotlib inline\n",
    "# Display plots within the notebook\n",
    "\n",
    "from matplotlib import pyplot as plt\n",
    "\n",
    "V = dict()\n",
    "V_idg = dict()\n",
    "\n",
    "for job in project:\n",
    "    V[job.statepoint()[\"p\"]] = get_volume(job)\n",
    "    V_idg[job.statepoint()[\"p\"]] = job.document[\"V\"]\n",
    "\n",
    "p = sorted(V.keys())\n",
    "V = [V[p_] for p_ in p]\n",
    "V_idg = [V_idg[p_] for p_ in p]\n",
    "\n",
    "plt.plot(p, V, label=\"LJ\")\n",
    "plt.plot(p, V_idg, label=\"idG\")\n",
    "plt.xlabel(r\"pressure [$\\epsilon / \\sigma^3$]\")\n",
    "plt.ylabel(r\"volume [$\\sigma^3$]\")\n",
    "plt.legend()\n",
    "plt.show()"
   ]
  },
  {
   "cell_type": "markdown",
   "metadata": {},
   "source": [
    "Uncomment and execute the following line to remove all data and start over."
   ]
  },
  {
   "cell_type": "code",
   "execution_count": null,
   "metadata": {},
   "outputs": [],
   "source": [
    "# %rm -r projects/tutorial-signac-flow-hoomd-blue/workspace"
   ]
  },
  {
   "cell_type": "code",
   "execution_count": null,
   "metadata": {},
   "outputs": [],
   "source": []
  }
 ],
 "metadata": {
  "kernelspec": {
   "display_name": "Python 3",
   "language": "python",
   "name": "python3"
  },
  "language_info": {
   "codemirror_mode": {
    "name": "ipython",
    "version": 3
   },
   "file_extension": ".py",
   "mimetype": "text/x-python",
   "name": "python",
   "nbconvert_exporter": "python",
   "pygments_lexer": "ipython3",
   "version": "3.8.6"
  }
 },
 "nbformat": 4,
 "nbformat_minor": 4
}
